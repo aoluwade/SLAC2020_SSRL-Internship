{
 "cells": [
  {
   "cell_type": "code",
   "execution_count": 13,
   "metadata": {},
   "outputs": [
    {
     "name": "stderr",
     "output_type": "stream",
     "text": [
      "\u001b[32m\u001b[1m  Resolving\u001b[22m\u001b[39m package versions...\n",
      "\u001b[32m\u001b[1mUpdating\u001b[22m\u001b[39m `C:\\Users\\oluwa\\.julia\\environments\\v1.5\\Project.toml`\n",
      " \u001b[90m [e40cd9e2] \u001b[39m\u001b[93m~ NMFk v0.7.4 `https://github.com/TensorDecompositions/NMFk.jl.git#master` ⇒ v0.7.3\u001b[39m\n",
      "\u001b[32m\u001b[1mUpdating\u001b[22m\u001b[39m `C:\\Users\\oluwa\\.julia\\environments\\v1.5\\Manifest.toml`\n",
      " \u001b[90m [e40cd9e2] \u001b[39m\u001b[93m~ NMFk v0.7.4 `https://github.com/TensorDecompositions/NMFk.jl.git#master` ⇒ v0.7.3\u001b[39m\n",
      "\u001b[32m\u001b[1m   Updating\u001b[22m\u001b[39m git-repo `https://github.com/TensorDecompositions/NMFk.jl.git`\n"
     ]
    },
    {
     "name": "stdout",
     "output_type": "stream",
     "text": [
      "\u001b[?25l\u001b[2K\u001b[?25h"
     ]
    },
    {
     "name": "stderr",
     "output_type": "stream",
     "text": [
      "\u001b[32m\u001b[1m  Resolving\u001b[22m\u001b[39m package versions...\n",
      "\u001b[32m\u001b[1mUpdating\u001b[22m\u001b[39m `C:\\Users\\oluwa\\.julia\\environments\\v1.5\\Project.toml`\n",
      " \u001b[90m [e40cd9e2] \u001b[39m\u001b[93m~ NMFk v0.7.3 ⇒ v0.7.4 `https://github.com/TensorDecompositions/NMFk.jl.git#master`\u001b[39m\n",
      "\u001b[32m\u001b[1mUpdating\u001b[22m\u001b[39m `C:\\Users\\oluwa\\.julia\\environments\\v1.5\\Manifest.toml`\n",
      " \u001b[90m [e40cd9e2] \u001b[39m\u001b[93m~ NMFk v0.7.3 ⇒ v0.7.4 `https://github.com/TensorDecompositions/NMFk.jl.git#master`\u001b[39m\n",
      "\u001b[32m\u001b[1m  Resolving\u001b[22m\u001b[39m package versions...\n",
      "\u001b[32m\u001b[1mNo Changes\u001b[22m\u001b[39m to `C:\\Users\\oluwa\\.julia\\environments\\v1.5\\Project.toml`\n",
      "\u001b[32m\u001b[1mNo Changes\u001b[22m\u001b[39m to `C:\\Users\\oluwa\\.julia\\environments\\v1.5\\Manifest.toml`\n",
      "\u001b[32m\u001b[1m  Resolving\u001b[22m\u001b[39m package versions...\n",
      "\u001b[32m\u001b[1mNo Changes\u001b[22m\u001b[39m to `C:\\Users\\oluwa\\.julia\\environments\\v1.5\\Project.toml`\n",
      "\u001b[32m\u001b[1mNo Changes\u001b[22m\u001b[39m to `C:\\Users\\oluwa\\.julia\\environments\\v1.5\\Manifest.toml`\n"
     ]
    }
   ],
   "source": [
    "import Pkg\n",
    "Pkg.add(\"NMFk\")\n",
    "Pkg.add(Pkg.PackageSpec(name=\"NMFk\", rev=\"master\")) \n",
    "Pkg.add(\"CSV\")\n",
    "Pkg.add(\"DataFrames\")"
   ]
  },
  {
   "cell_type": "code",
   "execution_count": 11,
   "metadata": {},
   "outputs": [
    {
     "data": {
      "text/plain": [
       "15×3 Array{Float64,2}:\n",
       " 0.0262139  0.734715   0.629842\n",
       " 0.832895   0.582803   0.505328\n",
       " 0.454857   0.903076   0.468694\n",
       " 0.264139   0.653499   0.386228\n",
       " 0.0145443  0.54363    0.496411\n",
       " 0.856538   0.841324   0.86342\n",
       " 0.161013   0.202963   0.812908\n",
       " 0.853803   0.589871   0.786268\n",
       " 0.741785   0.0506357  0.394891\n",
       " 0.606835   0.244531   0.669248\n",
       " 0.28472    0.0486793  0.469239\n",
       " 0.2047     0.0555251  0.923728\n",
       " 0.770268   0.475427   0.723193\n",
       " 0.451859   0.0414841  0.534223\n",
       " 0.306764   0.485615   0.871274"
      ]
     },
     "execution_count": 11,
     "metadata": {},
     "output_type": "execute_result"
    }
   ],
   "source": [
    "a=rand(15)\n",
    "b=rand(15)\n",
    "c=rand(15)\n",
    "W=[a b c]"
   ]
  },
  {
   "cell_type": "code",
   "execution_count": 7,
   "metadata": {
    "scrolled": true
   },
   "outputs": [
    {
     "data": {
      "text/html": [
       "<table class=\"data-frame\"><thead><tr><th></th><th>Column1</th><th>Column2</th><th>Column3</th><th>Column4</th><th>Column5</th><th>Column6</th><th>Column7</th><th>Column8</th><th>Column9</th></tr><tr><th></th><th>Float64</th><th>Float64</th><th>Float64</th><th>Float64</th><th>Float64</th><th>Float64</th><th>Float64</th><th>Float64</th><th>Float64</th></tr></thead><tbody><p>800 rows × 177 columns (omitted printing of 168 columns)</p><tr><th>1</th><td>13.3354</td><td>13.3617</td><td>14.0912</td><td>13.4892</td><td>10.1713</td><td>17.6655</td><td>22.9405</td><td>21.3116</td><td>22.2101</td></tr><tr><th>2</th><td>15.5868</td><td>14.3694</td><td>15.3879</td><td>15.2665</td><td>12.1471</td><td>18.9691</td><td>24.0042</td><td>22.2493</td><td>23.8865</td></tr><tr><th>3</th><td>17.2726</td><td>15.5413</td><td>16.7174</td><td>16.9968</td><td>14.1521</td><td>19.9957</td><td>25.2904</td><td>22.669</td><td>24.8008</td></tr><tr><th>4</th><td>18.1753</td><td>17.5695</td><td>18.5489</td><td>18.43</td><td>16.2438</td><td>20.8767</td><td>26.711</td><td>23.0444</td><td>25.2802</td></tr><tr><th>5</th><td>18.8221</td><td>19.5064</td><td>20.5336</td><td>19.5101</td><td>17.6391</td><td>21.9629</td><td>27.9024</td><td>24.0484</td><td>26.2263</td></tr><tr><th>6</th><td>19.5278</td><td>20.9785</td><td>21.9179</td><td>20.4873</td><td>18.6118</td><td>23.3122</td><td>28.6095</td><td>25.1829</td><td>27.1641</td></tr><tr><th>7</th><td>20.4328</td><td>21.3795</td><td>22.6376</td><td>21.5753</td><td>18.8965</td><td>24.4355</td><td>28.916</td><td>26.3815</td><td>27.5673</td></tr><tr><th>8</th><td>21.836</td><td>21.8622</td><td>22.9056</td><td>22.5362</td><td>19.3225</td><td>25.281</td><td>29.8785</td><td>27.1003</td><td>27.9569</td></tr><tr><th>9</th><td>23.2383</td><td>22.4392</td><td>23.4094</td><td>23.3586</td><td>19.7954</td><td>25.5357</td><td>30.6698</td><td>27.627</td><td>28.8625</td></tr><tr><th>10</th><td>24.1476</td><td>23.3006</td><td>24.0395</td><td>23.5176</td><td>20.613</td><td>25.5277</td><td>31.0287</td><td>28.5043</td><td>29.9056</td></tr><tr><th>11</th><td>23.9513</td><td>24.1974</td><td>24.3544</td><td>23.4155</td><td>21.4188</td><td>25.8289</td><td>30.1159</td><td>29.5949</td><td>30.7434</td></tr><tr><th>12</th><td>23.3491</td><td>24.6803</td><td>24.9067</td><td>23.7499</td><td>21.8362</td><td>26.529</td><td>29.3565</td><td>30.4342</td><td>30.7459</td></tr><tr><th>13</th><td>23.1662</td><td>25.128</td><td>25.2399</td><td>24.1846</td><td>22.2352</td><td>27.0915</td><td>29.1186</td><td>31.0042</td><td>30.332</td></tr><tr><th>14</th><td>23.8451</td><td>25.9801</td><td>25.3834</td><td>25.0367</td><td>22.182</td><td>27.2561</td><td>29.2638</td><td>31.4247</td><td>30.0332</td></tr><tr><th>15</th><td>24.9053</td><td>26.5807</td><td>25.2926</td><td>25.5771</td><td>22.0887</td><td>26.8544</td><td>29.0348</td><td>31.5445</td><td>30.2045</td></tr><tr><th>16</th><td>25.8626</td><td>27.025</td><td>25.2287</td><td>25.5313</td><td>22.0648</td><td>25.9449</td><td>28.3373</td><td>31.5734</td><td>30.7191</td></tr><tr><th>17</th><td>26.026</td><td>26.8679</td><td>25.7436</td><td>25.1386</td><td>21.9251</td><td>25.1261</td><td>27.6099</td><td>31.3724</td><td>30.5029</td></tr><tr><th>18</th><td>25.5542</td><td>26.32</td><td>26.5184</td><td>24.8685</td><td>21.6508</td><td>24.2405</td><td>27.4031</td><td>30.8605</td><td>30.1538</td></tr><tr><th>19</th><td>25.1835</td><td>26.0957</td><td>27.3612</td><td>24.8345</td><td>21.3307</td><td>23.7708</td><td>27.3806</td><td>30.4981</td><td>29.9576</td></tr><tr><th>20</th><td>24.6502</td><td>26.0414</td><td>27.4525</td><td>24.5931</td><td>21.2986</td><td>23.6654</td><td>27.1686</td><td>29.9474</td><td>29.8662</td></tr><tr><th>21</th><td>24.3871</td><td>25.7139</td><td>26.7131</td><td>24.2046</td><td>21.1335</td><td>23.6777</td><td>26.698</td><td>29.8235</td><td>29.502</td></tr><tr><th>22</th><td>24.2332</td><td>25.1827</td><td>25.9026</td><td>23.8987</td><td>20.9259</td><td>23.4879</td><td>25.8623</td><td>29.5357</td><td>29.0028</td></tr><tr><th>23</th><td>24.184</td><td>24.441</td><td>25.1932</td><td>23.9566</td><td>20.3679</td><td>22.9257</td><td>25.3981</td><td>29.0887</td><td>28.2508</td></tr><tr><th>24</th><td>23.9668</td><td>24.3262</td><td>24.3873</td><td>23.6476</td><td>19.6941</td><td>21.8166</td><td>24.835</td><td>28.37</td><td>27.6225</td></tr><tr><th>25</th><td>23.5367</td><td>24.6054</td><td>23.7358</td><td>23.0295</td><td>19.253</td><td>20.5972</td><td>24.1875</td><td>27.7502</td><td>27.2585</td></tr><tr><th>26</th><td>22.9766</td><td>24.3155</td><td>23.4311</td><td>22.793</td><td>18.9557</td><td>19.6682</td><td>23.71</td><td>27.6097</td><td>26.6357</td></tr><tr><th>27</th><td>22.5088</td><td>23.5775</td><td>23.0737</td><td>22.7854</td><td>18.5966</td><td>18.9733</td><td>23.0755</td><td>27.1669</td><td>25.9476</td></tr><tr><th>28</th><td>22.1033</td><td>22.5283</td><td>22.4673</td><td>22.4567</td><td>17.9249</td><td>18.487</td><td>22.8812</td><td>26.2874</td><td>25.1828</td></tr><tr><th>29</th><td>21.7749</td><td>21.5472</td><td>21.9642</td><td>21.847</td><td>17.3293</td><td>18.003</td><td>22.1857</td><td>25.7354</td><td>24.2665</td></tr><tr><th>30</th><td>21.2998</td><td>21.0058</td><td>21.6306</td><td>21.0676</td><td>17.1438</td><td>17.2957</td><td>20.932</td><td>24.6651</td><td>23.4377</td></tr><tr><th>&vellip;</th><td>&vellip;</td><td>&vellip;</td><td>&vellip;</td><td>&vellip;</td><td>&vellip;</td><td>&vellip;</td><td>&vellip;</td><td>&vellip;</td><td>&vellip;</td></tr></tbody></table>"
      ],
      "text/latex": [
       "\\begin{tabular}{r|cccccccccc}\n",
       "\t& Column1 & Column2 & Column3 & Column4 & Column5 & Column6 & Column7 & Column8 & Column9 & \\\\\n",
       "\t\\hline\n",
       "\t& Float64 & Float64 & Float64 & Float64 & Float64 & Float64 & Float64 & Float64 & Float64 & \\\\\n",
       "\t\\hline\n",
       "\t1 & 13.3354 & 13.3617 & 14.0912 & 13.4892 & 10.1713 & 17.6655 & 22.9405 & 21.3116 & 22.2101 & $\\dots$ \\\\\n",
       "\t2 & 15.5868 & 14.3694 & 15.3879 & 15.2665 & 12.1471 & 18.9691 & 24.0042 & 22.2493 & 23.8865 & $\\dots$ \\\\\n",
       "\t3 & 17.2726 & 15.5413 & 16.7174 & 16.9968 & 14.1521 & 19.9957 & 25.2904 & 22.669 & 24.8008 & $\\dots$ \\\\\n",
       "\t4 & 18.1753 & 17.5695 & 18.5489 & 18.43 & 16.2438 & 20.8767 & 26.711 & 23.0444 & 25.2802 & $\\dots$ \\\\\n",
       "\t5 & 18.8221 & 19.5064 & 20.5336 & 19.5101 & 17.6391 & 21.9629 & 27.9024 & 24.0484 & 26.2263 & $\\dots$ \\\\\n",
       "\t6 & 19.5278 & 20.9785 & 21.9179 & 20.4873 & 18.6118 & 23.3122 & 28.6095 & 25.1829 & 27.1641 & $\\dots$ \\\\\n",
       "\t7 & 20.4328 & 21.3795 & 22.6376 & 21.5753 & 18.8965 & 24.4355 & 28.916 & 26.3815 & 27.5673 & $\\dots$ \\\\\n",
       "\t8 & 21.836 & 21.8622 & 22.9056 & 22.5362 & 19.3225 & 25.281 & 29.8785 & 27.1003 & 27.9569 & $\\dots$ \\\\\n",
       "\t9 & 23.2383 & 22.4392 & 23.4094 & 23.3586 & 19.7954 & 25.5357 & 30.6698 & 27.627 & 28.8625 & $\\dots$ \\\\\n",
       "\t10 & 24.1476 & 23.3006 & 24.0395 & 23.5176 & 20.613 & 25.5277 & 31.0287 & 28.5043 & 29.9056 & $\\dots$ \\\\\n",
       "\t11 & 23.9513 & 24.1974 & 24.3544 & 23.4155 & 21.4188 & 25.8289 & 30.1159 & 29.5949 & 30.7434 & $\\dots$ \\\\\n",
       "\t12 & 23.3491 & 24.6803 & 24.9067 & 23.7499 & 21.8362 & 26.529 & 29.3565 & 30.4342 & 30.7459 & $\\dots$ \\\\\n",
       "\t13 & 23.1662 & 25.128 & 25.2399 & 24.1846 & 22.2352 & 27.0915 & 29.1186 & 31.0042 & 30.332 & $\\dots$ \\\\\n",
       "\t14 & 23.8451 & 25.9801 & 25.3834 & 25.0367 & 22.182 & 27.2561 & 29.2638 & 31.4247 & 30.0332 & $\\dots$ \\\\\n",
       "\t15 & 24.9053 & 26.5807 & 25.2926 & 25.5771 & 22.0887 & 26.8544 & 29.0348 & 31.5445 & 30.2045 & $\\dots$ \\\\\n",
       "\t16 & 25.8626 & 27.025 & 25.2287 & 25.5313 & 22.0648 & 25.9449 & 28.3373 & 31.5734 & 30.7191 & $\\dots$ \\\\\n",
       "\t17 & 26.026 & 26.8679 & 25.7436 & 25.1386 & 21.9251 & 25.1261 & 27.6099 & 31.3724 & 30.5029 & $\\dots$ \\\\\n",
       "\t18 & 25.5542 & 26.32 & 26.5184 & 24.8685 & 21.6508 & 24.2405 & 27.4031 & 30.8605 & 30.1538 & $\\dots$ \\\\\n",
       "\t19 & 25.1835 & 26.0957 & 27.3612 & 24.8345 & 21.3307 & 23.7708 & 27.3806 & 30.4981 & 29.9576 & $\\dots$ \\\\\n",
       "\t20 & 24.6502 & 26.0414 & 27.4525 & 24.5931 & 21.2986 & 23.6654 & 27.1686 & 29.9474 & 29.8662 & $\\dots$ \\\\\n",
       "\t21 & 24.3871 & 25.7139 & 26.7131 & 24.2046 & 21.1335 & 23.6777 & 26.698 & 29.8235 & 29.502 & $\\dots$ \\\\\n",
       "\t22 & 24.2332 & 25.1827 & 25.9026 & 23.8987 & 20.9259 & 23.4879 & 25.8623 & 29.5357 & 29.0028 & $\\dots$ \\\\\n",
       "\t23 & 24.184 & 24.441 & 25.1932 & 23.9566 & 20.3679 & 22.9257 & 25.3981 & 29.0887 & 28.2508 & $\\dots$ \\\\\n",
       "\t24 & 23.9668 & 24.3262 & 24.3873 & 23.6476 & 19.6941 & 21.8166 & 24.835 & 28.37 & 27.6225 & $\\dots$ \\\\\n",
       "\t25 & 23.5367 & 24.6054 & 23.7358 & 23.0295 & 19.253 & 20.5972 & 24.1875 & 27.7502 & 27.2585 & $\\dots$ \\\\\n",
       "\t26 & 22.9766 & 24.3155 & 23.4311 & 22.793 & 18.9557 & 19.6682 & 23.71 & 27.6097 & 26.6357 & $\\dots$ \\\\\n",
       "\t27 & 22.5088 & 23.5775 & 23.0737 & 22.7854 & 18.5966 & 18.9733 & 23.0755 & 27.1669 & 25.9476 & $\\dots$ \\\\\n",
       "\t28 & 22.1033 & 22.5283 & 22.4673 & 22.4567 & 17.9249 & 18.487 & 22.8812 & 26.2874 & 25.1828 & $\\dots$ \\\\\n",
       "\t29 & 21.7749 & 21.5472 & 21.9642 & 21.847 & 17.3293 & 18.003 & 22.1857 & 25.7354 & 24.2665 & $\\dots$ \\\\\n",
       "\t30 & 21.2998 & 21.0058 & 21.6306 & 21.0676 & 17.1438 & 17.2957 & 20.932 & 24.6651 & 23.4377 & $\\dots$ \\\\\n",
       "\t$\\dots$ & $\\dots$ & $\\dots$ & $\\dots$ & $\\dots$ & $\\dots$ & $\\dots$ & $\\dots$ & $\\dots$ & $\\dots$ &  \\\\\n",
       "\\end{tabular}\n"
      ],
      "text/plain": [
       "800×177 DataFrame. Omitted printing of 170 columns\n",
       "│ Row │ Column1 │ Column2 │ Column3 │ Column4 │ Column5 │ Column6 │ Column7 │\n",
       "│     │ \u001b[90mFloat64\u001b[39m │ \u001b[90mFloat64\u001b[39m │ \u001b[90mFloat64\u001b[39m │ \u001b[90mFloat64\u001b[39m │ \u001b[90mFloat64\u001b[39m │ \u001b[90mFloat64\u001b[39m │ \u001b[90mFloat64\u001b[39m │\n",
       "├─────┼─────────┼─────────┼─────────┼─────────┼─────────┼─────────┼─────────┤\n",
       "│ 1   │ 13.3354 │ 13.3617 │ 14.0912 │ 13.4892 │ 10.1713 │ 17.6655 │ 22.9405 │\n",
       "│ 2   │ 15.5868 │ 14.3694 │ 15.3879 │ 15.2665 │ 12.1471 │ 18.9691 │ 24.0042 │\n",
       "│ 3   │ 17.2726 │ 15.5413 │ 16.7174 │ 16.9968 │ 14.1521 │ 19.9957 │ 25.2904 │\n",
       "│ 4   │ 18.1753 │ 17.5695 │ 18.5489 │ 18.43   │ 16.2438 │ 20.8767 │ 26.711  │\n",
       "│ 5   │ 18.8221 │ 19.5064 │ 20.5336 │ 19.5101 │ 17.6391 │ 21.9629 │ 27.9024 │\n",
       "│ 6   │ 19.5278 │ 20.9785 │ 21.9179 │ 20.4873 │ 18.6118 │ 23.3122 │ 28.6095 │\n",
       "│ 7   │ 20.4328 │ 21.3795 │ 22.6376 │ 21.5753 │ 18.8965 │ 24.4355 │ 28.916  │\n",
       "│ 8   │ 21.836  │ 21.8622 │ 22.9056 │ 22.5362 │ 19.3225 │ 25.281  │ 29.8785 │\n",
       "│ 9   │ 23.2383 │ 22.4392 │ 23.4094 │ 23.3586 │ 19.7954 │ 25.5357 │ 30.6698 │\n",
       "│ 10  │ 24.1476 │ 23.3006 │ 24.0395 │ 23.5176 │ 20.613  │ 25.5277 │ 31.0287 │\n",
       "⋮\n",
       "│ 790 │ 10.8468 │ 10.7017 │ 11.799  │ 11.5754 │ 9.57854 │ 15.6741 │ 20.5407 │\n",
       "│ 791 │ 10.7138 │ 11.0422 │ 11.7253 │ 11.4745 │ 9.4075  │ 16.2717 │ 20.7889 │\n",
       "│ 792 │ 11.0465 │ 11.4589 │ 12.1506 │ 11.728  │ 9.3099  │ 17.5424 │ 21.3302 │\n",
       "│ 793 │ 12.0299 │ 11.7871 │ 12.9184 │ 12.41   │ 9.67614 │ 19.2406 │ 22.1914 │\n",
       "│ 794 │ 13.1165 │ 12.4721 │ 14.1213 │ 13.475  │ 10.819  │ 21.5589 │ 23.4582 │\n",
       "│ 795 │ 14.2867 │ 13.5885 │ 15.6074 │ 14.8663 │ 12.4339 │ 23.8891 │ 24.906  │\n",
       "│ 796 │ 15.8527 │ 15.7202 │ 18.133  │ 17.3529 │ 14.7761 │ 26.2314 │ 26.8947 │\n",
       "│ 797 │ 17.7837 │ 18.9973 │ 22.0015 │ 21.0542 │ 18.3831 │ 28.8693 │ 29.9915 │\n",
       "│ 798 │ 20.6106 │ 23.3801 │ 26.6767 │ 26.4074 │ 23.5415 │ 31.4453 │ 33.8616 │\n",
       "│ 799 │ 24.7543 │ 29.0139 │ 32.6282 │ 33.2932 │ 30.2351 │ 33.9162 │ 38.1788 │\n",
       "│ 800 │ 30.1862 │ 35.6685 │ 39.9088 │ 42.4277 │ 38.7657 │ 36.3488 │ 42.8256 │"
      ]
     },
     "execution_count": 7,
     "metadata": {},
     "output_type": "execute_result"
    }
   ],
   "source": [
    "using CSV\n",
    "data = CSV.read(\"C:\\\\Users\\\\oluwa\\\\Jupyter notebooks\\\\TiNiSn_500C_dataset.csv\",header=false)"
   ]
  },
  {
   "cell_type": "code",
   "execution_count": 4,
   "metadata": {},
   "outputs": [
    {
     "data": {
      "text/plain": [
       "800×177 Array{Float64,2}:\n",
       " 13.3354  13.3617  14.0912  13.4892  …   4.8545    3.53928   3.19028\n",
       " 15.5868  14.3694  15.3879  15.2665      6.64253   5.70121   4.49716\n",
       " 17.2726  15.5413  16.7174  16.9968      8.40752   7.52391   5.19522\n",
       " 18.1753  17.5695  18.5489  18.43       10.0462    9.39657   6.22662\n",
       " 18.8221  19.5064  20.5336  19.5101     11.3074   10.9702    7.95583\n",
       " 19.5278  20.9785  21.9179  20.4873  …  12.1478   11.971     9.93564\n",
       " 20.4328  21.3795  22.6376  21.5753     12.9441   12.8916   11.3299\n",
       " 21.836   21.8622  22.9056  22.5362     13.8334   13.9521   12.1505\n",
       " 23.2383  22.4392  23.4094  23.3586     14.8775   15.3043   13.1906\n",
       " 24.1476  23.3006  24.0395  23.5176     15.8355   16.4993   14.5768\n",
       " 23.9513  24.1974  24.3544  23.4155  …  16.7602   17.1326   16.1272\n",
       " 23.3491  24.6803  24.9067  23.7499     17.9213   17.6213   17.1586\n",
       " 23.1662  25.128   25.2399  24.1846     18.9612   18.3005   17.2415\n",
       "  ⋮                                  ⋱             ⋮        \n",
       " 10.9382  10.971   12.1391  11.9924      7.4981    4.72658   3.80339\n",
       " 10.8468  10.7017  11.799   11.5754      6.60545   4.11186   3.45918\n",
       " 10.7138  11.0422  11.7253  11.4745  …   5.98055   3.80303   3.27306\n",
       " 11.0465  11.4589  12.1506  11.728       5.74065   3.6872    3.22463\n",
       " 12.0299  11.7871  12.9184  12.41        5.54396   3.66567   3.28476\n",
       " 13.1165  12.4721  14.1213  13.475       5.35801   3.83697   3.55083\n",
       " 14.2867  13.5885  15.6074  14.8663      4.96533   3.91676   3.651\n",
       " 15.8527  15.7202  18.133   17.3529  …   4.56427   3.92721   3.60754\n",
       " 17.7837  18.9973  22.0015  21.0542      4.19421   3.58452   3.50994\n",
       " 20.6106  23.3801  26.6767  26.4074      3.68062   3.30452   3.28056\n",
       " 24.7543  29.0139  32.6282  33.2932      3.23036   2.88906   2.79182\n",
       " 30.1862  35.6685  39.9088  42.4277      2.73694   2.33061   2.03651"
      ]
     },
     "execution_count": 4,
     "metadata": {},
     "output_type": "execute_result"
    }
   ],
   "source": [
    "new_data = convert(Matrix,data)"
   ]
  },
  {
   "cell_type": "code",
   "execution_count": 5,
   "metadata": {
    "scrolled": true
   },
   "outputs": [
    {
     "data": {
      "text/plain": [
       "(800, 177)"
      ]
     },
     "execution_count": 5,
     "metadata": {},
     "output_type": "execute_result"
    }
   ],
   "source": [
    "size(data)"
   ]
  },
  {
   "cell_type": "code",
   "execution_count": 16,
   "metadata": {},
   "outputs": [
    {
     "data": {
      "text/plain": [
       "2"
      ]
     },
     "execution_count": 16,
     "metadata": {},
     "output_type": "execute_result"
    }
   ],
   "source": [
    "ndims(data)"
   ]
  },
  {
   "cell_type": "code",
   "execution_count": 17,
   "metadata": {
    "scrolled": true
   },
   "outputs": [
    {
     "name": "stderr",
     "output_type": "stream",
     "text": [
      "\u001b[32m\u001b[1m  Resolving\u001b[22m\u001b[39m package versions...\n",
      "\u001b[32m\u001b[1mUpdating\u001b[22m\u001b[39m `C:\\Users\\oluwa\\.julia\\environments\\v1.5\\Project.toml`\n",
      " \u001b[90m [e40cd9e2] \u001b[39m\u001b[93m~ NMFk v0.7.4 `https://github.com/TensorDecompositions/NMFk.jl.git#master` ⇒ v0.7.3\u001b[39m\n",
      "\u001b[32m\u001b[1mUpdating\u001b[22m\u001b[39m `C:\\Users\\oluwa\\.julia\\environments\\v1.5\\Manifest.toml`\n",
      " \u001b[90m [e40cd9e2] \u001b[39m\u001b[93m~ NMFk v0.7.4 `https://github.com/TensorDecompositions/NMFk.jl.git#master` ⇒ v0.7.3\u001b[39m\n"
     ]
    }
   ],
   "source": [
    "Pkg.add(\"NMFk\")"
   ]
  },
  {
   "cell_type": "code",
   "execution_count": 18,
   "metadata": {},
   "outputs": [],
   "source": [
    "import NMFk"
   ]
  },
  {
   "cell_type": "code",
   "execution_count": null,
   "metadata": {},
   "outputs": [],
   "source": [
    "a = rand(15)\n",
    "b = rand(15)\n",
    "c = rand(15)\n",
    "W = [a b c]\n",
    "H = [1 10 0 0 1; 0 1 1 5 2; 3 0 0 1 5]\n",
    "X = W * H"
   ]
  },
  {
   "cell_type": "code",
   "execution_count": null,
   "metadata": {
    "scrolled": true
   },
   "outputs": [],
   "source": [
    "We, He, fitquality, robustness, aic, kopt = NMFk.execute(new_data, 2:11; save=false, method=:simple);"
   ]
  },
  {
   "cell_type": "code",
   "execution_count": 20,
   "metadata": {
    "scrolled": true
   },
   "outputs": [
    {
     "name": "stdout",
     "output_type": "stream",
     "text": [
      "\n",
      "OF: min 1.3318403491471764e8 max 1.3318869076061708e8 mean 1.3318620753800592e8 std 1768.5872433422444\n",
      "Worst correlation by columns: -29.516783556018087\n",
      "Worst correlation by rows: 614.8470457388711\n",
      "Worst norm by columns: 0.3133731808391417\n",
      "Worst norm by rows: 0.1320717313305895\n",
      "Signals:  2 Fit: 1.33184e+08 Silhouette:    0.9999989 AIC:     973369.7\n",
      "\n",
      "OF: min 6.6733817089635685e7 max 6.680893815869873e7 mean 6.6774451463553585e7 std 20856.17569601365\n",
      "Worst correlation by columns: 0.6361229596497834\n",
      "Worst correlation by rows: 567.7023481003907\n",
      "Worst norm by columns: 0.21622649245258663\n",
      "Worst norm by rows: 0.17993489210986297\n",
      "Signals:  3 Fit: 6.673382e+07 Silhouette:     0.999595 AIC:     877475.3\n",
      "\n",
      "OF: min 4.7064385142617874e7 max 4.711609969853307e7 mean 4.7097662659022555e7 std 17717.852946930852\n",
      "Worst correlation by columns: 0.5897777730005024\n",
      "Worst correlation by rows: 545.7555321755085\n",
      "Worst norm by columns: 0.20799278945213834\n",
      "Worst norm by rows: 0.13090984015625814\n",
      "Signals:  4 Fit: 4.706439e+07 Silhouette:    0.9969589 AIC:     829983.2\n",
      "\n",
      "OF: min 3.3018089837304667e7 max 3.410034083971305e7 mean 3.370835604650843e7 std 360988.6814783694\n",
      "Worst correlation by columns: 2.795341312329128\n",
      "Worst correlation by rows: 547.6399429987534\n",
      "Worst norm by columns: 0.2444291422593025\n",
      "Worst norm by rows: 0.15365774425565817\n",
      "Signals:  5 Fit: 3.301809e+07 Silhouette:    0.2239713 AIC:     781745.5\n",
      "\n",
      "OF: min 2.0345190663116213e7 max 2.9539906223789692e7 mean 2.223601392602729e7 std 3.675239305693907e6\n",
      "Worst correlation by columns: 2.9023822143726825\n",
      "Worst correlation by rows: 542.9421925938335\n",
      "Worst norm by columns: 0.1995353429338387\n",
      "Worst norm by rows: 0.17118351764272002\n",
      "Signals:  6 Fit: 2.034519e+07 Silhouette:    0.2695724 AIC:     715135.3\n",
      "\n",
      "OF: min 1.6288532190541143e7 max 1.7233864376480192e7 mean 1.6517667131599706e7 std 345275.8346609417\n",
      "Worst correlation by columns: 3.0992926970128596\n",
      "Worst correlation by rows: 552.1168122201652\n",
      "Worst norm by columns: 0.2139091385011073\n",
      "Worst norm by rows: 0.17986063240325575\n",
      "Signals:  7 Fit: 1.628853e+07 Silhouette:    0.2494632 AIC:     685599.8\n",
      "\n",
      "OF: min 1.3321389254856668e7 max 1.4741441658529706e7 mean 1.417494084453637e7 std 640839.289309385\n",
      "Worst correlation by columns: 3.585574807713135\n",
      "Worst correlation by rows: 551.7489518129807\n",
      "Worst norm by columns: 0.20800556088878225\n",
      "Worst norm by rows: 0.20412085153404877\n",
      "Signals:  8 Fit: 1.332139e+07 Silhouette:   -0.2186574 AIC:     659079.4\n",
      "\n",
      "OF: min 1.1343894609019808e7 max 1.2886210603896394e7 mean 1.2168509968942951e7 std 533402.8805946847\n",
      "Worst correlation by columns: 4.72195228545981\n",
      "Worst correlation by rows: 595.342524670186\n",
      "Worst norm by columns: 0.2281759396983841\n",
      "Worst norm by rows: 0.21463740596020167\n",
      "Signals:  9 Fit: 1.134389e+07 Silhouette:   -0.3763582 AIC:     638279.5\n",
      "\n",
      "OF: min 9.534602835046895e6 max 1.162797493151732e7 mean 1.0463654636104563e7 std 639493.3493385536\n",
      "Worst correlation by columns: 4.1482230721939795\n",
      "Worst correlation by rows: 596.8209152300645\n",
      "Worst norm by columns: 0.2024918432986931\n",
      "Worst norm by rows: 0.1633583430874535\n",
      "Signals: 10 Fit:      9534603 Silhouette:   -0.5231356 AIC:     615630.2\n",
      "\n",
      "OF: min 7.992661544902546e6 max 9.618491020252757e6 mean 9.182936112727711e6 std 488250.18556657777\n",
      "Worst correlation by columns: 5.473564352229623\n",
      "Worst correlation by rows: 646.6399868712282\n",
      "Worst norm by columns: 0.20999028917968016\n",
      "Worst norm by rows: 0.2583948615629435\n",
      "Signals: 11 Fit:      7992662 Silhouette:  -0.07863213 AIC:     592605.4\n",
      "\n",
      "OF: min 6.632801745407203e6 max 9.088713311821781e6 mean 7.637696735918258e6 std 891497.2355065076\n",
      "Worst correlation by columns: 5.473545196670646\n",
      "Worst correlation by rows: 650.42887918937\n",
      "Worst norm by columns: 0.2210312734668629\n",
      "Worst norm by rows: 0.1990302647025867\n",
      "Signals: 12 Fit:      6632802 Silhouette:  -0.03536911 AIC:     568151.5\n",
      "\n",
      "OF: min 5.894449413608968e6 max 7.866436605552592e6 mean 6.339482077841576e6 std 646937.6343807094\n",
      "Worst correlation by columns: 6.200799713227659\n",
      "Worst correlation by rows: 649.728268623737\n",
      "Worst norm by columns: 0.2091776750289507\n",
      "Worst norm by rows: 0.2094899141077959\n",
      "Signals: 13 Fit:      5894449 Silhouette:    0.1415294 AIC:     553394.4\n",
      "\n",
      "OF: min 5.211360952291455e6 max 5.846609231049715e6 mean 5.390156538688433e6 std 186010.33472100884\n",
      "Worst correlation by columns: 6.636992305324458\n",
      "Worst correlation by rows: 638.4818133542922\n",
      "Worst norm by columns: 0.21641529825795178\n",
      "Worst norm by rows: 0.2237355211698056\n",
      "Signals: 14 Fit:      5211361 Silhouette:   -0.2132046 AIC:     537907.6\n",
      "\n",
      "OF: min 4.665532882301736e6 max 5.0325804771767445e6 mean 4.795609866284868e6 std 127352.87432500982\n",
      "Worst correlation by columns: 6.471571828397487\n",
      "Worst correlation by rows: 634.780416370211\n",
      "Worst norm by columns: 0.20893125147493663\n",
      "Worst norm by rows: 0.23423062258471716\n",
      "Signals: 15 Fit:      4665533 Silhouette:    0.1309669 AIC:     524195.1\n",
      "\n",
      "OF: min 4.024248460566813e6 max 4.511515295057212e6 mean 4.355582424220833e6 std 146081.59338429334\n",
      "Worst correlation by columns: 8.098864815333203\n",
      "Worst correlation by rows: 606.6219227607105\n",
      "Worst norm by columns: 0.19323815629548713\n",
      "Worst norm by rows: 0.2589558049843318\n",
      "Signals: 16 Fit:      4024248 Silhouette:   -0.3892606 AIC:     505211.6\n",
      "\n",
      "OF: min 3.6986875446622823e6 max 4.163048229312217e6 mean 3.8846588527917326e6 std 150438.501989089\n",
      "Worst correlation by columns: 7.52789900730125\n",
      "Worst correlation by rows: 629.8988894158417\n",
      "Worst norm by columns: 0.19452015529633016\n",
      "Worst norm by rows: 0.25083016688841464\n",
      "Signals: 17 Fit:      3698688 Silhouette:    -0.346765 AIC:     495220.2\n",
      "\n",
      "OF: min 3.1867019689354086e6 max 3.816571026679846e6 mean 3.5586338688527634e6 std 195926.78305977702\n",
      "Worst correlation by columns: 8.050099043967776\n",
      "Worst correlation by rows: 627.2279690796726\n",
      "Worst norm by columns: 0.19922173908980725\n",
      "Worst norm by rows: 0.2890557251098979\n",
      "Signals: 18 Fit:      3186702 Silhouette:   -0.4125699 AIC:       476077\n",
      "\n",
      "OF: min 3.0383626945046396e6 max 3.432294945294723e6 mean 3.1804685728628146e6 std 151764.87839534093\n",
      "Worst correlation by columns: 8.150611994091923\n",
      "Worst correlation by rows: 636.2744390909972\n",
      "Worst norm by columns: 0.2207401718841943\n",
      "Worst norm by rows: 0.28599189250345347\n",
      "Signals: 19 Fit:      3038363 Silhouette:   -0.4534502 AIC:     471281.2\n",
      "\n",
      "OF: min 2.6425943990214067e6 max 3.2194050045907386e6 mean 2.8348680054890844e6 std 168612.78459529526\n",
      "Worst correlation by columns: 8.197754695649898\n",
      "Worst correlation by rows: 631.9201438754425\n",
      "Worst norm by columns: 0.21193652655852493\n",
      "Worst norm by rows: 0.20112995324241617\n",
      "Signals: 20 Fit:      2642594 Silhouette:   -0.4440988 AIC:     453473.9\n",
      "\n",
      "OF: min 2.4274475827492033e6 max 2.7316372109568957e6 mean 2.569047468472501e6 std 93611.9970583712\n",
      "Worst correlation by columns: 8.529633581535654\n",
      "Worst correlation by rows: 638.3390447966085\n",
      "Worst norm by columns: 0.19192898448898343\n",
      "Worst norm by rows: 0.2959622156267107\n",
      "Signals: 21 Fit:      2427448 Silhouette:   -0.3346454 AIC:     443403.1\n",
      "\n",
      "OF: min 2.0966761583048105e6 max 2.3569953837523507e6 mean 2.196134556044753e6 std 83902.93907894591\n",
      "Worst correlation by columns: 8.030031787727161\n",
      "Worst correlation by rows: 644.0748538255743\n",
      "Worst norm by columns: 0.22622508112514725\n",
      "Worst norm by rows: 0.17031282912515636\n",
      "Signals: 22 Fit:      2096676 Silhouette:   -0.2301145 AIC:     424614.5\n",
      "\n",
      "OF: min 1.861302503090092e6 max 2.3593353133929204e6 mean 2.0030338102515854e6 std 147674.42104174188\n",
      "Worst correlation by columns: 8.425429034396116\n",
      "Worst correlation by rows: 643.5733909765241\n",
      "Worst norm by columns: 0.20791399995345142\n",
      "Worst norm by rows: 0.18312687464201827\n",
      "Signals: 23 Fit:      1861303 Silhouette:   -0.5345809 AIC:     409707.2\n",
      "\n",
      "OF: min 1.571546554920507e6 max 2.0601213541273442e6 mean 1.7582981129782111e6 std 148013.16017476039\n",
      "Worst correlation by columns: 8.204476058671226\n",
      "Worst correlation by rows: 634.4995792572598\n",
      "Worst norm by columns: 0.20980428020553324\n",
      "Worst norm by rows: 0.19873606909012032\n",
      "Signals: 24 Fit:      1571547 Silhouette:   -0.4077431 AIC:     387700.2\n",
      "\n",
      "OF: min 1.4508551050315602e6 max 1.624959054032401e6 mean 1.5387008333837588e6 std 65422.458228949436\n",
      "Worst correlation by columns: 8.551096478518671\n",
      "Worst correlation by rows: 638.1407644848483\n",
      "Worst norm by columns: 0.2439770072632318\n",
      "Worst norm by rows: 0.1708772962631748\n",
      "Signals: 25 Fit:      1450855 Silhouette:   -0.6324131 AIC:     378339.4\n"
     ]
    },
    {
     "name": "stdout",
     "output_type": "stream",
     "text": [
      "\n",
      "OF: min 1.2668049041380766e6 max 1.4994481094430336e6 mean 1.3988294416553613e6 std 72741.91719361693\n",
      "Worst correlation by columns: 8.380751033893837\n",
      "Worst correlation by rows: 643.7053155421935\n",
      "Worst norm by columns: 0.208894831221331\n",
      "Worst norm by rows: 0.22716343112297555\n",
      "Signals: 26 Fit:      1266805 Silhouette:   -0.4606941 AIC:     361084.6\n",
      "\n",
      "OF: min 1.0363592948371435e6 max 1.239642485979645e6 mean 1.1392513375790622e6 std 68326.42203289468\n",
      "Worst correlation by columns: 8.738897483078503\n",
      "Worst correlation by rows: 641.0652884658197\n",
      "Worst norm by columns: 0.2005024869536838\n",
      "Worst norm by rows: 0.16399794670809661\n",
      "Signals: 27 Fit:      1036359 Silhouette:   -0.4086528 AIC:     334607.6\n",
      "\n",
      "OF: min 967560.2382994369 max 1.2135325731890197e6 mean 1.0909359709883947e6 std 82614.20000549381\n",
      "Worst correlation by columns: 8.488820917004697\n",
      "Worst correlation by rows: 643.2116633513481\n",
      "Worst norm by columns: 0.18922661119741396\n",
      "Worst norm by rows: 0.18212942980346264\n",
      "Signals: 28 Fit:     967560.2 Silhouette:   -0.4795732 AIC:     326834.8\n",
      "\n",
      "OF: min 805742.7565557163 max 965660.8465972429 mean 894710.2476664127 std 67025.70012937777\n",
      "Worst correlation by columns: 8.79693096077708\n",
      "Worst correlation by rows: 640.2123276475071\n",
      "Worst norm by columns: 0.22667773177062037\n",
      "Worst norm by rows: 0.16921975784245746\n",
      "Signals: 29 Fit:     805742.8 Silhouette:   -0.5687665 AIC:     302874.2\n",
      "\n",
      "OF: min 754948.4378738768 max 907297.9641048785 mean 803408.9367970339 std 45566.28873219023\n",
      "Worst correlation by columns: 8.826966360946232\n",
      "Worst correlation by rows: 644.8090321559207\n",
      "Worst norm by columns: 0.1954624208751294\n",
      "Worst norm by rows: 0.16031686782118423\n",
      "Signals: 30 Fit:     754948.4 Silhouette:   -0.5936291 AIC:     295607.9\n",
      "\n",
      "OF: min 680051.1519492385 max 767620.869860291 mean 717247.2432368507 std 31094.986938115275\n",
      "Worst correlation by columns: 8.747060651223878\n",
      "Worst correlation by rows: 640.0675797124746\n",
      "Worst norm by columns: 0.21951721198779656\n",
      "Worst norm by rows: 0.16989740068489287\n",
      "Signals: 31 Fit:     680051.2 Silhouette:   -0.6337242 AIC:     282767.3\n",
      "\n",
      "OF: min 583054.5014170378 max 659721.2968262418 mean 624356.6392408323 std 23260.791795496916\n",
      "Worst correlation by columns: 9.016044432308213\n",
      "Worst correlation by rows: 646.5569889185854\n",
      "Worst norm by columns: 0.17732382310069797\n",
      "Worst norm by rows: 0.185209811447058\n",
      "Signals: 32 Fit:     583054.5 Silhouette:   -0.6030325 AIC:     262930.9\n",
      "\n",
      "OF: min 544677.1304508258 max 662772.4463541554 mean 590322.6653374808 std 31031.046993940203"
     ]
    },
    {
     "ename": "LoadError",
     "evalue": "InterruptException:",
     "output_type": "error",
     "traceback": [
      "InterruptException:",
      "",
      "Stacktrace:",
      " [1] try_yieldto(::typeof(Base.ensure_rescheduled)) at .\\task.jl:656",
      " [2] wait at .\\task.jl:713 [inlined]",
      " [3] uv_write(::Base.PipeEndpoint, ::Ptr{UInt8}, ::UInt64) at .\\stream.jl:933",
      " [4] unsafe_write(::Base.PipeEndpoint, ::Ptr{UInt8}, ::UInt64) at .\\stream.jl:1005",
      " [5] unsafe_write at .\\io.jl:337 [inlined]",
      " [6] write at .\\strings\\io.jl:183 [inlined]",
      " [7] print at .\\strings\\io.jl:185 [inlined]",
      " [8] print(::IJulia.IJuliaStdio{Base.PipeEndpoint}, ::String, ::Char) at .\\strings\\io.jl:46",
      " [9] println(::IJulia.IJuliaStdio{Base.PipeEndpoint}, ::String) at .\\strings\\io.jl:73",
      " [10] println(::String) at .\\coreio.jl:4",
      " [11] execute_run(::Array{Float64,2}, ::Int64, ::Int64; clusterWmatrix::Bool, acceptratio::Int64, acceptfactor::Float64, quiet::Bool, best::Bool, transpose::Bool, serial::Bool, deltas::Array{Float64,2}, ratios::Array{Float64,2}, mixture::Symbol, method::Symbol, algorithm::Symbol, resultdir::String, casefilename::String, nanaction::Symbol, loadall::Bool, saveall::Bool, weight::Int64, kw::Base.Iterators.Pairs{Union{},Union{},Tuple{},NamedTuple{(),Tuple{}}}) at C:\\Users\\oluwa\\.julia\\packages\\NMFk\\cTXI3\\src\\NMFkExecute.jl:407",
      " [12] execute(::Array{Float64,2}, ::Int64, ::Int64; resultdir::String, casefilename::String, save::Bool, loadonly::Bool, load::Bool, kw::Base.Iterators.Pairs{Symbol,Symbol,Tuple{Symbol},NamedTuple{(:method,),Tuple{Symbol}}}) at C:\\Users\\oluwa\\.julia\\packages\\NMFk\\cTXI3\\src\\NMFkExecute.jl:61",
      " [13] execute(::Array{Float64,2}, ::UnitRange{Int64}, ::Int64; kw::Base.Iterators.Pairs{Symbol,Any,Tuple{Symbol,Symbol},NamedTuple{(:save, :method),Tuple{Bool,Symbol}}}) at C:\\Users\\oluwa\\.julia\\packages\\NMFk\\cTXI3\\src\\NMFkExecute.jl:13",
      " [14] top-level scope at In[20]:1",
      " [15] include_string(::Function, ::Module, ::String, ::String) at .\\loading.jl:1091"
     ]
    }
   ],
   "source": [
    "We, He, fitquality, robustness, aic, kopt = NMFk.execute(new_data, 2:177; save=false, method=:simple);"
   ]
  },
  {
   "cell_type": "code",
   "execution_count": 8,
   "metadata": {},
   "outputs": [
    {
     "ename": "LoadError",
     "evalue": "UndefVarError: We not defined",
     "output_type": "error",
     "traceback": [
      "UndefVarError: We not defined",
      "",
      "Stacktrace:",
      " [1] top-level scope at In[8]:2",
      " [2] include_string(::Function, ::Module, ::String, ::String) at .\\loading.jl:1091"
     ]
    }
   ],
   "source": [
    "using DataFrames\n",
    "CSV.write(\"C:\\\\Users\\\\oluwa\\\\Jupyter notebooks\\\\optimal_W_matrix.csv\",DataFrame(We[kopt]);delim=',')\n",
    "CSV.write(\"C:\\\\Users\\\\oluwa\\\\Jupyter notebooks\\\\optimal_H_matrix.csv\",DataFrame(He[kopt]);delim=',')"
   ]
  },
  {
   "cell_type": "code",
   "execution_count": null,
   "metadata": {},
   "outputs": [],
   "source": [
    "p=10"
   ]
  },
  {
   "cell_type": "code",
   "execution_count": null,
   "metadata": {},
   "outputs": [],
   "source": []
  }
 ],
 "metadata": {
  "kernelspec": {
   "display_name": "Julia 1.5.0",
   "language": "julia",
   "name": "julia-1.5"
  },
  "language_info": {
   "file_extension": ".jl",
   "mimetype": "application/julia",
   "name": "julia",
   "version": "1.5.0"
  }
 },
 "nbformat": 4,
 "nbformat_minor": 4
}
