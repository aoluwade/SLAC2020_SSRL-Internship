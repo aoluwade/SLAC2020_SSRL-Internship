{
 "cells": [
  {
   "cell_type": "code",
   "execution_count": 1,
   "metadata": {},
   "outputs": [
    {
     "name": "stderr",
     "output_type": "stream",
     "text": [
      "WARNING:silx.opencl.common:Unable to import pyOpenCl. Please install it from: http://pypi.python.org/pypi/pyopencl\n"
     ]
    }
   ],
   "source": [
    "import sklearn as skl\n",
    "import dataproc.operations as dop\n",
    "from dataproc.operations.hitp import load_image \n",
    "from dataproc.operations.hitp import fit_peak\n",
    "import glob\n",
    "from dataproc.operations.hitp import bayesian_block_finder\n",
    "import matplotlib.pyplot as plt\n",
    "import numpy as np\n",
    "import pandas as pd\n",
    "import sklearn.cluster\n",
    "import glob\n",
    "import dataproc\n",
    "import os\n",
    "import sys\n",
    "import re"
   ]
  },
  {
   "cell_type": "code",
   "execution_count": 2,
   "metadata": {},
   "outputs": [],
   "source": [
    "#fit_peak?"
   ]
  },
  {
   "cell_type": "code",
   "execution_count": 3,
   "metadata": {},
   "outputs": [],
   "source": [
    "#bayesian_block_finder?"
   ]
  },
  {
   "cell_type": "markdown",
   "metadata": {},
   "source": [
    "# Trying out stuff in order to write the feat_extr() function"
   ]
  },
  {
   "cell_type": "code",
   "execution_count": 4,
   "metadata": {},
   "outputs": [],
   "source": [
    "# Note that the peak_rem() function is not accurate because of the 4 curves add up to 1 peak thing not taken into account\n",
    "import peak_removal"
   ]
  },
  {
   "cell_type": "markdown",
   "metadata": {},
   "source": [
    "## Most of this was done with datapoints 173 - 177 from TiNiSn_500C"
   ]
  },
  {
   "cell_type": "code",
   "execution_count": 5,
   "metadata": {
    "scrolled": false
   },
   "outputs": [
    {
     "name": "stdout",
     "output_type": "stream",
     "text": [
      "            0         1\n",
      "0    1.502500  3.190278\n",
      "1    1.507500  4.497155\n",
      "2    1.512500  5.195218\n",
      "3    1.517500  6.226624\n",
      "4    1.522500  7.955827\n",
      "..        ...       ...\n",
      "795  5.477501  3.607538\n",
      "796  5.482501  3.509936\n",
      "797  5.487501  3.280561\n",
      "798  5.492501  2.791820\n",
      "799  5.497501  2.036510\n",
      "\n",
      "[800 rows x 2 columns]\n"
     ]
    }
   ],
   "source": [
    "data1 = pd.read_csv(\"C:/Users/oluwa/Downloads/TiNiSn_500C_Y20190218_14x14_t60_0177_bkgdSub_1D.csv\", header=None)\n",
    "print(data1)"
   ]
  },
  {
   "cell_type": "code",
   "execution_count": 6,
   "metadata": {
    "scrolled": true
   },
   "outputs": [
    {
     "name": "stdout",
     "output_type": "stream",
     "text": [
      "            0         1\n",
      "0    1.502500  3.190278\n",
      "1    1.507500  4.497155\n",
      "2    1.512500  5.195218\n",
      "3    1.517500  6.226624\n",
      "4    1.522500  7.955827\n",
      "..        ...       ...\n",
      "795  5.477501  3.607538\n",
      "796  5.482501  3.509936\n",
      "797  5.487501  3.280561\n",
      "798  5.492501  2.791820\n",
      "799  5.497501  2.036510\n",
      "\n",
      "[800 rows x 2 columns]\n"
     ]
    }
   ],
   "source": [
    "data1 = pd.read_csv(\"C:/Users/oluwa/Downloads/TiNiSn_500C_Y20190218_14x14_t60_0177_bkgdSub_1D.csv\", header=None)\n",
    "print(data1)"
   ]
  },
  {
   "cell_type": "code",
   "execution_count": 7,
   "metadata": {
    "scrolled": true
   },
   "outputs": [
    {
     "data": {
      "text/html": [
       "<div>\n",
       "<style scoped>\n",
       "    .dataframe tbody tr th:only-of-type {\n",
       "        vertical-align: middle;\n",
       "    }\n",
       "\n",
       "    .dataframe tbody tr th {\n",
       "        vertical-align: top;\n",
       "    }\n",
       "\n",
       "    .dataframe thead th {\n",
       "        text-align: right;\n",
       "    }\n",
       "</style>\n",
       "<table border=\"1\" class=\"dataframe\">\n",
       "  <thead>\n",
       "    <tr style=\"text-align: right;\">\n",
       "      <th></th>\n",
       "      <th>0</th>\n",
       "      <th>1</th>\n",
       "    </tr>\n",
       "  </thead>\n",
       "  <tbody>\n",
       "    <tr>\n",
       "      <th>0</th>\n",
       "      <td>1.502500</td>\n",
       "      <td>3.190278</td>\n",
       "    </tr>\n",
       "    <tr>\n",
       "      <th>1</th>\n",
       "      <td>1.507500</td>\n",
       "      <td>4.497155</td>\n",
       "    </tr>\n",
       "    <tr>\n",
       "      <th>2</th>\n",
       "      <td>1.512500</td>\n",
       "      <td>5.195218</td>\n",
       "    </tr>\n",
       "    <tr>\n",
       "      <th>3</th>\n",
       "      <td>1.517500</td>\n",
       "      <td>6.226624</td>\n",
       "    </tr>\n",
       "    <tr>\n",
       "      <th>4</th>\n",
       "      <td>1.522500</td>\n",
       "      <td>7.955827</td>\n",
       "    </tr>\n",
       "    <tr>\n",
       "      <th>...</th>\n",
       "      <td>...</td>\n",
       "      <td>...</td>\n",
       "    </tr>\n",
       "    <tr>\n",
       "      <th>795</th>\n",
       "      <td>5.477501</td>\n",
       "      <td>3.607538</td>\n",
       "    </tr>\n",
       "    <tr>\n",
       "      <th>796</th>\n",
       "      <td>5.482501</td>\n",
       "      <td>3.509936</td>\n",
       "    </tr>\n",
       "    <tr>\n",
       "      <th>797</th>\n",
       "      <td>5.487501</td>\n",
       "      <td>3.280561</td>\n",
       "    </tr>\n",
       "    <tr>\n",
       "      <th>798</th>\n",
       "      <td>5.492501</td>\n",
       "      <td>2.791820</td>\n",
       "    </tr>\n",
       "    <tr>\n",
       "      <th>799</th>\n",
       "      <td>5.497501</td>\n",
       "      <td>2.036510</td>\n",
       "    </tr>\n",
       "  </tbody>\n",
       "</table>\n",
       "<p>800 rows × 2 columns</p>\n",
       "</div>"
      ],
      "text/plain": [
       "            0         1\n",
       "0    1.502500  3.190278\n",
       "1    1.507500  4.497155\n",
       "2    1.512500  5.195218\n",
       "3    1.517500  6.226624\n",
       "4    1.522500  7.955827\n",
       "..        ...       ...\n",
       "795  5.477501  3.607538\n",
       "796  5.482501  3.509936\n",
       "797  5.487501  3.280561\n",
       "798  5.492501  2.791820\n",
       "799  5.497501  2.036510\n",
       "\n",
       "[800 rows x 2 columns]"
      ]
     },
     "execution_count": 7,
     "metadata": {},
     "output_type": "execute_result"
    }
   ],
   "source": [
    "data1"
   ]
  },
  {
   "cell_type": "code",
   "execution_count": 8,
   "metadata": {},
   "outputs": [],
   "source": [
    "subdata1 = data1.loc[:,1]"
   ]
  },
  {
   "cell_type": "code",
   "execution_count": 9,
   "metadata": {},
   "outputs": [
    {
     "data": {
      "text/plain": [
       "0     3.500000\n",
       "1    29.471614\n",
       "dtype: float64"
      ]
     },
     "execution_count": 9,
     "metadata": {},
     "output_type": "execute_result"
    }
   ],
   "source": [
    "data1.mean(axis=0)"
   ]
  },
  {
   "cell_type": "code",
   "execution_count": 10,
   "metadata": {
    "scrolled": true
   },
   "outputs": [
    {
     "data": {
      "text/plain": [
       "(800, 2)"
      ]
     },
     "execution_count": 10,
     "metadata": {},
     "output_type": "execute_result"
    }
   ],
   "source": [
    "np.shape(data1)"
   ]
  },
  {
   "cell_type": "code",
   "execution_count": 11,
   "metadata": {
    "scrolled": true
   },
   "outputs": [],
   "source": [
    "#pd.DataFrame.mean?"
   ]
  },
  {
   "cell_type": "code",
   "execution_count": 12,
   "metadata": {
    "scrolled": false
   },
   "outputs": [
    {
     "data": {
      "text/plain": [
       "[<matplotlib.lines.Line2D at 0x172b5aa1f08>]"
      ]
     },
     "execution_count": 12,
     "metadata": {},
     "output_type": "execute_result"
    },
    {
     "data": {
      "image/png": "[encoded data removed]",
      "text/plain": [
       "<Figure size 432x288 with 1 Axes>"
      ]
     },
     "metadata": {
      "needs_background": "light"
     },
     "output_type": "display_data"
    }
   ],
   "source": [
    "plt.plot(data1.loc[:,0], data1.loc[:,1])"
   ]
  },
  {
   "cell_type": "code",
   "execution_count": 13,
   "metadata": {},
   "outputs": [
    {
     "data": {
      "text/plain": [
       "0      3.190278\n",
       "1      4.497155\n",
       "2      5.195218\n",
       "3      6.226624\n",
       "4      7.955827\n",
       "         ...   \n",
       "795    3.607538\n",
       "796    3.509936\n",
       "797    3.280561\n",
       "798    2.791820\n",
       "799    2.036510\n",
       "Name: 1, Length: 800, dtype: float64"
      ]
     },
     "execution_count": 13,
     "metadata": {},
     "output_type": "execute_result"
    }
   ],
   "source": [
    "data1.loc[:,1]"
   ]
  },
  {
   "cell_type": "code",
   "execution_count": 14,
   "metadata": {},
   "outputs": [
    {
     "data": {
      "text/plain": [
       "<pandas.core.indexing._LocIndexer at 0x172b6e65b38>"
      ]
     },
     "execution_count": 14,
     "metadata": {},
     "output_type": "execute_result"
    }
   ],
   "source": [
    "data1.loc"
   ]
  },
  {
   "cell_type": "code",
   "execution_count": 15,
   "metadata": {},
   "outputs": [],
   "source": [
    "#This is no longer effective\n",
    "#Beccause it finds all the files starting with \"T\" in that filepath. And right now there are so many\n",
    "#At this time, the files I needed are the only ones starting with \"T\" in the filepath\n",
    "\n",
    "# filepath = \"C:/Users/oluwa/Downloads/[T]*.csv\"\n",
    "# for name in glob.glob(filepath):\n",
    "#     print(name)\n",
    "#     data1 = pd.read_csv(name, header=None)\n",
    "#     print(data1)\n",
    "#     plt.plot(data1.loc[:,0], data1.loc[:,1])\n",
    "#     plt.ylabel('Intensity')\n",
    "#     plt.xlabel('Angle')\n",
    "#     plt.show()"
   ]
  },
  {
   "cell_type": "code",
   "execution_count": 16,
   "metadata": {},
   "outputs": [
    {
     "data": {
      "text/plain": [
       "<module 'sklearn.cluster' from 'C:\\\\Users\\\\oluwa\\\\anaconda3\\\\lib\\\\site-packages\\\\sklearn\\\\cluster\\\\__init__.py'>"
      ]
     },
     "execution_count": 16,
     "metadata": {},
     "output_type": "execute_result"
    }
   ],
   "source": [
    "skl.cluster"
   ]
  },
  {
   "cell_type": "code",
   "execution_count": 17,
   "metadata": {},
   "outputs": [],
   "source": [
    "data1 = pd.read_csv(\"C:/Users/oluwa/Downloads\\TiNiSn_500C_Y20190218_14x14_t60_0175_bkgdSub_1D.csv\", names= [\"angles\",\"Intensity\"])"
   ]
  },
  {
   "cell_type": "code",
   "execution_count": 18,
   "metadata": {},
   "outputs": [
    {
     "name": "stdout",
     "output_type": "stream",
     "text": [
      "       angles  Intensity\n",
      "0    1.502500   4.854498\n",
      "1    1.507500   6.642530\n",
      "2    1.512500   8.407522\n",
      "3    1.517500  10.046230\n",
      "4    1.522500  11.307369\n",
      "..        ...        ...\n",
      "795  5.477501   4.564266\n",
      "796  5.482501   4.194215\n",
      "797  5.487501   3.680619\n",
      "798  5.492501   3.230362\n",
      "799  5.497501   2.736939\n",
      "\n",
      "[800 rows x 2 columns]\n"
     ]
    }
   ],
   "source": [
    "print(data1)"
   ]
  },
  {
   "cell_type": "code",
   "execution_count": 19,
   "metadata": {},
   "outputs": [],
   "source": [
    "#These functions from Robert's github codes help to extract the curve parameters for all the \"determined peaks\" \n",
    "#for each XRD pattern/datapoint\n",
    "\n",
    "import dataproc.operations as dop\n",
    "from dataproc.operations.hitp import load_image \n",
    "from dataproc.operations.hitp import fit_peak\n",
    "from dataproc.operations.hitp import bayesian_block_finder"
   ]
  },
  {
   "cell_type": "code",
   "execution_count": 20,
   "metadata": {},
   "outputs": [],
   "source": [
    "#fit_peak?"
   ]
  },
  {
   "cell_type": "code",
   "execution_count": 21,
   "metadata": {},
   "outputs": [],
   "source": [
    "#bayesian_block_finder?"
   ]
  },
  {
   "cell_type": "code",
   "execution_count": 22,
   "metadata": {},
   "outputs": [],
   "source": [
    "#data1?"
   ]
  },
  {
   "cell_type": "code",
   "execution_count": 23,
   "metadata": {},
   "outputs": [],
   "source": [
    "data2 = data1.to_numpy()"
   ]
  },
  {
   "cell_type": "code",
   "execution_count": 24,
   "metadata": {},
   "outputs": [],
   "source": [
    "#data2?"
   ]
  },
  {
   "cell_type": "code",
   "execution_count": 25,
   "metadata": {},
   "outputs": [
    {
     "data": {
      "text/html": [
       "<div>\n",
       "<style scoped>\n",
       "    .dataframe tbody tr th:only-of-type {\n",
       "        vertical-align: middle;\n",
       "    }\n",
       "\n",
       "    .dataframe tbody tr th {\n",
       "        vertical-align: top;\n",
       "    }\n",
       "\n",
       "    .dataframe thead th {\n",
       "        text-align: right;\n",
       "    }\n",
       "</style>\n",
       "<table border=\"1\" class=\"dataframe\">\n",
       "  <thead>\n",
       "    <tr style=\"text-align: right;\">\n",
       "      <th></th>\n",
       "      <th>angles</th>\n",
       "      <th>Intensity</th>\n",
       "    </tr>\n",
       "  </thead>\n",
       "  <tbody>\n",
       "    <tr>\n",
       "      <th>0</th>\n",
       "      <td>1.5025</td>\n",
       "      <td>4.854498</td>\n",
       "    </tr>\n",
       "    <tr>\n",
       "      <th>1</th>\n",
       "      <td>1.5075</td>\n",
       "      <td>6.642530</td>\n",
       "    </tr>\n",
       "    <tr>\n",
       "      <th>2</th>\n",
       "      <td>1.5125</td>\n",
       "      <td>8.407522</td>\n",
       "    </tr>\n",
       "    <tr>\n",
       "      <th>3</th>\n",
       "      <td>1.5175</td>\n",
       "      <td>10.046230</td>\n",
       "    </tr>\n",
       "    <tr>\n",
       "      <th>4</th>\n",
       "      <td>1.5225</td>\n",
       "      <td>11.307369</td>\n",
       "    </tr>\n",
       "  </tbody>\n",
       "</table>\n",
       "</div>"
      ],
      "text/plain": [
       "   angles  Intensity\n",
       "0  1.5025   4.854498\n",
       "1  1.5075   6.642530\n",
       "2  1.5125   8.407522\n",
       "3  1.5175  10.046230\n",
       "4  1.5225  11.307369"
      ]
     },
     "execution_count": 25,
     "metadata": {},
     "output_type": "execute_result"
    }
   ],
   "source": [
    "data1.head()"
   ]
  },
  {
   "cell_type": "code",
   "execution_count": 26,
   "metadata": {},
   "outputs": [],
   "source": [
    "subdata1 = data1[\"angles\"].values"
   ]
  },
  {
   "cell_type": "code",
   "execution_count": 27,
   "metadata": {},
   "outputs": [],
   "source": [
    "subdata1 = data2[:,0]"
   ]
  },
  {
   "cell_type": "code",
   "execution_count": 28,
   "metadata": {},
   "outputs": [
    {
     "data": {
      "text/plain": [
       "800"
      ]
     },
     "execution_count": 28,
     "metadata": {},
     "output_type": "execute_result"
    }
   ],
   "source": [
    "len(subdata1)"
   ]
  },
  {
   "cell_type": "code",
   "execution_count": 29,
   "metadata": {},
   "outputs": [
    {
     "data": {
      "text/plain": [
       "800"
      ]
     },
     "execution_count": 29,
     "metadata": {},
     "output_type": "execute_result"
    }
   ],
   "source": [
    "np.size(subdata1)"
   ]
  },
  {
   "cell_type": "code",
   "execution_count": 30,
   "metadata": {},
   "outputs": [
    {
     "data": {
      "text/plain": [
       "(800,)"
      ]
     },
     "execution_count": 30,
     "metadata": {},
     "output_type": "execute_result"
    }
   ],
   "source": [
    "np.shape(subdata1)"
   ]
  },
  {
   "cell_type": "code",
   "execution_count": 31,
   "metadata": {},
   "outputs": [],
   "source": [
    "#bayesian_block_finder?"
   ]
  },
  {
   "cell_type": "code",
   "execution_count": 32,
   "metadata": {},
   "outputs": [],
   "source": [
    "# bayesian_block_finder returns the regions (x-axis regions) where there exist\n",
    "#peaks(this is defined by some threshold in Robert's code)\n",
    "\n",
    "blocks1 = bayesian_block_finder(data2[:,0],data2[:,1])\n",
    "blocks1 = bayesian_block_finder(data1[\"angles\"].values, data1[\"Intensity\"].values)"
   ]
  },
  {
   "cell_type": "code",
   "execution_count": 33,
   "metadata": {},
   "outputs": [],
   "source": [
    "#blocks1?"
   ]
  },
  {
   "cell_type": "code",
   "execution_count": 34,
   "metadata": {},
   "outputs": [],
   "source": [
    "blocks1 = blocks1.astype(int)"
   ]
  },
  {
   "cell_type": "code",
   "execution_count": 35,
   "metadata": {
    "scrolled": false
   },
   "outputs": [
    {
     "data": {
      "text/plain": [
       "<matplotlib.collections.LineCollection at 0x172b5e933c8>"
      ]
     },
     "execution_count": 35,
     "metadata": {},
     "output_type": "execute_result"
    },
    {
     "data": {
      "image/png": "[encoded data removed]",
      "text/plain": [
       "<Figure size 432x288 with 1 Axes>"
      ]
     },
     "metadata": {
      "needs_background": "light"
     },
     "output_type": "display_data"
    }
   ],
   "source": [
    "fig, ax = plt.subplots()\n",
    "ax.plot(data2[:,0], data2[:,1])\n",
    "ax.vlines(data1['angles'].loc[blocks1], 0, 700)\n"
   ]
  },
  {
   "cell_type": "code",
   "execution_count": 36,
   "metadata": {},
   "outputs": [
    {
     "data": {
      "text/plain": [
       "0      1.502500\n",
       "46     1.732500\n",
       "83     1.917500\n",
       "175    2.377500\n",
       "226    2.632500\n",
       "347    3.237500\n",
       "511    4.057500\n",
       "563    4.317500\n",
       "620    4.602501\n",
       "799    5.497501\n",
       "Name: angles, dtype: float64"
      ]
     },
     "execution_count": 36,
     "metadata": {},
     "output_type": "execute_result"
    }
   ],
   "source": [
    "data1['angles'].loc[blocks1]"
   ]
  },
  {
   "cell_type": "code",
   "execution_count": 37,
   "metadata": {},
   "outputs": [
    {
     "data": {
      "text/plain": [
       "array([1.50250007, 1.73250011, 1.91750013, 2.3775002 , 2.63250023,\n",
       "       3.23750032, 4.05750044, 4.31750047, 4.60250052, 5.49750064])"
      ]
     },
     "execution_count": 37,
     "metadata": {},
     "output_type": "execute_result"
    }
   ],
   "source": [
    "data2[blocks1,0]"
   ]
  },
  {
   "cell_type": "code",
   "execution_count": 38,
   "metadata": {},
   "outputs": [
    {
     "data": {
      "text/plain": [
       "(800, 2)"
      ]
     },
     "execution_count": 38,
     "metadata": {},
     "output_type": "execute_result"
    }
   ],
   "source": [
    "np.shape(data2)"
   ]
  },
  {
   "cell_type": "code",
   "execution_count": 39,
   "metadata": {},
   "outputs": [],
   "source": [
    "subdata2 = data1[\"Intensity\"].values"
   ]
  },
  {
   "cell_type": "code",
   "execution_count": 40,
   "metadata": {},
   "outputs": [],
   "source": [
    "subdata2 = data2[:,1]"
   ]
  },
  {
   "cell_type": "code",
   "execution_count": 65,
   "metadata": {},
   "outputs": [],
   "source": [
    "fit_peak?"
   ]
  },
  {
   "cell_type": "code",
   "execution_count": 42,
   "metadata": {},
   "outputs": [],
   "source": [
    "# Pull data from file and find the regions within the XRD pattern with peaks using the bayesian_block_finder function\n",
    "\n",
    "data1 = pd.read_csv(\"C:/Users/oluwa/Downloads\\TiNiSn_500C_Y20190218_14x14_t60_0175_bkgdSub_1D.csv\", names= [\"angles\",\"Intensity\"])\n",
    "blocks1 = bayesian_block_finder(data1[\"angles\"].values, data1[\"Intensity\"].values)\n",
    "blocks1 = blocks1.astype(int)\n",
    "subdata1 = data1[\"angles\"].values\n",
    "subdata2 = data1[\"Intensity\"].values"
   ]
  },
  {
   "cell_type": "code",
   "execution_count": 43,
   "metadata": {},
   "outputs": [
    {
     "name": "stdout",
     "output_type": "stream",
     "text": [
      "(36, 9)\n"
     ]
    }
   ],
   "source": [
    "#def feat_extr():\n",
    "BigParams = {}\n",
    "ii = 0\n",
    "for nn in range(175,176):\n",
    "        if nn > 99:\n",
    "            nnn = \"0\" + str(nn)\n",
    "        elif nn > 9:\n",
    "            nnn = \"00\" + str(nn)\n",
    "        else: \n",
    "            nnn = \"000\" + str(nn)\n",
    "            \n",
    "        \n",
    "   \n",
    "        # Pull data from file\n",
    "        filename = \"C:/Users/oluwa/Downloads\\TiNiSn_500C_Y20190218_14x14_t60_\" + nnn + \"_bkgdSub_1D.csv\"\n",
    "        data1 = pd.read_csv(filename, names= [\"angles\",\"Intensity\"])\n",
    "        blocks1 = bayesian_block_finder(data1[\"angles\"].values, data1[\"Intensity\"].values)\n",
    "        blocks1 = blocks1.astype(int)\n",
    "        subdata1 = data1[\"angles\"].values\n",
    "        subdata2 = data1[\"Intensity\"].values\n",
    "\n",
    "        # Get peaks boundaries\n",
    "        output = []\n",
    "        for i in range(len(blocks1)-1):\n",
    "            output.append(fit_peak(subdata1[blocks1[i]:blocks1[i+1]],subdata2[blocks1[i]:blocks1[i+1]],peakShape=\"Voigt\"))\n",
    "\n",
    "        # Get Peak Parameters and store as a csv file                  \n",
    "        fullp = []\n",
    "        for II in range(len(output)):\n",
    "\n",
    "            out1,out2 = output[II]\n",
    "\n",
    "            fullparams=[]\n",
    "            fullparams1 =[]\n",
    "            for name, param in out1.items():\n",
    "                params = []\n",
    "                for pname,subparam in param.items():\n",
    "                    #print(name, pname, subparam)\n",
    "                    params.append(subparam)\n",
    "                fullparams.append(params)\n",
    "\n",
    "            for name1, param1 in out2.items():\n",
    "                params1 = []\n",
    "                for pname1,subparam1 in param1.items():\n",
    "                        #print(name1, pname1, subparam1)\n",
    "                        params1.append(subparam1)\n",
    "                fullparams1.append(params1)\n",
    "\n",
    "                \n",
    "\n",
    "            for i in range(len(fullparams)):\n",
    "                fullp.append(fullparams[i]+fullparams1[i])\n",
    "\n",
    "\n",
    "print(np.shape(fullp))\n",
    "BigParams[ii] = fullp\n",
    "ii+=1\n",
    "        # np.savetxt('Params_TiNiSn_500C_' + nnn +'.csv',fullp,delimiter =',')\n",
    "    #return BigParams"
   ]
  },
  {
   "cell_type": "code",
   "execution_count": 44,
   "metadata": {},
   "outputs": [
    {
     "data": {
      "text/html": [
       "<div>\n",
       "<style scoped>\n",
       "    .dataframe tbody tr th:only-of-type {\n",
       "        vertical-align: middle;\n",
       "    }\n",
       "\n",
       "    .dataframe tbody tr th {\n",
       "        vertical-align: top;\n",
       "    }\n",
       "\n",
       "    .dataframe thead th {\n",
       "        text-align: right;\n",
       "    }\n",
       "</style>\n",
       "<table border=\"1\" class=\"dataframe\">\n",
       "  <thead>\n",
       "    <tr style=\"text-align: right;\">\n",
       "      <th></th>\n",
       "      <th>x0/Q</th>\n",
       "      <th>y0</th>\n",
       "      <th>I</th>\n",
       "      <th>alpha</th>\n",
       "      <th>gamma</th>\n",
       "      <th>FWHM</th>\n",
       "      <th>area</th>\n",
       "      <th>area-err</th>\n",
       "      <th>X0</th>\n",
       "    </tr>\n",
       "  </thead>\n",
       "  <tbody>\n",
       "    <tr>\n",
       "      <th>0</th>\n",
       "      <td>1.659918</td>\n",
       "      <td>0.003452</td>\n",
       "      <td>1.996841e-01</td>\n",
       "      <td>2.996731e-02</td>\n",
       "      <td>8.472254e-24</td>\n",
       "      <td>0.070568</td>\n",
       "      <td>0.199670</td>\n",
       "      <td>1.073183e-11</td>\n",
       "      <td>1.659918</td>\n",
       "    </tr>\n",
       "    <tr>\n",
       "      <th>1</th>\n",
       "      <td>1.738750</td>\n",
       "      <td>-2.089492</td>\n",
       "      <td>3.475774e+00</td>\n",
       "      <td>5.625001e-02</td>\n",
       "      <td>5.625001e-02</td>\n",
       "      <td>0.202358</td>\n",
       "      <td>0.842805</td>\n",
       "      <td>1.037732e-12</td>\n",
       "      <td>1.738750</td>\n",
       "    </tr>\n",
       "    <tr>\n",
       "      <th>2</th>\n",
       "      <td>1.576584</td>\n",
       "      <td>-4.968902</td>\n",
       "      <td>6.109925e+00</td>\n",
       "      <td>5.625001e-02</td>\n",
       "      <td>4.406265e-02</td>\n",
       "      <td>0.185246</td>\n",
       "      <td>3.045037</td>\n",
       "      <td>4.489329e-11</td>\n",
       "      <td>1.576584</td>\n",
       "    </tr>\n",
       "    <tr>\n",
       "      <th>3</th>\n",
       "      <td>1.738750</td>\n",
       "      <td>-4.976522</td>\n",
       "      <td>1.805598e+00</td>\n",
       "      <td>5.625001e-02</td>\n",
       "      <td>5.625001e-02</td>\n",
       "      <td>0.202358</td>\n",
       "      <td>-0.437670</td>\n",
       "      <td>5.390828e-13</td>\n",
       "      <td>1.738750</td>\n",
       "    </tr>\n",
       "    <tr>\n",
       "      <th>4</th>\n",
       "      <td>1.795106</td>\n",
       "      <td>-10.953411</td>\n",
       "      <td>1.864876e+00</td>\n",
       "      <td>1.592713e-02</td>\n",
       "      <td>1.364628e-02</td>\n",
       "      <td>0.054067</td>\n",
       "      <td>-0.310099</td>\n",
       "      <td>1.862917e-10</td>\n",
       "      <td>1.795106</td>\n",
       "    </tr>\n",
       "    <tr>\n",
       "      <th>5</th>\n",
       "      <td>1.847596</td>\n",
       "      <td>16.683967</td>\n",
       "      <td>5.149456e-01</td>\n",
       "      <td>4.499585e-02</td>\n",
       "      <td>2.325473e-02</td>\n",
       "      <td>0.132399</td>\n",
       "      <td>3.398985</td>\n",
       "      <td>1.847461e-11</td>\n",
       "      <td>1.847596</td>\n",
       "    </tr>\n",
       "    <tr>\n",
       "      <th>6</th>\n",
       "      <td>1.919902</td>\n",
       "      <td>3.782597</td>\n",
       "      <td>2.085336e-01</td>\n",
       "      <td>2.366059e-02</td>\n",
       "      <td>1.046510e-08</td>\n",
       "      <td>0.055716</td>\n",
       "      <td>0.755172</td>\n",
       "      <td>5.102650e-14</td>\n",
       "      <td>1.919902</td>\n",
       "    </tr>\n",
       "    <tr>\n",
       "      <th>7</th>\n",
       "      <td>1.756939</td>\n",
       "      <td>3.638995</td>\n",
       "      <td>2.549058e-02</td>\n",
       "      <td>1.140298e-02</td>\n",
       "      <td>3.311122e-16</td>\n",
       "      <td>0.026852</td>\n",
       "      <td>0.680362</td>\n",
       "      <td>1.565116e-11</td>\n",
       "      <td>1.756939</td>\n",
       "    </tr>\n",
       "    <tr>\n",
       "      <th>8</th>\n",
       "      <td>2.061912</td>\n",
       "      <td>-9.225684</td>\n",
       "      <td>3.305507e-01</td>\n",
       "      <td>1.351866e-02</td>\n",
       "      <td>2.350804e-33</td>\n",
       "      <td>0.031834</td>\n",
       "      <td>-3.867136</td>\n",
       "      <td>1.179299e-09</td>\n",
       "      <td>2.061912</td>\n",
       "    </tr>\n",
       "    <tr>\n",
       "      <th>9</th>\n",
       "      <td>1.981985</td>\n",
       "      <td>5.989405</td>\n",
       "      <td>5.120476e-02</td>\n",
       "      <td>8.074426e-03</td>\n",
       "      <td>2.157064e-03</td>\n",
       "      <td>0.021329</td>\n",
       "      <td>2.775743</td>\n",
       "      <td>5.278286e-09</td>\n",
       "      <td>1.981985</td>\n",
       "    </tr>\n",
       "    <tr>\n",
       "      <th>10</th>\n",
       "      <td>2.022007</td>\n",
       "      <td>19.055536</td>\n",
       "      <td>6.159749e+00</td>\n",
       "      <td>1.018133e-01</td>\n",
       "      <td>1.305029e-36</td>\n",
       "      <td>0.239752</td>\n",
       "      <td>14.131247</td>\n",
       "      <td>8.706873e-08</td>\n",
       "      <td>2.022007</td>\n",
       "    </tr>\n",
       "    <tr>\n",
       "      <th>11</th>\n",
       "      <td>2.213924</td>\n",
       "      <td>-9.387164</td>\n",
       "      <td>2.774213e-01</td>\n",
       "      <td>5.270987e-02</td>\n",
       "      <td>1.115185e-34</td>\n",
       "      <td>0.124122</td>\n",
       "      <td>-3.993794</td>\n",
       "      <td>8.338103e-10</td>\n",
       "      <td>2.213924</td>\n",
       "    </tr>\n",
       "    <tr>\n",
       "      <th>12</th>\n",
       "      <td>2.617661</td>\n",
       "      <td>0.570209</td>\n",
       "      <td>5.455610e-01</td>\n",
       "      <td>1.163472e-02</td>\n",
       "      <td>2.311777e-02</td>\n",
       "      <td>0.059797</td>\n",
       "      <td>0.461089</td>\n",
       "      <td>2.620182e-12</td>\n",
       "      <td>2.617661</td>\n",
       "    </tr>\n",
       "    <tr>\n",
       "      <th>13</th>\n",
       "      <td>2.373211</td>\n",
       "      <td>2.259785</td>\n",
       "      <td>3.748879e-01</td>\n",
       "      <td>4.749425e-02</td>\n",
       "      <td>3.361070e-32</td>\n",
       "      <td>0.111840</td>\n",
       "      <td>0.736518</td>\n",
       "      <td>8.176995e-15</td>\n",
       "      <td>2.373211</td>\n",
       "    </tr>\n",
       "    <tr>\n",
       "      <th>14</th>\n",
       "      <td>2.510042</td>\n",
       "      <td>-0.321968</td>\n",
       "      <td>1.521011e-01</td>\n",
       "      <td>3.006017e-02</td>\n",
       "      <td>7.824857e-04</td>\n",
       "      <td>0.071573</td>\n",
       "      <td>0.070970</td>\n",
       "      <td>1.261594e-10</td>\n",
       "      <td>2.510042</td>\n",
       "    </tr>\n",
       "    <tr>\n",
       "      <th>15</th>\n",
       "      <td>2.450832</td>\n",
       "      <td>-0.322783</td>\n",
       "      <td>6.003693e-02</td>\n",
       "      <td>1.467413e-02</td>\n",
       "      <td>4.917840e-35</td>\n",
       "      <td>0.034555</td>\n",
       "      <td>-0.020659</td>\n",
       "      <td>3.259456e-09</td>\n",
       "      <td>2.450832</td>\n",
       "    </tr>\n",
       "    <tr>\n",
       "      <th>16</th>\n",
       "      <td>2.923219</td>\n",
       "      <td>6.951323</td>\n",
       "      <td>4.751569e+01</td>\n",
       "      <td>1.337610e-02</td>\n",
       "      <td>1.533348e-02</td>\n",
       "      <td>0.050980</td>\n",
       "      <td>50.138033</td>\n",
       "      <td>4.635206e-08</td>\n",
       "      <td>2.923219</td>\n",
       "    </tr>\n",
       "    <tr>\n",
       "      <th>17</th>\n",
       "      <td>2.943500</td>\n",
       "      <td>11.223695</td>\n",
       "      <td>1.160086e-26</td>\n",
       "      <td>1.500000e-01</td>\n",
       "      <td>1.500000e-01</td>\n",
       "      <td>0.539620</td>\n",
       "      <td>6.734218</td>\n",
       "      <td>7.476484e-14</td>\n",
       "      <td>2.943500</td>\n",
       "    </tr>\n",
       "    <tr>\n",
       "      <th>18</th>\n",
       "      <td>2.955472</td>\n",
       "      <td>-7.606622</td>\n",
       "      <td>2.095768e-26</td>\n",
       "      <td>1.402569e-01</td>\n",
       "      <td>1.500000e-01</td>\n",
       "      <td>0.518695</td>\n",
       "      <td>-4.563974</td>\n",
       "      <td>5.067029e-14</td>\n",
       "      <td>2.955472</td>\n",
       "    </tr>\n",
       "    <tr>\n",
       "      <th>19</th>\n",
       "      <td>2.959135</td>\n",
       "      <td>-6.642736</td>\n",
       "      <td>2.882626e-26</td>\n",
       "      <td>1.449150e-01</td>\n",
       "      <td>1.449150e-01</td>\n",
       "      <td>0.521327</td>\n",
       "      <td>-3.985642</td>\n",
       "      <td>4.424952e-14</td>\n",
       "      <td>2.959135</td>\n",
       "    </tr>\n",
       "    <tr>\n",
       "      <th>20</th>\n",
       "      <td>3.433874</td>\n",
       "      <td>0.793625</td>\n",
       "      <td>1.175353e+00</td>\n",
       "      <td>2.673572e-02</td>\n",
       "      <td>1.788101e-13</td>\n",
       "      <td>0.062958</td>\n",
       "      <td>1.822157</td>\n",
       "      <td>2.560000e-11</td>\n",
       "      <td>3.433874</td>\n",
       "    </tr>\n",
       "    <tr>\n",
       "      <th>21</th>\n",
       "      <td>3.507628</td>\n",
       "      <td>1.675120</td>\n",
       "      <td>3.239935e+00</td>\n",
       "      <td>7.680429e-06</td>\n",
       "      <td>9.160273e-02</td>\n",
       "      <td>0.183204</td>\n",
       "      <td>4.096209</td>\n",
       "      <td>1.986901e-12</td>\n",
       "      <td>3.507628</td>\n",
       "    </tr>\n",
       "    <tr>\n",
       "      <th>22</th>\n",
       "      <td>3.603392</td>\n",
       "      <td>1.747397</td>\n",
       "      <td>5.529693e+00</td>\n",
       "      <td>1.815915e-01</td>\n",
       "      <td>1.214221e-26</td>\n",
       "      <td>0.427615</td>\n",
       "      <td>6.895026</td>\n",
       "      <td>5.303100e-08</td>\n",
       "      <td>3.603392</td>\n",
       "    </tr>\n",
       "    <tr>\n",
       "      <th>23</th>\n",
       "      <td>3.358392</td>\n",
       "      <td>1.776890</td>\n",
       "      <td>1.790656e+00</td>\n",
       "      <td>1.368860e-13</td>\n",
       "      <td>9.761914e-02</td>\n",
       "      <td>0.195238</td>\n",
       "      <td>2.771996</td>\n",
       "      <td>3.077534e-14</td>\n",
       "      <td>3.358392</td>\n",
       "    </tr>\n",
       "    <tr>\n",
       "      <th>24</th>\n",
       "      <td>4.144692</td>\n",
       "      <td>75.671282</td>\n",
       "      <td>8.192441e+00</td>\n",
       "      <td>1.922825e-02</td>\n",
       "      <td>1.602029e-02</td>\n",
       "      <td>0.064642</td>\n",
       "      <td>26.746674</td>\n",
       "      <td>1.782074e-09</td>\n",
       "      <td>4.144692</td>\n",
       "    </tr>\n",
       "    <tr>\n",
       "      <th>25</th>\n",
       "      <td>4.044755</td>\n",
       "      <td>-26.506614</td>\n",
       "      <td>2.705456e-01</td>\n",
       "      <td>5.626661e-02</td>\n",
       "      <td>1.636694e-05</td>\n",
       "      <td>0.132514</td>\n",
       "      <td>-6.652360</td>\n",
       "      <td>8.008455e-10</td>\n",
       "      <td>4.044755</td>\n",
       "    </tr>\n",
       "    <tr>\n",
       "      <th>26</th>\n",
       "      <td>4.219672</td>\n",
       "      <td>-25.716847</td>\n",
       "      <td>5.592230e-02</td>\n",
       "      <td>2.420159e-02</td>\n",
       "      <td>8.385439e-14</td>\n",
       "      <td>0.056990</td>\n",
       "      <td>-6.501875</td>\n",
       "      <td>5.114021e-08</td>\n",
       "      <td>4.219672</td>\n",
       "    </tr>\n",
       "    <tr>\n",
       "      <th>27</th>\n",
       "      <td>4.130128</td>\n",
       "      <td>-22.960253</td>\n",
       "      <td>2.818661e-02</td>\n",
       "      <td>6.924917e-03</td>\n",
       "      <td>1.084042e-08</td>\n",
       "      <td>0.016307</td>\n",
       "      <td>-5.826679</td>\n",
       "      <td>1.731809e-10</td>\n",
       "      <td>4.130128</td>\n",
       "    </tr>\n",
       "    <tr>\n",
       "      <th>28</th>\n",
       "      <td>4.527699</td>\n",
       "      <td>0.102014</td>\n",
       "      <td>5.757790e-01</td>\n",
       "      <td>3.357780e-20</td>\n",
       "      <td>2.910237e-02</td>\n",
       "      <td>0.058205</td>\n",
       "      <td>0.506731</td>\n",
       "      <td>1.309434e-09</td>\n",
       "      <td>4.527699</td>\n",
       "    </tr>\n",
       "    <tr>\n",
       "      <th>29</th>\n",
       "      <td>4.606108</td>\n",
       "      <td>4.938213</td>\n",
       "      <td>3.241145e-01</td>\n",
       "      <td>3.355086e-02</td>\n",
       "      <td>5.687933e-06</td>\n",
       "      <td>0.079012</td>\n",
       "      <td>1.506289</td>\n",
       "      <td>5.671890e-11</td>\n",
       "      <td>4.606108</td>\n",
       "    </tr>\n",
       "    <tr>\n",
       "      <th>30</th>\n",
       "      <td>4.312566</td>\n",
       "      <td>-2.364341</td>\n",
       "      <td>4.590103e-02</td>\n",
       "      <td>1.358573e-02</td>\n",
       "      <td>6.177809e-04</td>\n",
       "      <td>0.032616</td>\n",
       "      <td>-0.646391</td>\n",
       "      <td>2.845514e-10</td>\n",
       "      <td>4.312566</td>\n",
       "    </tr>\n",
       "    <tr>\n",
       "      <th>31</th>\n",
       "      <td>4.499047</td>\n",
       "      <td>-2.352114</td>\n",
       "      <td>2.477046e-01</td>\n",
       "      <td>2.155700e-02</td>\n",
       "      <td>3.914079e-21</td>\n",
       "      <td>0.050763</td>\n",
       "      <td>-0.410887</td>\n",
       "      <td>2.658128e-14</td>\n",
       "      <td>4.499047</td>\n",
       "    </tr>\n",
       "    <tr>\n",
       "      <th>32</th>\n",
       "      <td>5.070396</td>\n",
       "      <td>-36.333067</td>\n",
       "      <td>1.745929e+01</td>\n",
       "      <td>2.239134e-02</td>\n",
       "      <td>2.714616e-02</td>\n",
       "      <td>0.087544</td>\n",
       "      <td>-15.557386</td>\n",
       "      <td>1.654326e-09</td>\n",
       "      <td>5.070396</td>\n",
       "    </tr>\n",
       "    <tr>\n",
       "      <th>33</th>\n",
       "      <td>5.092171</td>\n",
       "      <td>145.078773</td>\n",
       "      <td>2.555563e+01</td>\n",
       "      <td>1.660887e-01</td>\n",
       "      <td>4.876298e-29</td>\n",
       "      <td>0.391109</td>\n",
       "      <td>154.611120</td>\n",
       "      <td>1.716528e-12</td>\n",
       "      <td>5.092171</td>\n",
       "    </tr>\n",
       "    <tr>\n",
       "      <th>34</th>\n",
       "      <td>5.376752</td>\n",
       "      <td>-51.696700</td>\n",
       "      <td>1.086272e+00</td>\n",
       "      <td>2.920275e-02</td>\n",
       "      <td>2.351550e-02</td>\n",
       "      <td>0.097050</td>\n",
       "      <td>-45.007040</td>\n",
       "      <td>2.729343e-12</td>\n",
       "      <td>5.376752</td>\n",
       "    </tr>\n",
       "    <tr>\n",
       "      <th>35</th>\n",
       "      <td>4.855826</td>\n",
       "      <td>-57.702910</td>\n",
       "      <td>7.439607e+00</td>\n",
       "      <td>1.640063e-01</td>\n",
       "      <td>2.225000e-01</td>\n",
       "      <td>0.677167</td>\n",
       "      <td>-46.645615</td>\n",
       "      <td>4.534729e-11</td>\n",
       "      <td>4.855826</td>\n",
       "    </tr>\n",
       "  </tbody>\n",
       "</table>\n",
       "</div>"
      ],
      "text/plain": [
       "        x0/Q          y0             I         alpha         gamma      FWHM  \\\n",
       "0   1.659918    0.003452  1.996841e-01  2.996731e-02  8.472254e-24  0.070568   \n",
       "1   1.738750   -2.089492  3.475774e+00  5.625001e-02  5.625001e-02  0.202358   \n",
       "2   1.576584   -4.968902  6.109925e+00  5.625001e-02  4.406265e-02  0.185246   \n",
       "3   1.738750   -4.976522  1.805598e+00  5.625001e-02  5.625001e-02  0.202358   \n",
       "4   1.795106  -10.953411  1.864876e+00  1.592713e-02  1.364628e-02  0.054067   \n",
       "5   1.847596   16.683967  5.149456e-01  4.499585e-02  2.325473e-02  0.132399   \n",
       "6   1.919902    3.782597  2.085336e-01  2.366059e-02  1.046510e-08  0.055716   \n",
       "7   1.756939    3.638995  2.549058e-02  1.140298e-02  3.311122e-16  0.026852   \n",
       "8   2.061912   -9.225684  3.305507e-01  1.351866e-02  2.350804e-33  0.031834   \n",
       "9   1.981985    5.989405  5.120476e-02  8.074426e-03  2.157064e-03  0.021329   \n",
       "10  2.022007   19.055536  6.159749e+00  1.018133e-01  1.305029e-36  0.239752   \n",
       "11  2.213924   -9.387164  2.774213e-01  5.270987e-02  1.115185e-34  0.124122   \n",
       "12  2.617661    0.570209  5.455610e-01  1.163472e-02  2.311777e-02  0.059797   \n",
       "13  2.373211    2.259785  3.748879e-01  4.749425e-02  3.361070e-32  0.111840   \n",
       "14  2.510042   -0.321968  1.521011e-01  3.006017e-02  7.824857e-04  0.071573   \n",
       "15  2.450832   -0.322783  6.003693e-02  1.467413e-02  4.917840e-35  0.034555   \n",
       "16  2.923219    6.951323  4.751569e+01  1.337610e-02  1.533348e-02  0.050980   \n",
       "17  2.943500   11.223695  1.160086e-26  1.500000e-01  1.500000e-01  0.539620   \n",
       "18  2.955472   -7.606622  2.095768e-26  1.402569e-01  1.500000e-01  0.518695   \n",
       "19  2.959135   -6.642736  2.882626e-26  1.449150e-01  1.449150e-01  0.521327   \n",
       "20  3.433874    0.793625  1.175353e+00  2.673572e-02  1.788101e-13  0.062958   \n",
       "21  3.507628    1.675120  3.239935e+00  7.680429e-06  9.160273e-02  0.183204   \n",
       "22  3.603392    1.747397  5.529693e+00  1.815915e-01  1.214221e-26  0.427615   \n",
       "23  3.358392    1.776890  1.790656e+00  1.368860e-13  9.761914e-02  0.195238   \n",
       "24  4.144692   75.671282  8.192441e+00  1.922825e-02  1.602029e-02  0.064642   \n",
       "25  4.044755  -26.506614  2.705456e-01  5.626661e-02  1.636694e-05  0.132514   \n",
       "26  4.219672  -25.716847  5.592230e-02  2.420159e-02  8.385439e-14  0.056990   \n",
       "27  4.130128  -22.960253  2.818661e-02  6.924917e-03  1.084042e-08  0.016307   \n",
       "28  4.527699    0.102014  5.757790e-01  3.357780e-20  2.910237e-02  0.058205   \n",
       "29  4.606108    4.938213  3.241145e-01  3.355086e-02  5.687933e-06  0.079012   \n",
       "30  4.312566   -2.364341  4.590103e-02  1.358573e-02  6.177809e-04  0.032616   \n",
       "31  4.499047   -2.352114  2.477046e-01  2.155700e-02  3.914079e-21  0.050763   \n",
       "32  5.070396  -36.333067  1.745929e+01  2.239134e-02  2.714616e-02  0.087544   \n",
       "33  5.092171  145.078773  2.555563e+01  1.660887e-01  4.876298e-29  0.391109   \n",
       "34  5.376752  -51.696700  1.086272e+00  2.920275e-02  2.351550e-02  0.097050   \n",
       "35  4.855826  -57.702910  7.439607e+00  1.640063e-01  2.225000e-01  0.677167   \n",
       "\n",
       "          area      area-err        X0  \n",
       "0     0.199670  1.073183e-11  1.659918  \n",
       "1     0.842805  1.037732e-12  1.738750  \n",
       "2     3.045037  4.489329e-11  1.576584  \n",
       "3    -0.437670  5.390828e-13  1.738750  \n",
       "4    -0.310099  1.862917e-10  1.795106  \n",
       "5     3.398985  1.847461e-11  1.847596  \n",
       "6     0.755172  5.102650e-14  1.919902  \n",
       "7     0.680362  1.565116e-11  1.756939  \n",
       "8    -3.867136  1.179299e-09  2.061912  \n",
       "9     2.775743  5.278286e-09  1.981985  \n",
       "10   14.131247  8.706873e-08  2.022007  \n",
       "11   -3.993794  8.338103e-10  2.213924  \n",
       "12    0.461089  2.620182e-12  2.617661  \n",
       "13    0.736518  8.176995e-15  2.373211  \n",
       "14    0.070970  1.261594e-10  2.510042  \n",
       "15   -0.020659  3.259456e-09  2.450832  \n",
       "16   50.138033  4.635206e-08  2.923219  \n",
       "17    6.734218  7.476484e-14  2.943500  \n",
       "18   -4.563974  5.067029e-14  2.955472  \n",
       "19   -3.985642  4.424952e-14  2.959135  \n",
       "20    1.822157  2.560000e-11  3.433874  \n",
       "21    4.096209  1.986901e-12  3.507628  \n",
       "22    6.895026  5.303100e-08  3.603392  \n",
       "23    2.771996  3.077534e-14  3.358392  \n",
       "24   26.746674  1.782074e-09  4.144692  \n",
       "25   -6.652360  8.008455e-10  4.044755  \n",
       "26   -6.501875  5.114021e-08  4.219672  \n",
       "27   -5.826679  1.731809e-10  4.130128  \n",
       "28    0.506731  1.309434e-09  4.527699  \n",
       "29    1.506289  5.671890e-11  4.606108  \n",
       "30   -0.646391  2.845514e-10  4.312566  \n",
       "31   -0.410887  2.658128e-14  4.499047  \n",
       "32  -15.557386  1.654326e-09  5.070396  \n",
       "33  154.611120  1.716528e-12  5.092171  \n",
       "34  -45.007040  2.729343e-12  5.376752  \n",
       "35  -46.645615  4.534729e-11  4.855826  "
      ]
     },
     "execution_count": 44,
     "metadata": {},
     "output_type": "execute_result"
    }
   ],
   "source": [
    "pd.read_csv('TiNiSn_500C_Y20190218_14x14_t60_0175_bkgdSub_1D_extr_param.csv', names = ['x0/Q','y0','I','alpha','gamma','FWHM','area','area-err','X0'])"
   ]
  },
  {
   "cell_type": "code",
   "execution_count": 45,
   "metadata": {},
   "outputs": [],
   "source": [
    "data={}\n",
    "for n in range(173,176):\n",
    "    data[n] = pd.read_csv('Params_TiNiSn_500C_0'+ str(n) + '.csv', names = ['x0/Q','y0','I','alpha','gamma','FWHM','area','area-err','X0'])"
   ]
  },
  {
   "cell_type": "code",
   "execution_count": 46,
   "metadata": {},
   "outputs": [
    {
     "data": {
      "text/html": [
       "<div>\n",
       "<style scoped>\n",
       "    .dataframe tbody tr th:only-of-type {\n",
       "        vertical-align: middle;\n",
       "    }\n",
       "\n",
       "    .dataframe tbody tr th {\n",
       "        vertical-align: top;\n",
       "    }\n",
       "\n",
       "    .dataframe thead th {\n",
       "        text-align: right;\n",
       "    }\n",
       "</style>\n",
       "<table border=\"1\" class=\"dataframe\">\n",
       "  <thead>\n",
       "    <tr style=\"text-align: right;\">\n",
       "      <th></th>\n",
       "      <th>x0/Q</th>\n",
       "      <th>y0</th>\n",
       "      <th>I</th>\n",
       "      <th>alpha</th>\n",
       "      <th>gamma</th>\n",
       "      <th>FWHM</th>\n",
       "      <th>area</th>\n",
       "      <th>area-err</th>\n",
       "      <th>X0</th>\n",
       "    </tr>\n",
       "  </thead>\n",
       "  <tbody>\n",
       "    <tr>\n",
       "      <th>19</th>\n",
       "      <td>3.235715</td>\n",
       "      <td>-1.777132</td>\n",
       "      <td>0.011629</td>\n",
       "      <td>1.350000e-01</td>\n",
       "      <td>1.335522e-01</td>\n",
       "      <td>0.483577</td>\n",
       "      <td>-0.954482</td>\n",
       "      <td>1.059688e-14</td>\n",
       "      <td>3.235715</td>\n",
       "    </tr>\n",
       "    <tr>\n",
       "      <th>10</th>\n",
       "      <td>1.965281</td>\n",
       "      <td>-9.800072</td>\n",
       "      <td>0.043237</td>\n",
       "      <td>2.071962e-02</td>\n",
       "      <td>2.093715e-09</td>\n",
       "      <td>0.048791</td>\n",
       "      <td>-3.582798</td>\n",
       "      <td>5.791285e-10</td>\n",
       "      <td>1.965281</td>\n",
       "    </tr>\n",
       "    <tr>\n",
       "      <th>5</th>\n",
       "      <td>1.900075</td>\n",
       "      <td>78.821706</td>\n",
       "      <td>0.046846</td>\n",
       "      <td>1.110148e-02</td>\n",
       "      <td>1.251004e-04</td>\n",
       "      <td>0.026267</td>\n",
       "      <td>11.447571</td>\n",
       "      <td>1.451331e-13</td>\n",
       "      <td>1.900075</td>\n",
       "    </tr>\n",
       "    <tr>\n",
       "      <th>31</th>\n",
       "      <td>4.629751</td>\n",
       "      <td>-0.511934</td>\n",
       "      <td>0.055091</td>\n",
       "      <td>3.624999e-02</td>\n",
       "      <td>4.708372e-06</td>\n",
       "      <td>0.085367</td>\n",
       "      <td>-0.051813</td>\n",
       "      <td>3.771495e-13</td>\n",
       "      <td>4.629751</td>\n",
       "    </tr>\n",
       "    <tr>\n",
       "      <th>15</th>\n",
       "      <td>2.582208</td>\n",
       "      <td>-2.902421</td>\n",
       "      <td>0.062545</td>\n",
       "      <td>1.623690e-18</td>\n",
       "      <td>1.073554e-02</td>\n",
       "      <td>0.021471</td>\n",
       "      <td>-1.187899</td>\n",
       "      <td>6.207266e-09</td>\n",
       "      <td>2.582208</td>\n",
       "    </tr>\n",
       "    <tr>\n",
       "      <th>30</th>\n",
       "      <td>4.586604</td>\n",
       "      <td>-0.555884</td>\n",
       "      <td>0.119930</td>\n",
       "      <td>6.925819e-11</td>\n",
       "      <td>1.586956e-02</td>\n",
       "      <td>0.031739</td>\n",
       "      <td>0.017922</td>\n",
       "      <td>7.818231e-11</td>\n",
       "      <td>4.586604</td>\n",
       "    </tr>\n",
       "    <tr>\n",
       "      <th>12</th>\n",
       "      <td>2.564466</td>\n",
       "      <td>-2.536346</td>\n",
       "      <td>0.132512</td>\n",
       "      <td>3.776580e-03</td>\n",
       "      <td>4.918648e-03</td>\n",
       "      <td>0.015280</td>\n",
       "      <td>-0.960291</td>\n",
       "      <td>5.603268e-09</td>\n",
       "      <td>2.564466</td>\n",
       "    </tr>\n",
       "    <tr>\n",
       "      <th>29</th>\n",
       "      <td>4.622961</td>\n",
       "      <td>0.333043</td>\n",
       "      <td>0.141329</td>\n",
       "      <td>1.720861e-02</td>\n",
       "      <td>1.270658e-17</td>\n",
       "      <td>0.040523</td>\n",
       "      <td>0.117181</td>\n",
       "      <td>4.184048e-11</td>\n",
       "      <td>4.622961</td>\n",
       "    </tr>\n",
       "    <tr>\n",
       "      <th>14</th>\n",
       "      <td>2.263512</td>\n",
       "      <td>-3.870169</td>\n",
       "      <td>0.171765</td>\n",
       "      <td>9.504842e-02</td>\n",
       "      <td>6.283625e-14</td>\n",
       "      <td>0.223822</td>\n",
       "      <td>-1.590104</td>\n",
       "      <td>3.480714e-10</td>\n",
       "      <td>2.263512</td>\n",
       "    </tr>\n",
       "    <tr>\n",
       "      <th>7</th>\n",
       "      <td>1.822599</td>\n",
       "      <td>-23.591232</td>\n",
       "      <td>0.200536</td>\n",
       "      <td>1.320368e-02</td>\n",
       "      <td>7.158482e-08</td>\n",
       "      <td>0.031092</td>\n",
       "      <td>-3.220193</td>\n",
       "      <td>1.487202e-08</td>\n",
       "      <td>1.822599</td>\n",
       "    </tr>\n",
       "    <tr>\n",
       "      <th>6</th>\n",
       "      <td>1.769782</td>\n",
       "      <td>-19.951200</td>\n",
       "      <td>0.231189</td>\n",
       "      <td>5.472992e-03</td>\n",
       "      <td>8.146244e-03</td>\n",
       "      <td>0.023717</td>\n",
       "      <td>-2.700723</td>\n",
       "      <td>1.371490e-08</td>\n",
       "      <td>1.769782</td>\n",
       "    </tr>\n",
       "    <tr>\n",
       "      <th>3</th>\n",
       "      <td>1.707533</td>\n",
       "      <td>0.362109</td>\n",
       "      <td>0.319875</td>\n",
       "      <td>2.684822e-20</td>\n",
       "      <td>2.306551e-02</td>\n",
       "      <td>0.046131</td>\n",
       "      <td>0.343891</td>\n",
       "      <td>4.662912e-14</td>\n",
       "      <td>1.707533</td>\n",
       "    </tr>\n",
       "    <tr>\n",
       "      <th>13</th>\n",
       "      <td>2.729000</td>\n",
       "      <td>17.854979</td>\n",
       "      <td>0.380981</td>\n",
       "      <td>2.021145e-09</td>\n",
       "      <td>7.359911e-02</td>\n",
       "      <td>0.147198</td>\n",
       "      <td>7.814070</td>\n",
       "      <td>3.059923e-10</td>\n",
       "      <td>2.729000</td>\n",
       "    </tr>\n",
       "    <tr>\n",
       "      <th>11</th>\n",
       "      <td>2.134422</td>\n",
       "      <td>-6.502882</td>\n",
       "      <td>0.565013</td>\n",
       "      <td>4.671404e-02</td>\n",
       "      <td>1.683795e-35</td>\n",
       "      <td>0.110003</td>\n",
       "      <td>-1.841195</td>\n",
       "      <td>3.674987e-11</td>\n",
       "      <td>2.134422</td>\n",
       "    </tr>\n",
       "    <tr>\n",
       "      <th>27</th>\n",
       "      <td>3.931750</td>\n",
       "      <td>-0.011307</td>\n",
       "      <td>0.632181</td>\n",
       "      <td>8.043878e-10</td>\n",
       "      <td>2.099690e-02</td>\n",
       "      <td>0.041994</td>\n",
       "      <td>0.124022</td>\n",
       "      <td>1.642654e-10</td>\n",
       "      <td>3.931750</td>\n",
       "    </tr>\n",
       "    <tr>\n",
       "      <th>1</th>\n",
       "      <td>1.759750</td>\n",
       "      <td>7.773589</td>\n",
       "      <td>0.681194</td>\n",
       "      <td>5.982246e-22</td>\n",
       "      <td>2.777539e-02</td>\n",
       "      <td>0.055551</td>\n",
       "      <td>2.131739</td>\n",
       "      <td>1.128755e-12</td>\n",
       "      <td>1.759750</td>\n",
       "    </tr>\n",
       "    <tr>\n",
       "      <th>8</th>\n",
       "      <td>2.076642</td>\n",
       "      <td>7.241625</td>\n",
       "      <td>0.766365</td>\n",
       "      <td>4.531009e-03</td>\n",
       "      <td>1.306630e-02</td>\n",
       "      <td>0.030280</td>\n",
       "      <td>3.411232</td>\n",
       "      <td>1.443441e-09</td>\n",
       "      <td>2.076642</td>\n",
       "    </tr>\n",
       "    <tr>\n",
       "      <th>34</th>\n",
       "      <td>5.405399</td>\n",
       "      <td>-70.950476</td>\n",
       "      <td>0.857232</td>\n",
       "      <td>2.257528e-02</td>\n",
       "      <td>1.588282e-02</td>\n",
       "      <td>0.071910</td>\n",
       "      <td>-60.572371</td>\n",
       "      <td>6.283697e-10</td>\n",
       "      <td>5.405399</td>\n",
       "    </tr>\n",
       "    <tr>\n",
       "      <th>26</th>\n",
       "      <td>4.198795</td>\n",
       "      <td>-0.147265</td>\n",
       "      <td>0.937826</td>\n",
       "      <td>1.668299e-06</td>\n",
       "      <td>5.843355e-02</td>\n",
       "      <td>0.116867</td>\n",
       "      <td>0.728270</td>\n",
       "      <td>8.343855e-10</td>\n",
       "      <td>4.198795</td>\n",
       "    </tr>\n",
       "    <tr>\n",
       "      <th>28</th>\n",
       "      <td>4.522959</td>\n",
       "      <td>-0.112676</td>\n",
       "      <td>0.960621</td>\n",
       "      <td>2.828176e-02</td>\n",
       "      <td>8.718906e-33</td>\n",
       "      <td>0.066598</td>\n",
       "      <td>0.916206</td>\n",
       "      <td>1.021479e-14</td>\n",
       "      <td>4.522959</td>\n",
       "    </tr>\n",
       "    <tr>\n",
       "      <th>0</th>\n",
       "      <td>1.642423</td>\n",
       "      <td>0.353076</td>\n",
       "      <td>1.386201</td>\n",
       "      <td>3.580382e-02</td>\n",
       "      <td>1.964294e-02</td>\n",
       "      <td>0.106797</td>\n",
       "      <td>1.317520</td>\n",
       "      <td>3.153669e-13</td>\n",
       "      <td>1.642423</td>\n",
       "    </tr>\n",
       "    <tr>\n",
       "      <th>23</th>\n",
       "      <td>3.716405</td>\n",
       "      <td>-5.489628</td>\n",
       "      <td>1.527416</td>\n",
       "      <td>1.162784e-01</td>\n",
       "      <td>1.338935e-15</td>\n",
       "      <td>0.273815</td>\n",
       "      <td>-2.300724</td>\n",
       "      <td>6.060853e-13</td>\n",
       "      <td>3.716405</td>\n",
       "    </tr>\n",
       "    <tr>\n",
       "      <th>2</th>\n",
       "      <td>1.561360</td>\n",
       "      <td>-5.446536</td>\n",
       "      <td>1.702738</td>\n",
       "      <td>4.961400e-02</td>\n",
       "      <td>5.867008e-34</td>\n",
       "      <td>0.116832</td>\n",
       "      <td>0.230013</td>\n",
       "      <td>1.489653e-14</td>\n",
       "      <td>1.561360</td>\n",
       "    </tr>\n",
       "    <tr>\n",
       "      <th>25</th>\n",
       "      <td>3.994851</td>\n",
       "      <td>-3.803119</td>\n",
       "      <td>2.337504</td>\n",
       "      <td>1.287500e-01</td>\n",
       "      <td>1.683705e-14</td>\n",
       "      <td>0.303183</td>\n",
       "      <td>-0.477435</td>\n",
       "      <td>4.437278e-10</td>\n",
       "      <td>3.994851</td>\n",
       "    </tr>\n",
       "    <tr>\n",
       "      <th>4</th>\n",
       "      <td>1.796293</td>\n",
       "      <td>-23.981138</td>\n",
       "      <td>2.513821</td>\n",
       "      <td>1.385955e-02</td>\n",
       "      <td>1.804515e-04</td>\n",
       "      <td>0.032817</td>\n",
       "      <td>-0.968768</td>\n",
       "      <td>2.744937e-09</td>\n",
       "      <td>1.796293</td>\n",
       "    </tr>\n",
       "    <tr>\n",
       "      <th>21</th>\n",
       "      <td>3.580406</td>\n",
       "      <td>-19.219284</td>\n",
       "      <td>2.575113</td>\n",
       "      <td>4.141420e-08</td>\n",
       "      <td>8.041900e-02</td>\n",
       "      <td>0.160838</td>\n",
       "      <td>-11.156832</td>\n",
       "      <td>9.917195e-10</td>\n",
       "      <td>3.580406</td>\n",
       "    </tr>\n",
       "    <tr>\n",
       "      <th>9</th>\n",
       "      <td>2.010273</td>\n",
       "      <td>19.661710</td>\n",
       "      <td>2.960881</td>\n",
       "      <td>6.832094e-02</td>\n",
       "      <td>1.155976e-26</td>\n",
       "      <td>0.160884</td>\n",
       "      <td>10.142040</td>\n",
       "      <td>1.125993e-13</td>\n",
       "      <td>2.010273</td>\n",
       "    </tr>\n",
       "    <tr>\n",
       "      <th>20</th>\n",
       "      <td>3.448151</td>\n",
       "      <td>10.967446</td>\n",
       "      <td>3.240442</td>\n",
       "      <td>5.598028e-03</td>\n",
       "      <td>1.988876e-02</td>\n",
       "      <td>0.044146</td>\n",
       "      <td>10.714880</td>\n",
       "      <td>5.413011e-09</td>\n",
       "      <td>3.448151</td>\n",
       "    </tr>\n",
       "    <tr>\n",
       "      <th>24</th>\n",
       "      <td>4.168720</td>\n",
       "      <td>3.531492</td>\n",
       "      <td>8.678421</td>\n",
       "      <td>1.371792e-02</td>\n",
       "      <td>1.442199e-02</td>\n",
       "      <td>0.050369</td>\n",
       "      <td>10.177000</td>\n",
       "      <td>2.107157e-09</td>\n",
       "      <td>4.168720</td>\n",
       "    </tr>\n",
       "    <tr>\n",
       "      <th>18</th>\n",
       "      <td>3.237421</td>\n",
       "      <td>-1.816883</td>\n",
       "      <td>8.723872</td>\n",
       "      <td>1.350000e-01</td>\n",
       "      <td>1.327658e-01</td>\n",
       "      <td>0.482448</td>\n",
       "      <td>2.879676</td>\n",
       "      <td>1.461029e-12</td>\n",
       "      <td>3.237421</td>\n",
       "    </tr>\n",
       "    <tr>\n",
       "      <th>33</th>\n",
       "      <td>5.035664</td>\n",
       "      <td>-64.507895</td>\n",
       "      <td>8.749746</td>\n",
       "      <td>1.294478e-01</td>\n",
       "      <td>1.978362e-02</td>\n",
       "      <td>0.325435</td>\n",
       "      <td>-47.328096</td>\n",
       "      <td>9.848822e-12</td>\n",
       "      <td>5.035664</td>\n",
       "    </tr>\n",
       "    <tr>\n",
       "      <th>17</th>\n",
       "      <td>2.958010</td>\n",
       "      <td>6.186223</td>\n",
       "      <td>10.435165</td>\n",
       "      <td>3.011247e-03</td>\n",
       "      <td>2.465487e-02</td>\n",
       "      <td>0.050328</td>\n",
       "      <td>13.165776</td>\n",
       "      <td>6.695883e-08</td>\n",
       "      <td>2.958010</td>\n",
       "    </tr>\n",
       "    <tr>\n",
       "      <th>22</th>\n",
       "      <td>3.462387</td>\n",
       "      <td>22.658157</td>\n",
       "      <td>13.276291</td>\n",
       "      <td>1.530497e-01</td>\n",
       "      <td>1.737500e-01</td>\n",
       "      <td>0.580804</td>\n",
       "      <td>24.059143</td>\n",
       "      <td>1.584254e-10</td>\n",
       "      <td>3.462387</td>\n",
       "    </tr>\n",
       "    <tr>\n",
       "      <th>35</th>\n",
       "      <td>5.117093</td>\n",
       "      <td>-41.136493</td>\n",
       "      <td>17.136027</td>\n",
       "      <td>1.752352e-01</td>\n",
       "      <td>4.171940e-06</td>\n",
       "      <td>0.412652</td>\n",
       "      <td>-18.555645</td>\n",
       "      <td>5.257710e-09</td>\n",
       "      <td>5.117093</td>\n",
       "    </tr>\n",
       "    <tr>\n",
       "      <th>32</th>\n",
       "      <td>5.092236</td>\n",
       "      <td>180.478741</td>\n",
       "      <td>20.394275</td>\n",
       "      <td>1.614138e-02</td>\n",
       "      <td>2.545414e-02</td>\n",
       "      <td>0.072201</td>\n",
       "      <td>175.740141</td>\n",
       "      <td>2.747309e-07</td>\n",
       "      <td>5.092236</td>\n",
       "    </tr>\n",
       "    <tr>\n",
       "      <th>16</th>\n",
       "      <td>2.936225</td>\n",
       "      <td>1.163722</td>\n",
       "      <td>43.543129</td>\n",
       "      <td>1.198968e-02</td>\n",
       "      <td>9.420726e-03</td>\n",
       "      <td>0.039524</td>\n",
       "      <td>43.173885</td>\n",
       "      <td>3.014130e-07</td>\n",
       "      <td>2.936225</td>\n",
       "    </tr>\n",
       "  </tbody>\n",
       "</table>\n",
       "</div>"
      ],
      "text/plain": [
       "        x0/Q          y0          I         alpha         gamma      FWHM  \\\n",
       "19  3.235715   -1.777132   0.011629  1.350000e-01  1.335522e-01  0.483577   \n",
       "10  1.965281   -9.800072   0.043237  2.071962e-02  2.093715e-09  0.048791   \n",
       "5   1.900075   78.821706   0.046846  1.110148e-02  1.251004e-04  0.026267   \n",
       "31  4.629751   -0.511934   0.055091  3.624999e-02  4.708372e-06  0.085367   \n",
       "15  2.582208   -2.902421   0.062545  1.623690e-18  1.073554e-02  0.021471   \n",
       "30  4.586604   -0.555884   0.119930  6.925819e-11  1.586956e-02  0.031739   \n",
       "12  2.564466   -2.536346   0.132512  3.776580e-03  4.918648e-03  0.015280   \n",
       "29  4.622961    0.333043   0.141329  1.720861e-02  1.270658e-17  0.040523   \n",
       "14  2.263512   -3.870169   0.171765  9.504842e-02  6.283625e-14  0.223822   \n",
       "7   1.822599  -23.591232   0.200536  1.320368e-02  7.158482e-08  0.031092   \n",
       "6   1.769782  -19.951200   0.231189  5.472992e-03  8.146244e-03  0.023717   \n",
       "3   1.707533    0.362109   0.319875  2.684822e-20  2.306551e-02  0.046131   \n",
       "13  2.729000   17.854979   0.380981  2.021145e-09  7.359911e-02  0.147198   \n",
       "11  2.134422   -6.502882   0.565013  4.671404e-02  1.683795e-35  0.110003   \n",
       "27  3.931750   -0.011307   0.632181  8.043878e-10  2.099690e-02  0.041994   \n",
       "1   1.759750    7.773589   0.681194  5.982246e-22  2.777539e-02  0.055551   \n",
       "8   2.076642    7.241625   0.766365  4.531009e-03  1.306630e-02  0.030280   \n",
       "34  5.405399  -70.950476   0.857232  2.257528e-02  1.588282e-02  0.071910   \n",
       "26  4.198795   -0.147265   0.937826  1.668299e-06  5.843355e-02  0.116867   \n",
       "28  4.522959   -0.112676   0.960621  2.828176e-02  8.718906e-33  0.066598   \n",
       "0   1.642423    0.353076   1.386201  3.580382e-02  1.964294e-02  0.106797   \n",
       "23  3.716405   -5.489628   1.527416  1.162784e-01  1.338935e-15  0.273815   \n",
       "2   1.561360   -5.446536   1.702738  4.961400e-02  5.867008e-34  0.116832   \n",
       "25  3.994851   -3.803119   2.337504  1.287500e-01  1.683705e-14  0.303183   \n",
       "4   1.796293  -23.981138   2.513821  1.385955e-02  1.804515e-04  0.032817   \n",
       "21  3.580406  -19.219284   2.575113  4.141420e-08  8.041900e-02  0.160838   \n",
       "9   2.010273   19.661710   2.960881  6.832094e-02  1.155976e-26  0.160884   \n",
       "20  3.448151   10.967446   3.240442  5.598028e-03  1.988876e-02  0.044146   \n",
       "24  4.168720    3.531492   8.678421  1.371792e-02  1.442199e-02  0.050369   \n",
       "18  3.237421   -1.816883   8.723872  1.350000e-01  1.327658e-01  0.482448   \n",
       "33  5.035664  -64.507895   8.749746  1.294478e-01  1.978362e-02  0.325435   \n",
       "17  2.958010    6.186223  10.435165  3.011247e-03  2.465487e-02  0.050328   \n",
       "22  3.462387   22.658157  13.276291  1.530497e-01  1.737500e-01  0.580804   \n",
       "35  5.117093  -41.136493  17.136027  1.752352e-01  4.171940e-06  0.412652   \n",
       "32  5.092236  180.478741  20.394275  1.614138e-02  2.545414e-02  0.072201   \n",
       "16  2.936225    1.163722  43.543129  1.198968e-02  9.420726e-03  0.039524   \n",
       "\n",
       "          area      area-err        X0  \n",
       "19   -0.954482  1.059688e-14  3.235715  \n",
       "10   -3.582798  5.791285e-10  1.965281  \n",
       "5    11.447571  1.451331e-13  1.900075  \n",
       "31   -0.051813  3.771495e-13  4.629751  \n",
       "15   -1.187899  6.207266e-09  2.582208  \n",
       "30    0.017922  7.818231e-11  4.586604  \n",
       "12   -0.960291  5.603268e-09  2.564466  \n",
       "29    0.117181  4.184048e-11  4.622961  \n",
       "14   -1.590104  3.480714e-10  2.263512  \n",
       "7    -3.220193  1.487202e-08  1.822599  \n",
       "6    -2.700723  1.371490e-08  1.769782  \n",
       "3     0.343891  4.662912e-14  1.707533  \n",
       "13    7.814070  3.059923e-10  2.729000  \n",
       "11   -1.841195  3.674987e-11  2.134422  \n",
       "27    0.124022  1.642654e-10  3.931750  \n",
       "1     2.131739  1.128755e-12  1.759750  \n",
       "8     3.411232  1.443441e-09  2.076642  \n",
       "34  -60.572371  6.283697e-10  5.405399  \n",
       "26    0.728270  8.343855e-10  4.198795  \n",
       "28    0.916206  1.021479e-14  4.522959  \n",
       "0     1.317520  3.153669e-13  1.642423  \n",
       "23   -2.300724  6.060853e-13  3.716405  \n",
       "2     0.230013  1.489653e-14  1.561360  \n",
       "25   -0.477435  4.437278e-10  3.994851  \n",
       "4    -0.968768  2.744937e-09  1.796293  \n",
       "21  -11.156832  9.917195e-10  3.580406  \n",
       "9    10.142040  1.125993e-13  2.010273  \n",
       "20   10.714880  5.413011e-09  3.448151  \n",
       "24   10.177000  2.107157e-09  4.168720  \n",
       "18    2.879676  1.461029e-12  3.237421  \n",
       "33  -47.328096  9.848822e-12  5.035664  \n",
       "17   13.165776  6.695883e-08  2.958010  \n",
       "22   24.059143  1.584254e-10  3.462387  \n",
       "35  -18.555645  5.257710e-09  5.117093  \n",
       "32  175.740141  2.747309e-07  5.092236  \n",
       "16   43.173885  3.014130e-07  2.936225  "
      ]
     },
     "execution_count": 46,
     "metadata": {},
     "output_type": "execute_result"
    }
   ],
   "source": [
    "#Sort by the intensity values\n",
    "\n",
    "subdata=data[173]\n",
    "subdata = subdata.sort_values('I')\n",
    "#data = data.drop([0,1,2], axis=0)\n",
    "subdata\n",
    "\n",
    "#subdata.drop(subdata.index[range(0,3)])\n",
    "#subdata = subdata.sort_index()\n",
    "#subdata"
   ]
  },
  {
   "cell_type": "code",
   "execution_count": 47,
   "metadata": {},
   "outputs": [],
   "source": [
    "#fit_peak function returns the 4 curve that add up to the particular peak within the range inputted to it\n",
    "\n",
    "vv = fit_peak(subdata1[blocks1[0]:blocks1[1]],subdata2[blocks1[0]:blocks1[1]],peakShape=\"Voigt\")"
   ]
  },
  {
   "cell_type": "code",
   "execution_count": 48,
   "metadata": {},
   "outputs": [
    {
     "data": {
      "text/plain": [
       "dict_keys(['curve 0', 'curve 1', 'curve 2', 'curve 3'])"
      ]
     },
     "execution_count": 48,
     "metadata": {},
     "output_type": "execute_result"
    }
   ],
   "source": [
    "vv[1].keys()"
   ]
  },
  {
   "cell_type": "code",
   "execution_count": 49,
   "metadata": {},
   "outputs": [
    {
     "data": {
      "text/plain": [
       "(10,)"
      ]
     },
     "execution_count": 49,
     "metadata": {},
     "output_type": "execute_result"
    }
   ],
   "source": [
    "np.shape(blocks1)"
   ]
  },
  {
   "cell_type": "code",
   "execution_count": 50,
   "metadata": {},
   "outputs": [],
   "source": [
    "vv1,vv2 = vv"
   ]
  },
  {
   "cell_type": "code",
   "execution_count": 51,
   "metadata": {
    "scrolled": false
   },
   "outputs": [
    {
     "name": "stdout",
     "output_type": "stream",
     "text": [
      "curve 0\n",
      "1.659918124124546\n",
      "0.003452339942267163\n",
      "0.1996841421967573\n",
      "0.029967312982198225\n",
      "8.47225377579186e-24\n",
      "curve 1\n",
      "1.7387501059312365\n",
      "-2.0894916041409353\n",
      "3.475773506089016\n",
      "0.05625000803857253\n",
      "0.056250008038572545\n",
      "curve 2\n",
      "1.5765838861877248\n",
      "-4.968902036800536\n",
      "6.109924812278409\n",
      "0.056250008038572545\n",
      "0.04406264909663449\n",
      "curve 3\n",
      "1.7387501059312365\n",
      "-4.97652244919456\n",
      "1.8055976810611227\n",
      "0.05625000803857222\n",
      "0.056250008038572545\n"
     ]
    }
   ],
   "source": [
    "for name, param in vv1.items():\n",
    "        print(name)\n",
    "        for pname,subparam in param.items():\n",
    "                print(subparam)"
   ]
  },
  {
   "cell_type": "code",
   "execution_count": 52,
   "metadata": {},
   "outputs": [],
   "source": [
    "# feat_extr returns the curve paramaters which make up the peaks as returned by bayesian_block_finder\n",
    "#and their offsets form the x and y axes (x0,y0)\n",
    "#It later saves all the curve parameters for the datapoint/XRD pattern in a csv file labelled by its grid number\n",
    "#This has already being written in a python script\n",
    "\n",
    "def feat_extr():\n",
    "    BigParams = {}\n",
    "    \n",
    "        \n",
    "    path = \"C:/Users/oluwa/Downloads/TiNiSn_500C-20200714T190740Z-001/TiNiSn_500C/\"\n",
    "    regex = \"\"\"TiNiSn_500C_Y20190218_14x14_t60_(?P<num>.*?)_bkgdSub_1D.csv\"\"\"\n",
    "   \n",
    "    # Pull data from file\n",
    "    files = os.listdir(path)\n",
    "    #regex to parse grid location from file\n",
    "    pattern = re.compile(regex)\n",
    "\n",
    "    if len(files) == 0:\n",
    "         print(\"no files in path\")\n",
    "         sys.exit()\n",
    "    files = list(files[175:179])\n",
    "\n",
    "    for file in files:\n",
    "        match = pattern.match(file)\n",
    "        if(match == None):\n",
    "            continue\n",
    "        num = int(match.group(\"num\"))\n",
    "        print(num)\n",
    "        #if verbose:\n",
    "            #print(\"\\t:: \" + str(num) + \"\\t| \" + file)\n",
    "\n",
    "        #data_array = np.array(pd.read_csv(path + file,header=None))\n",
    "        #try:\n",
    "         #   data_array[0].astype(np.float)\n",
    "        #except:\n",
    "         #   data_array = data_array[1:]\n",
    "        #self.data[num] = data_array.astype(np.float)\n",
    "        print(path+file)\n",
    "\n",
    "        data1 = pd.read_csv(path + file, names= [\"angles\",\"Intensity\"])\n",
    "        blocks1 = bayesian_block_finder(data1[\"angles\"].values, data1[\"Intensity\"].values)\n",
    "        blocks1 = blocks1.astype(int)\n",
    "        subdata1 = data1[\"angles\"].values\n",
    "        subdata2 = data1[\"Intensity\"].values\n",
    "\n",
    "         # Get peaks boundaries\n",
    "        output = []\n",
    "        for i in range(len(blocks1)-1):\n",
    "            output.append(fit_peak(subdata1[blocks1[i]:blocks1[i+1]],subdata2[blocks1[i]:blocks1[i+1]],peakShape=\"Voigt\"))\n",
    "\n",
    "        # Get Peak Parameters and store as a csv file                  \n",
    "        fullp = []\n",
    "        for II in range(len(output)):\n",
    "\n",
    "            out1,out2 = output[II]\n",
    "\n",
    "            fullparams=[]\n",
    "            fullparams1 =[]\n",
    "            for name, param in out1.items():\n",
    "                params = []\n",
    "                for pname,subparam in param.items():\n",
    "                    #print(name, pname, subparam)\n",
    "                    params.append(subparam)\n",
    "                fullparams.append(params)\n",
    "\n",
    "            for name1, param1 in out2.items():\n",
    "                params1 = []\n",
    "                for pname1,subparam1 in param1.items():\n",
    "                        #print(name1, pname1, subparam1)\n",
    "                        params1.append(subparam1)\n",
    "                fullparams1.append(params1)\n",
    "\n",
    "                \n",
    "\n",
    "            for i in range(len(fullparams)):\n",
    "                fullp.append(fullparams[i]+fullparams1[i])\n",
    "\n",
    "\n",
    "        print(np.shape(fullp))\n",
    "        BigParams[num] = fullp\n",
    "\n",
    "        if num > 99:\n",
    "            nnn = \"0\" + str(num)\n",
    "        elif num > 9:\n",
    "            nnn = \"00\" + str(num)\n",
    "        else: \n",
    "            nnn = \"000\" + str(num)\n",
    "\n",
    "        print('TiNiSn_500C_Y20190218_14x14_t60_'+ nnn +'_bkgdSub_1D_extr_param')\n",
    "        np.savetxt('TiNiSn_500C_Y20190218_14x14_t60_'+ nnn +'_bkgdSub_1D_extr_param',fullp,delimiter =',')\n",
    "\n",
    "\n",
    "\n",
    "    \n",
    "    return BigParams"
   ]
  },
  {
   "cell_type": "code",
   "execution_count": 53,
   "metadata": {},
   "outputs": [
    {
     "data": {
      "text/plain": [
       "dict_keys([173, 174, 175])"
      ]
     },
     "execution_count": 53,
     "metadata": {},
     "output_type": "execute_result"
    }
   ],
   "source": [
    "data.keys()"
   ]
  },
  {
   "cell_type": "code",
   "execution_count": 54,
   "metadata": {},
   "outputs": [],
   "source": [
    "#Trying out locating files from a directory on my laptop\n",
    "\n",
    "path = \"C:/Users/oluwa/Downloads/TiNiSn_500C-20200714T190740Z-001/TiNiSn_500C/\"\n",
    "regex = \"\"\"TiNiSn_500C_Y20190218_14x14_t60_(?P<num>.*?)_bkgdSub_1D.csv\"\"\"\n",
    "\n",
    "# Pull data from file\n",
    "files = os.listdir(path)\n",
    "#regex to parse grid location from file\n",
    "pattern = re.compile(regex)\n",
    "\n",
    "if len(files) == 0:\n",
    "     print(\"no files in path\")\n",
    "     sys.exit()\n",
    "files =[files[4:8]]"
   ]
  },
  {
   "cell_type": "code",
   "execution_count": 55,
   "metadata": {},
   "outputs": [
    {
     "data": {
      "text/plain": [
       "(36, 9)"
      ]
     },
     "execution_count": 55,
     "metadata": {},
     "output_type": "execute_result"
    }
   ],
   "source": [
    "np.shape(data[175])"
   ]
  },
  {
   "cell_type": "code",
   "execution_count": 56,
   "metadata": {},
   "outputs": [],
   "source": [
    "#Trying out locating files from a directory on my laptop\n",
    "\n",
    "path = \"C:/Users/oluwa/Downloads/TiNiSn_500C-20200714T190740Z-001/TiNiSn_500C/\"\n",
    "regex = \"\"\"TiNiSn_500C_Y20190218_14x14_t60_(?P<num>.*?)_bkgdSub_1D.csv\"\"\"\n",
    "\n",
    "# Pull data from file\n",
    "files = os.listdir(path)\n",
    "#regex to parse grid location from file\n",
    "pattern = re.compile(regex)\n",
    "\n",
    "if len(files) == 0:\n",
    "     print(\"no files in path\")\n",
    "     sys.exit()\n",
    "        "
   ]
  },
  {
   "cell_type": "code",
   "execution_count": 57,
   "metadata": {},
   "outputs": [],
   "source": [
    "files = list(files[3:8])"
   ]
  },
  {
   "cell_type": "code",
   "execution_count": 58,
   "metadata": {},
   "outputs": [
    {
     "data": {
      "text/plain": [
       "(5,)"
      ]
     },
     "execution_count": 58,
     "metadata": {},
     "output_type": "execute_result"
    }
   ],
   "source": [
    "np.shape(files)"
   ]
  },
  {
   "cell_type": "code",
   "execution_count": 59,
   "metadata": {},
   "outputs": [
    {
     "data": {
      "text/plain": [
       "['TiNiSn_500C_Y20190218_14x14_t60_0001_bkgdSub_1D.csv',\n",
       " 'TiNiSn_500C_Y20190218_14x14_t60_0001_bkgdSub_1D.xlsx',\n",
       " 'TiNiSn_500C_Y20190218_14x14_t60_0002_bkgdSub_1D.csv',\n",
       " 'TiNiSn_500C_Y20190218_14x14_t60_0003_bkgdSub_1D.csv',\n",
       " 'TiNiSn_500C_Y20190218_14x14_t60_0004_bkgdSub_1D.csv']"
      ]
     },
     "execution_count": 59,
     "metadata": {},
     "output_type": "execute_result"
    }
   ],
   "source": [
    "files"
   ]
  },
  {
   "cell_type": "code",
   "execution_count": 60,
   "metadata": {},
   "outputs": [
    {
     "data": {
      "text/plain": [
       "str"
      ]
     },
     "execution_count": 60,
     "metadata": {},
     "output_type": "execute_result"
    }
   ],
   "source": [
    "type(files[0])"
   ]
  },
  {
   "cell_type": "code",
   "execution_count": 61,
   "metadata": {},
   "outputs": [],
   "source": [
    "#Trying out locating files from a directory on my laptop\n",
    "\n",
    "path = \"C:/Users/oluwa/Jupyter notebooks/\"\n",
    "regex = \"TiNiSn_500C_Y20190218_14x14_t60_(?P<num>.*?)_bkgdSub_1D_extr_param.csv\"\n",
    "   \n",
    "# Pull data from file\n",
    "files = os.listdir(path)\n",
    "#regex to parse grid location from file\n",
    "pattern = re.compile(regex)\n",
    "\n",
    "if len(files) == 0:\n",
    "     print(\"no files in path\")\n",
    "     sys.exit()\n",
    "filess=[]    \n",
    "for file in files:\n",
    "    match = pattern.match(file)\n",
    "    if(match == None):\n",
    "        continue\n",
    "    if filess.append(match):\n",
    "        num = int(match.group(\"num\"))\n",
    "        print(num)\n",
    "    \n",
    "    "
   ]
  },
  {
   "cell_type": "code",
   "execution_count": 62,
   "metadata": {},
   "outputs": [
    {
     "data": {
      "text/plain": [
       "[<re.Match object; span=(0, 62), match='TiNiSn_500C_Y20190218_14x14_t60_0001_bkgdSub_1D_e>,\n",
       " <re.Match object; span=(0, 62), match='TiNiSn_500C_Y20190218_14x14_t60_0002_bkgdSub_1D_e>,\n",
       " <re.Match object; span=(0, 62), match='TiNiSn_500C_Y20190218_14x14_t60_0003_bkgdSub_1D_e>,\n",
       " <re.Match object; span=(0, 62), match='TiNiSn_500C_Y20190218_14x14_t60_0004_bkgdSub_1D_e>,\n",
       " <re.Match object; span=(0, 62), match='TiNiSn_500C_Y20190218_14x14_t60_0005_bkgdSub_1D_e>,\n",
       " <re.Match object; span=(0, 62), match='TiNiSn_500C_Y20190218_14x14_t60_0006_bkgdSub_1D_e>,\n",
       " <re.Match object; span=(0, 62), match='TiNiSn_500C_Y20190218_14x14_t60_0007_bkgdSub_1D_e>,\n",
       " <re.Match object; span=(0, 62), match='TiNiSn_500C_Y20190218_14x14_t60_0008_bkgdSub_1D_e>,\n",
       " <re.Match object; span=(0, 62), match='TiNiSn_500C_Y20190218_14x14_t60_0009_bkgdSub_1D_e>,\n",
       " <re.Match object; span=(0, 62), match='TiNiSn_500C_Y20190218_14x14_t60_0010_bkgdSub_1D_e>,\n",
       " <re.Match object; span=(0, 62), match='TiNiSn_500C_Y20190218_14x14_t60_0011_bkgdSub_1D_e>,\n",
       " <re.Match object; span=(0, 62), match='TiNiSn_500C_Y20190218_14x14_t60_0012_bkgdSub_1D_e>,\n",
       " <re.Match object; span=(0, 62), match='TiNiSn_500C_Y20190218_14x14_t60_0013_bkgdSub_1D_e>,\n",
       " <re.Match object; span=(0, 62), match='TiNiSn_500C_Y20190218_14x14_t60_0014_bkgdSub_1D_e>,\n",
       " <re.Match object; span=(0, 62), match='TiNiSn_500C_Y20190218_14x14_t60_0015_bkgdSub_1D_e>,\n",
       " <re.Match object; span=(0, 62), match='TiNiSn_500C_Y20190218_14x14_t60_0016_bkgdSub_1D_e>,\n",
       " <re.Match object; span=(0, 62), match='TiNiSn_500C_Y20190218_14x14_t60_0017_bkgdSub_1D_e>,\n",
       " <re.Match object; span=(0, 62), match='TiNiSn_500C_Y20190218_14x14_t60_0018_bkgdSub_1D_e>,\n",
       " <re.Match object; span=(0, 62), match='TiNiSn_500C_Y20190218_14x14_t60_0019_bkgdSub_1D_e>,\n",
       " <re.Match object; span=(0, 62), match='TiNiSn_500C_Y20190218_14x14_t60_0020_bkgdSub_1D_e>,\n",
       " <re.Match object; span=(0, 62), match='TiNiSn_500C_Y20190218_14x14_t60_0021_bkgdSub_1D_e>,\n",
       " <re.Match object; span=(0, 62), match='TiNiSn_500C_Y20190218_14x14_t60_0022_bkgdSub_1D_e>,\n",
       " <re.Match object; span=(0, 62), match='TiNiSn_500C_Y20190218_14x14_t60_0023_bkgdSub_1D_e>,\n",
       " <re.Match object; span=(0, 62), match='TiNiSn_500C_Y20190218_14x14_t60_0024_bkgdSub_1D_e>,\n",
       " <re.Match object; span=(0, 62), match='TiNiSn_500C_Y20190218_14x14_t60_0025_bkgdSub_1D_e>,\n",
       " <re.Match object; span=(0, 62), match='TiNiSn_500C_Y20190218_14x14_t60_0026_bkgdSub_1D_e>,\n",
       " <re.Match object; span=(0, 62), match='TiNiSn_500C_Y20190218_14x14_t60_0027_bkgdSub_1D_e>,\n",
       " <re.Match object; span=(0, 62), match='TiNiSn_500C_Y20190218_14x14_t60_0028_bkgdSub_1D_e>,\n",
       " <re.Match object; span=(0, 62), match='TiNiSn_500C_Y20190218_14x14_t60_0029_bkgdSub_1D_e>,\n",
       " <re.Match object; span=(0, 62), match='TiNiSn_500C_Y20190218_14x14_t60_0030_bkgdSub_1D_e>,\n",
       " <re.Match object; span=(0, 62), match='TiNiSn_500C_Y20190218_14x14_t60_0031_bkgdSub_1D_e>,\n",
       " <re.Match object; span=(0, 62), match='TiNiSn_500C_Y20190218_14x14_t60_0032_bkgdSub_1D_e>,\n",
       " <re.Match object; span=(0, 62), match='TiNiSn_500C_Y20190218_14x14_t60_0033_bkgdSub_1D_e>,\n",
       " <re.Match object; span=(0, 62), match='TiNiSn_500C_Y20190218_14x14_t60_0034_bkgdSub_1D_e>,\n",
       " <re.Match object; span=(0, 62), match='TiNiSn_500C_Y20190218_14x14_t60_0035_bkgdSub_1D_e>,\n",
       " <re.Match object; span=(0, 62), match='TiNiSn_500C_Y20190218_14x14_t60_0036_bkgdSub_1D_e>,\n",
       " <re.Match object; span=(0, 62), match='TiNiSn_500C_Y20190218_14x14_t60_0037_bkgdSub_1D_e>,\n",
       " <re.Match object; span=(0, 62), match='TiNiSn_500C_Y20190218_14x14_t60_0038_bkgdSub_1D_e>,\n",
       " <re.Match object; span=(0, 62), match='TiNiSn_500C_Y20190218_14x14_t60_0039_bkgdSub_1D_e>,\n",
       " <re.Match object; span=(0, 62), match='TiNiSn_500C_Y20190218_14x14_t60_0040_bkgdSub_1D_e>,\n",
       " <re.Match object; span=(0, 62), match='TiNiSn_500C_Y20190218_14x14_t60_0041_bkgdSub_1D_e>,\n",
       " <re.Match object; span=(0, 62), match='TiNiSn_500C_Y20190218_14x14_t60_0042_bkgdSub_1D_e>,\n",
       " <re.Match object; span=(0, 62), match='TiNiSn_500C_Y20190218_14x14_t60_0043_bkgdSub_1D_e>,\n",
       " <re.Match object; span=(0, 62), match='TiNiSn_500C_Y20190218_14x14_t60_0044_bkgdSub_1D_e>,\n",
       " <re.Match object; span=(0, 62), match='TiNiSn_500C_Y20190218_14x14_t60_0045_bkgdSub_1D_e>,\n",
       " <re.Match object; span=(0, 62), match='TiNiSn_500C_Y20190218_14x14_t60_0046_bkgdSub_1D_e>,\n",
       " <re.Match object; span=(0, 62), match='TiNiSn_500C_Y20190218_14x14_t60_0047_bkgdSub_1D_e>,\n",
       " <re.Match object; span=(0, 62), match='TiNiSn_500C_Y20190218_14x14_t60_0048_bkgdSub_1D_e>,\n",
       " <re.Match object; span=(0, 62), match='TiNiSn_500C_Y20190218_14x14_t60_0049_bkgdSub_1D_e>,\n",
       " <re.Match object; span=(0, 62), match='TiNiSn_500C_Y20190218_14x14_t60_0050_bkgdSub_1D_e>,\n",
       " <re.Match object; span=(0, 62), match='TiNiSn_500C_Y20190218_14x14_t60_0051_bkgdSub_1D_e>,\n",
       " <re.Match object; span=(0, 62), match='TiNiSn_500C_Y20190218_14x14_t60_0052_bkgdSub_1D_e>,\n",
       " <re.Match object; span=(0, 62), match='TiNiSn_500C_Y20190218_14x14_t60_0053_bkgdSub_1D_e>,\n",
       " <re.Match object; span=(0, 62), match='TiNiSn_500C_Y20190218_14x14_t60_0054_bkgdSub_1D_e>,\n",
       " <re.Match object; span=(0, 62), match='TiNiSn_500C_Y20190218_14x14_t60_0055_bkgdSub_1D_e>,\n",
       " <re.Match object; span=(0, 62), match='TiNiSn_500C_Y20190218_14x14_t60_0056_bkgdSub_1D_e>,\n",
       " <re.Match object; span=(0, 62), match='TiNiSn_500C_Y20190218_14x14_t60_0057_bkgdSub_1D_e>,\n",
       " <re.Match object; span=(0, 62), match='TiNiSn_500C_Y20190218_14x14_t60_0058_bkgdSub_1D_e>,\n",
       " <re.Match object; span=(0, 62), match='TiNiSn_500C_Y20190218_14x14_t60_0059_bkgdSub_1D_e>,\n",
       " <re.Match object; span=(0, 62), match='TiNiSn_500C_Y20190218_14x14_t60_0060_bkgdSub_1D_e>,\n",
       " <re.Match object; span=(0, 62), match='TiNiSn_500C_Y20190218_14x14_t60_0061_bkgdSub_1D_e>,\n",
       " <re.Match object; span=(0, 62), match='TiNiSn_500C_Y20190218_14x14_t60_0062_bkgdSub_1D_e>,\n",
       " <re.Match object; span=(0, 62), match='TiNiSn_500C_Y20190218_14x14_t60_0063_bkgdSub_1D_e>,\n",
       " <re.Match object; span=(0, 62), match='TiNiSn_500C_Y20190218_14x14_t60_0064_bkgdSub_1D_e>,\n",
       " <re.Match object; span=(0, 62), match='TiNiSn_500C_Y20190218_14x14_t60_0065_bkgdSub_1D_e>,\n",
       " <re.Match object; span=(0, 62), match='TiNiSn_500C_Y20190218_14x14_t60_0066_bkgdSub_1D_e>,\n",
       " <re.Match object; span=(0, 62), match='TiNiSn_500C_Y20190218_14x14_t60_0067_bkgdSub_1D_e>,\n",
       " <re.Match object; span=(0, 62), match='TiNiSn_500C_Y20190218_14x14_t60_0068_bkgdSub_1D_e>,\n",
       " <re.Match object; span=(0, 62), match='TiNiSn_500C_Y20190218_14x14_t60_0069_bkgdSub_1D_e>,\n",
       " <re.Match object; span=(0, 62), match='TiNiSn_500C_Y20190218_14x14_t60_0070_bkgdSub_1D_e>,\n",
       " <re.Match object; span=(0, 62), match='TiNiSn_500C_Y20190218_14x14_t60_0071_bkgdSub_1D_e>,\n",
       " <re.Match object; span=(0, 62), match='TiNiSn_500C_Y20190218_14x14_t60_0072_bkgdSub_1D_e>,\n",
       " <re.Match object; span=(0, 62), match='TiNiSn_500C_Y20190218_14x14_t60_0073_bkgdSub_1D_e>,\n",
       " <re.Match object; span=(0, 62), match='TiNiSn_500C_Y20190218_14x14_t60_0074_bkgdSub_1D_e>,\n",
       " <re.Match object; span=(0, 62), match='TiNiSn_500C_Y20190218_14x14_t60_0075_bkgdSub_1D_e>,\n",
       " <re.Match object; span=(0, 62), match='TiNiSn_500C_Y20190218_14x14_t60_0076_bkgdSub_1D_e>,\n",
       " <re.Match object; span=(0, 62), match='TiNiSn_500C_Y20190218_14x14_t60_0077_bkgdSub_1D_e>,\n",
       " <re.Match object; span=(0, 62), match='TiNiSn_500C_Y20190218_14x14_t60_0078_bkgdSub_1D_e>,\n",
       " <re.Match object; span=(0, 62), match='TiNiSn_500C_Y20190218_14x14_t60_0079_bkgdSub_1D_e>,\n",
       " <re.Match object; span=(0, 62), match='TiNiSn_500C_Y20190218_14x14_t60_0080_bkgdSub_1D_e>,\n",
       " <re.Match object; span=(0, 62), match='TiNiSn_500C_Y20190218_14x14_t60_0081_bkgdSub_1D_e>,\n",
       " <re.Match object; span=(0, 62), match='TiNiSn_500C_Y20190218_14x14_t60_0082_bkgdSub_1D_e>,\n",
       " <re.Match object; span=(0, 62), match='TiNiSn_500C_Y20190218_14x14_t60_0083_bkgdSub_1D_e>,\n",
       " <re.Match object; span=(0, 62), match='TiNiSn_500C_Y20190218_14x14_t60_0084_bkgdSub_1D_e>,\n",
       " <re.Match object; span=(0, 62), match='TiNiSn_500C_Y20190218_14x14_t60_0085_bkgdSub_1D_e>,\n",
       " <re.Match object; span=(0, 62), match='TiNiSn_500C_Y20190218_14x14_t60_0086_bkgdSub_1D_e>,\n",
       " <re.Match object; span=(0, 62), match='TiNiSn_500C_Y20190218_14x14_t60_0087_bkgdSub_1D_e>,\n",
       " <re.Match object; span=(0, 62), match='TiNiSn_500C_Y20190218_14x14_t60_0088_bkgdSub_1D_e>,\n",
       " <re.Match object; span=(0, 62), match='TiNiSn_500C_Y20190218_14x14_t60_0089_bkgdSub_1D_e>,\n",
       " <re.Match object; span=(0, 62), match='TiNiSn_500C_Y20190218_14x14_t60_0090_bkgdSub_1D_e>,\n",
       " <re.Match object; span=(0, 62), match='TiNiSn_500C_Y20190218_14x14_t60_0091_bkgdSub_1D_e>,\n",
       " <re.Match object; span=(0, 62), match='TiNiSn_500C_Y20190218_14x14_t60_0092_bkgdSub_1D_e>,\n",
       " <re.Match object; span=(0, 62), match='TiNiSn_500C_Y20190218_14x14_t60_0093_bkgdSub_1D_e>,\n",
       " <re.Match object; span=(0, 62), match='TiNiSn_500C_Y20190218_14x14_t60_0094_bkgdSub_1D_e>,\n",
       " <re.Match object; span=(0, 62), match='TiNiSn_500C_Y20190218_14x14_t60_0095_bkgdSub_1D_e>,\n",
       " <re.Match object; span=(0, 62), match='TiNiSn_500C_Y20190218_14x14_t60_0096_bkgdSub_1D_e>,\n",
       " <re.Match object; span=(0, 62), match='TiNiSn_500C_Y20190218_14x14_t60_0097_bkgdSub_1D_e>,\n",
       " <re.Match object; span=(0, 62), match='TiNiSn_500C_Y20190218_14x14_t60_0098_bkgdSub_1D_e>,\n",
       " <re.Match object; span=(0, 62), match='TiNiSn_500C_Y20190218_14x14_t60_0099_bkgdSub_1D_e>,\n",
       " <re.Match object; span=(0, 62), match='TiNiSn_500C_Y20190218_14x14_t60_0100_bkgdSub_1D_e>,\n",
       " <re.Match object; span=(0, 62), match='TiNiSn_500C_Y20190218_14x14_t60_0101_bkgdSub_1D_e>,\n",
       " <re.Match object; span=(0, 62), match='TiNiSn_500C_Y20190218_14x14_t60_0102_bkgdSub_1D_e>,\n",
       " <re.Match object; span=(0, 62), match='TiNiSn_500C_Y20190218_14x14_t60_0103_bkgdSub_1D_e>,\n",
       " <re.Match object; span=(0, 62), match='TiNiSn_500C_Y20190218_14x14_t60_0104_bkgdSub_1D_e>,\n",
       " <re.Match object; span=(0, 62), match='TiNiSn_500C_Y20190218_14x14_t60_0105_bkgdSub_1D_e>,\n",
       " <re.Match object; span=(0, 62), match='TiNiSn_500C_Y20190218_14x14_t60_0106_bkgdSub_1D_e>,\n",
       " <re.Match object; span=(0, 62), match='TiNiSn_500C_Y20190218_14x14_t60_0107_bkgdSub_1D_e>,\n",
       " <re.Match object; span=(0, 62), match='TiNiSn_500C_Y20190218_14x14_t60_0108_bkgdSub_1D_e>,\n",
       " <re.Match object; span=(0, 62), match='TiNiSn_500C_Y20190218_14x14_t60_0109_bkgdSub_1D_e>,\n",
       " <re.Match object; span=(0, 62), match='TiNiSn_500C_Y20190218_14x14_t60_0110_bkgdSub_1D_e>,\n",
       " <re.Match object; span=(0, 62), match='TiNiSn_500C_Y20190218_14x14_t60_0111_bkgdSub_1D_e>,\n",
       " <re.Match object; span=(0, 62), match='TiNiSn_500C_Y20190218_14x14_t60_0112_bkgdSub_1D_e>,\n",
       " <re.Match object; span=(0, 62), match='TiNiSn_500C_Y20190218_14x14_t60_0113_bkgdSub_1D_e>,\n",
       " <re.Match object; span=(0, 62), match='TiNiSn_500C_Y20190218_14x14_t60_0114_bkgdSub_1D_e>,\n",
       " <re.Match object; span=(0, 62), match='TiNiSn_500C_Y20190218_14x14_t60_0115_bkgdSub_1D_e>,\n",
       " <re.Match object; span=(0, 62), match='TiNiSn_500C_Y20190218_14x14_t60_0116_bkgdSub_1D_e>,\n",
       " <re.Match object; span=(0, 62), match='TiNiSn_500C_Y20190218_14x14_t60_0117_bkgdSub_1D_e>,\n",
       " <re.Match object; span=(0, 62), match='TiNiSn_500C_Y20190218_14x14_t60_0118_bkgdSub_1D_e>,\n",
       " <re.Match object; span=(0, 62), match='TiNiSn_500C_Y20190218_14x14_t60_0119_bkgdSub_1D_e>,\n",
       " <re.Match object; span=(0, 62), match='TiNiSn_500C_Y20190218_14x14_t60_0120_bkgdSub_1D_e>,\n",
       " <re.Match object; span=(0, 62), match='TiNiSn_500C_Y20190218_14x14_t60_0121_bkgdSub_1D_e>,\n",
       " <re.Match object; span=(0, 62), match='TiNiSn_500C_Y20190218_14x14_t60_0122_bkgdSub_1D_e>,\n",
       " <re.Match object; span=(0, 62), match='TiNiSn_500C_Y20190218_14x14_t60_0123_bkgdSub_1D_e>,\n",
       " <re.Match object; span=(0, 62), match='TiNiSn_500C_Y20190218_14x14_t60_0124_bkgdSub_1D_e>,\n",
       " <re.Match object; span=(0, 62), match='TiNiSn_500C_Y20190218_14x14_t60_0125_bkgdSub_1D_e>,\n",
       " <re.Match object; span=(0, 62), match='TiNiSn_500C_Y20190218_14x14_t60_0126_bkgdSub_1D_e>,\n",
       " <re.Match object; span=(0, 62), match='TiNiSn_500C_Y20190218_14x14_t60_0127_bkgdSub_1D_e>,\n",
       " <re.Match object; span=(0, 62), match='TiNiSn_500C_Y20190218_14x14_t60_0128_bkgdSub_1D_e>,\n",
       " <re.Match object; span=(0, 62), match='TiNiSn_500C_Y20190218_14x14_t60_0129_bkgdSub_1D_e>,\n",
       " <re.Match object; span=(0, 62), match='TiNiSn_500C_Y20190218_14x14_t60_0130_bkgdSub_1D_e>,\n",
       " <re.Match object; span=(0, 62), match='TiNiSn_500C_Y20190218_14x14_t60_0131_bkgdSub_1D_e>,\n",
       " <re.Match object; span=(0, 62), match='TiNiSn_500C_Y20190218_14x14_t60_0132_bkgdSub_1D_e>,\n",
       " <re.Match object; span=(0, 62), match='TiNiSn_500C_Y20190218_14x14_t60_0133_bkgdSub_1D_e>,\n",
       " <re.Match object; span=(0, 62), match='TiNiSn_500C_Y20190218_14x14_t60_0134_bkgdSub_1D_e>,\n",
       " <re.Match object; span=(0, 62), match='TiNiSn_500C_Y20190218_14x14_t60_0135_bkgdSub_1D_e>,\n",
       " <re.Match object; span=(0, 62), match='TiNiSn_500C_Y20190218_14x14_t60_0136_bkgdSub_1D_e>,\n",
       " <re.Match object; span=(0, 62), match='TiNiSn_500C_Y20190218_14x14_t60_0137_bkgdSub_1D_e>,\n",
       " <re.Match object; span=(0, 62), match='TiNiSn_500C_Y20190218_14x14_t60_0138_bkgdSub_1D_e>,\n",
       " <re.Match object; span=(0, 62), match='TiNiSn_500C_Y20190218_14x14_t60_0139_bkgdSub_1D_e>,\n",
       " <re.Match object; span=(0, 62), match='TiNiSn_500C_Y20190218_14x14_t60_0140_bkgdSub_1D_e>,\n",
       " <re.Match object; span=(0, 62), match='TiNiSn_500C_Y20190218_14x14_t60_0141_bkgdSub_1D_e>,\n",
       " <re.Match object; span=(0, 62), match='TiNiSn_500C_Y20190218_14x14_t60_0142_bkgdSub_1D_e>,\n",
       " <re.Match object; span=(0, 62), match='TiNiSn_500C_Y20190218_14x14_t60_0143_bkgdSub_1D_e>,\n",
       " <re.Match object; span=(0, 62), match='TiNiSn_500C_Y20190218_14x14_t60_0144_bkgdSub_1D_e>,\n",
       " <re.Match object; span=(0, 62), match='TiNiSn_500C_Y20190218_14x14_t60_0145_bkgdSub_1D_e>,\n",
       " <re.Match object; span=(0, 62), match='TiNiSn_500C_Y20190218_14x14_t60_0146_bkgdSub_1D_e>,\n",
       " <re.Match object; span=(0, 62), match='TiNiSn_500C_Y20190218_14x14_t60_0147_bkgdSub_1D_e>,\n",
       " <re.Match object; span=(0, 62), match='TiNiSn_500C_Y20190218_14x14_t60_0148_bkgdSub_1D_e>,\n",
       " <re.Match object; span=(0, 62), match='TiNiSn_500C_Y20190218_14x14_t60_0149_bkgdSub_1D_e>,\n",
       " <re.Match object; span=(0, 62), match='TiNiSn_500C_Y20190218_14x14_t60_0150_bkgdSub_1D_e>,\n",
       " <re.Match object; span=(0, 62), match='TiNiSn_500C_Y20190218_14x14_t60_0151_bkgdSub_1D_e>,\n",
       " <re.Match object; span=(0, 62), match='TiNiSn_500C_Y20190218_14x14_t60_0152_bkgdSub_1D_e>,\n",
       " <re.Match object; span=(0, 62), match='TiNiSn_500C_Y20190218_14x14_t60_0153_bkgdSub_1D_e>,\n",
       " <re.Match object; span=(0, 62), match='TiNiSn_500C_Y20190218_14x14_t60_0154_bkgdSub_1D_e>,\n",
       " <re.Match object; span=(0, 62), match='TiNiSn_500C_Y20190218_14x14_t60_0155_bkgdSub_1D_e>,\n",
       " <re.Match object; span=(0, 62), match='TiNiSn_500C_Y20190218_14x14_t60_0156_bkgdSub_1D_e>,\n",
       " <re.Match object; span=(0, 62), match='TiNiSn_500C_Y20190218_14x14_t60_0157_bkgdSub_1D_e>,\n",
       " <re.Match object; span=(0, 62), match='TiNiSn_500C_Y20190218_14x14_t60_0158_bkgdSub_1D_e>,\n",
       " <re.Match object; span=(0, 62), match='TiNiSn_500C_Y20190218_14x14_t60_0159_bkgdSub_1D_e>,\n",
       " <re.Match object; span=(0, 62), match='TiNiSn_500C_Y20190218_14x14_t60_0160_bkgdSub_1D_e>,\n",
       " <re.Match object; span=(0, 62), match='TiNiSn_500C_Y20190218_14x14_t60_0161_bkgdSub_1D_e>,\n",
       " <re.Match object; span=(0, 62), match='TiNiSn_500C_Y20190218_14x14_t60_0162_bkgdSub_1D_e>,\n",
       " <re.Match object; span=(0, 62), match='TiNiSn_500C_Y20190218_14x14_t60_0163_bkgdSub_1D_e>,\n",
       " <re.Match object; span=(0, 62), match='TiNiSn_500C_Y20190218_14x14_t60_0164_bkgdSub_1D_e>,\n",
       " <re.Match object; span=(0, 62), match='TiNiSn_500C_Y20190218_14x14_t60_0165_bkgdSub_1D_e>,\n",
       " <re.Match object; span=(0, 62), match='TiNiSn_500C_Y20190218_14x14_t60_0166_bkgdSub_1D_e>,\n",
       " <re.Match object; span=(0, 62), match='TiNiSn_500C_Y20190218_14x14_t60_0167_bkgdSub_1D_e>,\n",
       " <re.Match object; span=(0, 62), match='TiNiSn_500C_Y20190218_14x14_t60_0168_bkgdSub_1D_e>,\n",
       " <re.Match object; span=(0, 62), match='TiNiSn_500C_Y20190218_14x14_t60_0169_bkgdSub_1D_e>,\n",
       " <re.Match object; span=(0, 62), match='TiNiSn_500C_Y20190218_14x14_t60_0170_bkgdSub_1D_e>,\n",
       " <re.Match object; span=(0, 62), match='TiNiSn_500C_Y20190218_14x14_t60_0171_bkgdSub_1D_e>,\n",
       " <re.Match object; span=(0, 62), match='TiNiSn_500C_Y20190218_14x14_t60_0172_bkgdSub_1D_e>,\n",
       " <re.Match object; span=(0, 62), match='TiNiSn_500C_Y20190218_14x14_t60_0173_bkgdSub_1D_e>,\n",
       " <re.Match object; span=(0, 62), match='TiNiSn_500C_Y20190218_14x14_t60_0174_bkgdSub_1D_e>,\n",
       " <re.Match object; span=(0, 62), match='TiNiSn_500C_Y20190218_14x14_t60_0175_bkgdSub_1D_e>,\n",
       " <re.Match object; span=(0, 62), match='TiNiSn_500C_Y20190218_14x14_t60_0176_bkgdSub_1D_e>,\n",
       " <re.Match object; span=(0, 62), match='TiNiSn_500C_Y20190218_14x14_t60_0177_bkgdSub_1D_e>]"
      ]
     },
     "execution_count": 62,
     "metadata": {},
     "output_type": "execute_result"
    }
   ],
   "source": [
    "filess"
   ]
  },
  {
   "cell_type": "code",
   "execution_count": 63,
   "metadata": {},
   "outputs": [
    {
     "name": "stdout",
     "output_type": "stream",
     "text": [
      "Object `pd.sort_index` not found.\n"
     ]
    }
   ],
   "source": [
    "pd.sort_index?"
   ]
  }
 ],
 "metadata": {
  "kernelspec": {
   "display_name": "Python 3",
   "language": "python",
   "name": "python3"
  },
  "language_info": {
   "codemirror_mode": {
    "name": "ipython",
    "version": 3
   },
   "file_extension": ".py",
   "mimetype": "text/x-python",
   "name": "python",
   "nbconvert_exporter": "python",
   "pygments_lexer": "ipython3",
   "version": "3.7.6"
  }
 },
 "nbformat": 4,
 "nbformat_minor": 4
}
