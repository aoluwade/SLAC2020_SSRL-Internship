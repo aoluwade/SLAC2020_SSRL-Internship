{
 "cells": [
  {
   "cell_type": "code",
   "execution_count": 1,
   "metadata": {
    "scrolled": true
   },
   "outputs": [
    {
     "name": "stderr",
     "output_type": "stream",
     "text": [
      "WARNING:silx.opencl.common:Unable to import pyOpenCl. Please install it from: http://pypi.python.org/pypi/pyopencl\n"
     ]
    }
   ],
   "source": [
    "import os\n",
    "import re\n",
    "import sys\n",
    "import sklearn as skl\n",
    "import math\n",
    "\n",
    "import matplotlib\n",
    "import matplotlib.pyplot as plt\n",
    "\n",
    "import numpy as np\n",
    "\n",
    "import pandas as pd\n",
    "\n",
    "import sklearn.cluster\n",
    "\n",
    "import glob\n",
    "\n",
    "from data_grid import DataGrid\n",
    "\n",
    "from sklearn.decomposition import PCA\n",
    "\n",
    "from sklearn.decomposition import NMF\n",
    "\n",
    "from data_grid_TiNiSn import DataGrid, DataGrid_TiNiSn_500C, DataGrid_TiNiSn_600C\n",
    "\n",
    "from Agglo_cluster import Agglo_cluster\n",
    "\n",
    "from peak_removal import peak_rem\n",
    "\n",
    "import dataproc.operations\n",
    "\n",
    "from dataproc.operations.hitp import bayesian_block_finder\n",
    "from dataproc.operations.peakShapes import voigtFn\n",
    "from NMF import nmf_func\n",
    "from scipy.signal import find_peaks\n",
    "from scipy.stats import pearsonr\n",
    "from NMF_Cluster import nmf_cluster"
   ]
  },
  {
   "cell_type": "code",
   "execution_count": 2,
   "metadata": {},
   "outputs": [],
   "source": [
    "np.max?"
   ]
  },
  {
   "cell_type": "code",
   "execution_count": 3,
   "metadata": {},
   "outputs": [],
   "source": [
    "nmf_func?"
   ]
  },
  {
   "cell_type": "code",
   "execution_count": 10,
   "metadata": {},
   "outputs": [],
   "source": [
    "nmf_cluster?"
   ]
  },
  {
   "cell_type": "code",
   "execution_count": 4,
   "metadata": {
    "scrolled": true
   },
   "outputs": [
    {
     "name": "stdout",
     "output_type": "stream",
     "text": [
      "Loading Data from: C:/Users/oluwa/Downloads/TiNiSn_500C-20200714T190740Z-001/TiNiSn_500C/\n",
      "Data Loaded Succesfully\n",
      "(177, 800)\n",
      ".....................................4 Clusters...........................................\n",
      "Loading Data from: C:/Users/oluwa/Downloads/TiNiSn_500C-20200714T190740Z-001/TiNiSn_500C/\n",
      "Data Loaded Succesfully\n",
      "(177, 800)\n",
      "No clusters with the same number of peaks for the given threshold and no. of clusters\n",
      "No clusters with correlation above or equal to the given correlation threshold. No peak shifting will be considered\n",
      "(0,) (0,)\n"
     ]
    },
    {
     "data": {
      "image/png": "[encoded data removed]",
      "text/plain": [
       "<Figure size 720x576 with 1 Axes>"
      ]
     },
     "metadata": {
      "needs_background": "light"
     },
     "output_type": "display_data"
    },
    {
     "name": "stdout",
     "output_type": "stream",
     "text": [
      "Loading Data from: C:/Users/oluwa/Downloads/TiNiSn_500C-20200714T190740Z-001/TiNiSn_500C/\n",
      "Data Loaded Succesfully\n",
      "(177, 800)\n",
      ".....................................4 Clusters...........................................\n",
      "Loading Data from: C:/Users/oluwa/Downloads/TiNiSn_500C-20200714T190740Z-001/TiNiSn_500C/\n",
      "Data Loaded Succesfully\n",
      "(177, 800)\n",
      "No clusters with the same number of peaks for the given threshold and no. of clusters\n",
      "No clusters with correlation above or equal to the given correlation threshold. No peak shifting will be considered\n",
      "(0,) (0,)\n"
     ]
    },
    {
     "data": {
      "image/png": "[encoded data removed]",
      "text/plain": [
       "<Figure size 720x576 with 1 Axes>"
      ]
     },
     "metadata": {
      "needs_background": "light"
     },
     "output_type": "display_data"
    },
    {
     "name": "stdout",
     "output_type": "stream",
     "text": [
      "Loading Data from: C:/Users/oluwa/Downloads/TiNiSn_500C-20200714T190740Z-001/TiNiSn_500C/\n",
      "Data Loaded Succesfully\n",
      "(177, 800)\n",
      ".....................................4 Clusters...........................................\n",
      "Loading Data from: C:/Users/oluwa/Downloads/TiNiSn_500C-20200714T190740Z-001/TiNiSn_500C/\n",
      "Data Loaded Succesfully\n",
      "(177, 800)\n",
      "No clusters with the same number of peaks for the given threshold and no. of clusters\n",
      "No clusters with correlation above or equal to the given correlation threshold. No peak shifting will be considered\n",
      "(0,) (0,)\n"
     ]
    },
    {
     "data": {
      "image/png": "[encoded data removed]",
      "text/plain": [
       "<Figure size 720x576 with 1 Axes>"
      ]
     },
     "metadata": {
      "needs_background": "light"
     },
     "output_type": "display_data"
    }
   ],
   "source": [
    "Big_labels=[]\n",
    "for i in [0.7,0.8,0.9]:\n",
    "    labels = nmf_cluster(4,5,visualize=0,pear_threshold=i,peak_threshold=2,contri_threshold=0.15)\n",
    "    Big_labels=Big_labels + labels"
   ]
  },
  {
   "cell_type": "code",
   "execution_count": 5,
   "metadata": {},
   "outputs": [
    {
     "data": {
      "text/plain": [
       "list"
      ]
     },
     "execution_count": 5,
     "metadata": {},
     "output_type": "execute_result"
    }
   ],
   "source": [
    "type(Big_labels)"
   ]
  },
  {
   "cell_type": "code",
   "execution_count": 6,
   "metadata": {
    "scrolled": true
   },
   "outputs": [
    {
     "name": "stdout",
     "output_type": "stream",
     "text": [
      "Loading Data from: C:/Users/oluwa/Downloads/TiNiSn_500C-20200714T190740Z-001/TiNiSn_500C/\n",
      "Data Loaded Succesfully\n",
      "(177, 800)\n",
      ".....................................4 Clusters...........................................\n",
      "Loading Data from: C:/Users/oluwa/Downloads/TiNiSn_500C-20200714T190740Z-001/TiNiSn_500C/\n",
      "Data Loaded Succesfully\n",
      "(177, 800)\n",
      "No clusters with the same number of peaks for the given threshold and no. of clusters\n",
      "No clusters with correlation above or equal to the given correlation threshold. No peak shifting will be considered\n",
      "(0,) (0,)\n"
     ]
    },
    {
     "data": {
      "image/png": "[encoded data removed]",
      "text/plain": [
       "<Figure size 720x576 with 1 Axes>"
      ]
     },
     "metadata": {
      "needs_background": "light"
     },
     "output_type": "display_data"
    },
    {
     "name": "stdout",
     "output_type": "stream",
     "text": [
      "Loading Data from: C:/Users/oluwa/Downloads/TiNiSn_500C-20200714T190740Z-001/TiNiSn_500C/\n",
      "Data Loaded Succesfully\n",
      "(177, 800)\n",
      ".....................................4 Clusters...........................................\n",
      "Loading Data from: C:/Users/oluwa/Downloads/TiNiSn_500C-20200714T190740Z-001/TiNiSn_500C/\n",
      "Data Loaded Succesfully\n",
      "(177, 800)\n",
      "No clusters with the same number of peaks for the given threshold and no. of clusters\n",
      "No clusters with correlation above or equal to the given correlation threshold. No peak shifting will be considered\n",
      "(0,) (0,)\n"
     ]
    },
    {
     "data": {
      "image/png": "[encoded data removed]",
      "text/plain": [
       "<Figure size 720x576 with 1 Axes>"
      ]
     },
     "metadata": {
      "needs_background": "light"
     },
     "output_type": "display_data"
    },
    {
     "name": "stdout",
     "output_type": "stream",
     "text": [
      "Loading Data from: C:/Users/oluwa/Downloads/TiNiSn_500C-20200714T190740Z-001/TiNiSn_500C/\n",
      "Data Loaded Succesfully\n",
      "(177, 800)\n",
      ".....................................4 Clusters...........................................\n",
      "Loading Data from: C:/Users/oluwa/Downloads/TiNiSn_500C-20200714T190740Z-001/TiNiSn_500C/\n",
      "Data Loaded Succesfully\n",
      "(177, 800)\n",
      "No clusters with the same number of peaks for the given threshold and no. of clusters\n",
      "No clusters with correlation above or equal to the given correlation threshold. No peak shifting will be considered\n",
      "(0,) (0,)\n"
     ]
    },
    {
     "data": {
      "image/png": "[encoded data removed]",
      "text/plain": [
       "<Figure size 720x576 with 1 Axes>"
      ]
     },
     "metadata": {
      "needs_background": "light"
     },
     "output_type": "display_data"
    }
   ],
   "source": [
    "for i in [0.7,0.8,0.9]:\n",
    "    labels = nmf_cluster(4,5,visualize=0,pear_threshold=i,peak_threshold=3,contri_threshold=0.25)"
   ]
  },
  {
   "cell_type": "code",
   "execution_count": 7,
   "metadata": {},
   "outputs": [
    {
     "name": "stdout",
     "output_type": "stream",
     "text": [
      "Loading Data from: C:/Users/oluwa/Downloads/TiNiSn_500C-20200714T190740Z-001/TiNiSn_500C/\n",
      "Data Loaded Succesfully\n",
      "(177, 800)\n",
      ".....................................3 Clusters...........................................\n",
      "Loading Data from: C:/Users/oluwa/Downloads/TiNiSn_500C-20200714T190740Z-001/TiNiSn_500C/\n",
      "Data Loaded Succesfully\n",
      "(177, 800)\n",
      "No clusters with the same number of peaks for the given threshold and no. of clusters\n",
      "No clusters with correlation above or equal to the given correlation threshold. No peak shifting will be considered\n",
      "(0,) (0,)\n",
      ".....................................4 Clusters...........................................\n",
      "Loading Data from: C:/Users/oluwa/Downloads/TiNiSn_500C-20200714T190740Z-001/TiNiSn_500C/\n",
      "Data Loaded Succesfully\n",
      "(177, 800)\n",
      "No clusters with the same number of peaks for the given threshold and no. of clusters\n",
      "No clusters with correlation above or equal to the given correlation threshold. No peak shifting will be considered\n",
      "(0,) (0,)\n",
      ".....................................5 Clusters...........................................\n",
      "Loading Data from: C:/Users/oluwa/Downloads/TiNiSn_500C-20200714T190740Z-001/TiNiSn_500C/\n",
      "Data Loaded Succesfully\n",
      "(177, 800)\n",
      "No clusters with the same number of peaks for the given threshold and no. of clusters\n",
      "No clusters with correlation above or equal to the given correlation threshold. No peak shifting will be considered\n",
      "(0,) (0,)\n",
      ".....................................6 Clusters...........................................\n",
      "Loading Data from: C:/Users/oluwa/Downloads/TiNiSn_500C-20200714T190740Z-001/TiNiSn_500C/\n",
      "Data Loaded Succesfully\n",
      "(177, 800)\n",
      "(1, 2) (1, 2)\n",
      "No match between Pearson and same peaks found. Just Pearson will be considered\n",
      "Here are the clusters indices taken out [2]\n",
      "Former H is of shape (6, 177)\n",
      "new_H is of shape (5, 177)\n",
      ".....................................7 Clusters...........................................\n",
      "Loading Data from: C:/Users/oluwa/Downloads/TiNiSn_500C-20200714T190740Z-001/TiNiSn_500C/\n",
      "Data Loaded Succesfully\n",
      "(177, 800)\n",
      "No clusters with the same number of peaks for the given threshold and no. of clusters\n",
      "(2, 2) (0,)\n",
      "Here are the clusters indices taken out [2, 4]\n",
      "Former H is of shape (7, 177)\n",
      "new_H is of shape (5, 177)\n",
      ".....................................8 Clusters...........................................\n",
      "Loading Data from: C:/Users/oluwa/Downloads/TiNiSn_500C-20200714T190740Z-001/TiNiSn_500C/\n",
      "Data Loaded Succesfully\n",
      "(177, 800)\n",
      "(3, 2) (1, 2)\n",
      "No match between Pearson and same peaks found. Just Pearson will be considered\n",
      "Here are the clusters indices taken out [3, 2, 4]\n",
      "Former H is of shape (8, 177)\n",
      "new_H is of shape (5, 177)\n",
      ".....................................9 Clusters...........................................\n",
      "Loading Data from: C:/Users/oluwa/Downloads/TiNiSn_500C-20200714T190740Z-001/TiNiSn_500C/\n",
      "Data Loaded Succesfully\n",
      "(177, 800)\n",
      "No clusters with the same number of peaks for the given threshold and no. of clusters\n",
      "(4, 2) (0,)\n",
      "Here are the clusters indices taken out [3, 2, 6, 4]\n",
      "Former H is of shape (9, 177)\n",
      "new_H is of shape (5, 177)\n",
      ".....................................10 Clusters...........................................\n",
      "Loading Data from: C:/Users/oluwa/Downloads/TiNiSn_500C-20200714T190740Z-001/TiNiSn_500C/\n",
      "Data Loaded Succesfully\n",
      "(177, 800)\n",
      "(3, 2) (1, 2)\n",
      ".........Found Peak and Pearson match!!!..........\n",
      "Here are the clusters indices taken out [2]\n",
      "Former H is of shape (10, 177)\n",
      "new_H is of shape (9, 177)\n"
     ]
    },
    {
     "data": {
      "image/png": "[encoded data removed]",
      "text/plain": [
       "<Figure size 720x576 with 8 Axes>"
      ]
     },
     "metadata": {
      "needs_background": "light"
     },
     "output_type": "display_data"
    },
    {
     "name": "stdout",
     "output_type": "stream",
     "text": [
      "Loading Data from: C:/Users/oluwa/Downloads/TiNiSn_500C-20200714T190740Z-001/TiNiSn_500C/\n",
      "Data Loaded Succesfully\n",
      "(177, 800)\n",
      ".....................................3 Clusters...........................................\n",
      "Loading Data from: C:/Users/oluwa/Downloads/TiNiSn_500C-20200714T190740Z-001/TiNiSn_500C/\n",
      "Data Loaded Succesfully\n",
      "(177, 800)\n",
      "No clusters with the same number of peaks for the given threshold and no. of clusters\n",
      "No clusters with correlation above or equal to the given correlation threshold. No peak shifting will be considered\n",
      "(0,) (0,)\n",
      ".....................................4 Clusters...........................................\n",
      "Loading Data from: C:/Users/oluwa/Downloads/TiNiSn_500C-20200714T190740Z-001/TiNiSn_500C/\n",
      "Data Loaded Succesfully\n",
      "(177, 800)\n",
      "No clusters with the same number of peaks for the given threshold and no. of clusters\n",
      "No clusters with correlation above or equal to the given correlation threshold. No peak shifting will be considered\n",
      "(0,) (0,)\n",
      ".....................................5 Clusters...........................................\n",
      "Loading Data from: C:/Users/oluwa/Downloads/TiNiSn_500C-20200714T190740Z-001/TiNiSn_500C/\n",
      "Data Loaded Succesfully\n",
      "(177, 800)\n",
      "No clusters with the same number of peaks for the given threshold and no. of clusters\n",
      "No clusters with correlation above or equal to the given correlation threshold. No peak shifting will be considered\n",
      "(0,) (0,)\n",
      ".....................................6 Clusters...........................................\n",
      "Loading Data from: C:/Users/oluwa/Downloads/TiNiSn_500C-20200714T190740Z-001/TiNiSn_500C/\n",
      "Data Loaded Succesfully\n",
      "(177, 800)\n",
      "No clusters with correlation above or equal to the given correlation threshold. No peak shifting will be considered\n",
      "(0,) (1, 2)\n",
      ".....................................7 Clusters...........................................\n",
      "Loading Data from: C:/Users/oluwa/Downloads/TiNiSn_500C-20200714T190740Z-001/TiNiSn_500C/\n",
      "Data Loaded Succesfully\n",
      "(177, 800)\n",
      "No clusters with the same number of peaks for the given threshold and no. of clusters\n",
      "(1, 2) (0,)\n",
      "Here are the clusters indices taken out [4]\n",
      "Former H is of shape (7, 177)\n",
      "new_H is of shape (6, 177)\n",
      ".....................................8 Clusters...........................................\n",
      "Loading Data from: C:/Users/oluwa/Downloads/TiNiSn_500C-20200714T190740Z-001/TiNiSn_500C/\n",
      "Data Loaded Succesfully\n",
      "(177, 800)\n",
      "(1, 2) (1, 2)\n",
      "No match between Pearson and same peaks found. Just Pearson will be considered\n",
      "Here are the clusters indices taken out [4]\n",
      "Former H is of shape (8, 177)\n",
      "new_H is of shape (7, 177)\n",
      ".....................................9 Clusters...........................................\n",
      "Loading Data from: C:/Users/oluwa/Downloads/TiNiSn_500C-20200714T190740Z-001/TiNiSn_500C/\n",
      "Data Loaded Succesfully\n",
      "(177, 800)\n",
      "No clusters with the same number of peaks for the given threshold and no. of clusters\n",
      "(3, 2) (0,)\n",
      "Here are the clusters indices taken out [2, 6, 4]\n",
      "Former H is of shape (9, 177)\n",
      "new_H is of shape (6, 177)\n",
      ".....................................10 Clusters...........................................\n",
      "Loading Data from: C:/Users/oluwa/Downloads/TiNiSn_500C-20200714T190740Z-001/TiNiSn_500C/\n",
      "Data Loaded Succesfully\n",
      "(177, 800)\n",
      "(2, 2) (1, 2)\n",
      "No match between Pearson and same peaks found. Just Pearson will be considered\n",
      "Here are the clusters indices taken out [6, 4]\n",
      "Former H is of shape (10, 177)\n",
      "new_H is of shape (8, 177)\n"
     ]
    },
    {
     "data": {
      "image/png": "[encoded data removed]",
      "text/plain": [
       "<Figure size 720x576 with 8 Axes>"
      ]
     },
     "metadata": {
      "needs_background": "light"
     },
     "output_type": "display_data"
    },
    {
     "name": "stdout",
     "output_type": "stream",
     "text": [
      "Loading Data from: C:/Users/oluwa/Downloads/TiNiSn_500C-20200714T190740Z-001/TiNiSn_500C/\n",
      "Data Loaded Succesfully\n",
      "(177, 800)\n",
      ".....................................3 Clusters...........................................\n",
      "Loading Data from: C:/Users/oluwa/Downloads/TiNiSn_500C-20200714T190740Z-001/TiNiSn_500C/\n",
      "Data Loaded Succesfully\n",
      "(177, 800)\n",
      "No clusters with the same number of peaks for the given threshold and no. of clusters\n",
      "No clusters with correlation above or equal to the given correlation threshold. No peak shifting will be considered\n",
      "(0,) (0,)\n",
      ".....................................4 Clusters...........................................\n",
      "Loading Data from: C:/Users/oluwa/Downloads/TiNiSn_500C-20200714T190740Z-001/TiNiSn_500C/\n",
      "Data Loaded Succesfully\n",
      "(177, 800)\n",
      "No clusters with the same number of peaks for the given threshold and no. of clusters\n",
      "No clusters with correlation above or equal to the given correlation threshold. No peak shifting will be considered\n",
      "(0,) (0,)\n",
      ".....................................5 Clusters...........................................\n",
      "Loading Data from: C:/Users/oluwa/Downloads/TiNiSn_500C-20200714T190740Z-001/TiNiSn_500C/\n",
      "Data Loaded Succesfully\n",
      "(177, 800)\n",
      "No clusters with the same number of peaks for the given threshold and no. of clusters\n",
      "No clusters with correlation above or equal to the given correlation threshold. No peak shifting will be considered\n",
      "(0,) (0,)\n",
      ".....................................6 Clusters...........................................\n",
      "Loading Data from: C:/Users/oluwa/Downloads/TiNiSn_500C-20200714T190740Z-001/TiNiSn_500C/\n",
      "Data Loaded Succesfully\n",
      "(177, 800)\n",
      "No clusters with correlation above or equal to the given correlation threshold. No peak shifting will be considered\n",
      "(0,) (1, 2)\n",
      ".....................................7 Clusters...........................................\n",
      "Loading Data from: C:/Users/oluwa/Downloads/TiNiSn_500C-20200714T190740Z-001/TiNiSn_500C/\n",
      "Data Loaded Succesfully\n",
      "(177, 800)\n",
      "No clusters with the same number of peaks for the given threshold and no. of clusters\n",
      "No clusters with correlation above or equal to the given correlation threshold. No peak shifting will be considered\n",
      "(0,) (0,)\n",
      ".....................................8 Clusters...........................................\n",
      "Loading Data from: C:/Users/oluwa/Downloads/TiNiSn_500C-20200714T190740Z-001/TiNiSn_500C/\n",
      "Data Loaded Succesfully\n",
      "(177, 800)\n",
      "No clusters with correlation above or equal to the given correlation threshold. No peak shifting will be considered\n",
      "(0,) (1, 2)\n",
      ".....................................9 Clusters...........................................\n",
      "Loading Data from: C:/Users/oluwa/Downloads/TiNiSn_500C-20200714T190740Z-001/TiNiSn_500C/\n",
      "Data Loaded Succesfully\n",
      "(177, 800)\n",
      "No clusters with the same number of peaks for the given threshold and no. of clusters\n",
      "No clusters with correlation above or equal to the given correlation threshold. No peak shifting will be considered\n",
      "(0,) (0,)\n",
      ".....................................10 Clusters...........................................\n",
      "Loading Data from: C:/Users/oluwa/Downloads/TiNiSn_500C-20200714T190740Z-001/TiNiSn_500C/\n",
      "Data Loaded Succesfully\n",
      "(177, 800)\n",
      "(1, 2) (1, 2)\n",
      "No match between Pearson and same peaks found. Just Pearson will be considered\n",
      "Here are the clusters indices taken out [6]\n",
      "Former H is of shape (10, 177)\n",
      "new_H is of shape (9, 177)\n"
     ]
    },
    {
     "data": {
      "image/png": "[encoded data removed]",
      "text/plain": [
       "<Figure size 720x576 with 8 Axes>"
      ]
     },
     "metadata": {
      "needs_background": "light"
     },
     "output_type": "display_data"
    }
   ],
   "source": [
    "#Woeful.\n",
    "for i in [0.7,0.8,0.9]:\n",
    "    nmf_cluster(3,11,visualize=0,pear_threshold=i,peak_threshold=2,contri_threshold=0.1)"
   ]
  },
  {
   "cell_type": "code",
   "execution_count": 8,
   "metadata": {
    "scrolled": true
   },
   "outputs": [
    {
     "name": "stdout",
     "output_type": "stream",
     "text": [
      "Loading Data from: C:/Users/oluwa/Downloads/TiNiSn_500C-20200714T190740Z-001/TiNiSn_500C/\n",
      "Data Loaded Succesfully\n",
      "(177, 800)\n",
      ".....................................3 Clusters...........................................\n",
      "Loading Data from: C:/Users/oluwa/Downloads/TiNiSn_500C-20200714T190740Z-001/TiNiSn_500C/\n",
      "Data Loaded Succesfully\n",
      "(177, 800)\n",
      "No clusters with the same number of peaks for the given threshold and no. of clusters\n",
      "No clusters with correlation above or equal to the given correlation threshold. No peak shifting will be considered\n",
      "(0,) (0,)\n",
      ".....................................4 Clusters...........................................\n",
      "Loading Data from: C:/Users/oluwa/Downloads/TiNiSn_500C-20200714T190740Z-001/TiNiSn_500C/\n",
      "Data Loaded Succesfully\n",
      "(177, 800)\n",
      "No clusters with the same number of peaks for the given threshold and no. of clusters\n",
      "No clusters with correlation above or equal to the given correlation threshold. No peak shifting will be considered\n",
      "(0,) (0,)\n",
      ".....................................5 Clusters...........................................\n",
      "Loading Data from: C:/Users/oluwa/Downloads/TiNiSn_500C-20200714T190740Z-001/TiNiSn_500C/\n",
      "Data Loaded Succesfully\n",
      "(177, 800)\n",
      "No clusters with the same number of peaks for the given threshold and no. of clusters\n",
      "No clusters with correlation above or equal to the given correlation threshold. No peak shifting will be considered\n",
      "(0,) (0,)\n",
      ".....................................6 Clusters...........................................\n",
      "Loading Data from: C:/Users/oluwa/Downloads/TiNiSn_500C-20200714T190740Z-001/TiNiSn_500C/\n",
      "Data Loaded Succesfully\n",
      "(177, 800)\n",
      "(1, 2) (1, 2)\n",
      "No match between Pearson and same peaks found. Just Pearson will be considered\n",
      "Here are the clusters indices taken out [2]\n",
      "Former H is of shape (6, 177)\n",
      "new_H is of shape (5, 177)\n",
      ".....................................7 Clusters...........................................\n",
      "Loading Data from: C:/Users/oluwa/Downloads/TiNiSn_500C-20200714T190740Z-001/TiNiSn_500C/\n",
      "Data Loaded Succesfully\n",
      "(177, 800)\n",
      "No clusters with the same number of peaks for the given threshold and no. of clusters\n",
      "(2, 2) (0,)\n",
      "Here are the clusters indices taken out [2, 4]\n",
      "Former H is of shape (7, 177)\n",
      "new_H is of shape (5, 177)\n",
      ".....................................8 Clusters...........................................\n",
      "Loading Data from: C:/Users/oluwa/Downloads/TiNiSn_500C-20200714T190740Z-001/TiNiSn_500C/\n",
      "Data Loaded Succesfully\n",
      "(177, 800)\n",
      "(3, 2) (1, 2)\n",
      "No match between Pearson and same peaks found. Just Pearson will be considered\n",
      "Here are the clusters indices taken out [3, 2, 4]\n",
      "Former H is of shape (8, 177)\n",
      "new_H is of shape (5, 177)\n",
      ".....................................9 Clusters...........................................\n",
      "Loading Data from: C:/Users/oluwa/Downloads/TiNiSn_500C-20200714T190740Z-001/TiNiSn_500C/\n",
      "Data Loaded Succesfully\n",
      "(177, 800)\n",
      "(4, 2) (1, 2)\n",
      "No match between Pearson and same peaks found. Just Pearson will be considered\n",
      "Here are the clusters indices taken out [3, 2, 6, 4]\n",
      "Former H is of shape (9, 177)\n",
      "new_H is of shape (5, 177)\n",
      ".....................................10 Clusters...........................................\n",
      "Loading Data from: C:/Users/oluwa/Downloads/TiNiSn_500C-20200714T190740Z-001/TiNiSn_500C/\n",
      "Data Loaded Succesfully\n",
      "(177, 800)\n",
      "(3, 2) (1, 2)\n",
      "No match between Pearson and same peaks found. Just Pearson will be considered\n",
      "Here are the clusters indices taken out [2, 6, 4]\n",
      "Former H is of shape (10, 177)\n",
      "new_H is of shape (7, 177)\n"
     ]
    },
    {
     "data": {
      "image/png": "[encoded data removed]",
      "text/plain": [
       "<Figure size 720x576 with 8 Axes>"
      ]
     },
     "metadata": {
      "needs_background": "light"
     },
     "output_type": "display_data"
    },
    {
     "name": "stdout",
     "output_type": "stream",
     "text": [
      "Loading Data from: C:/Users/oluwa/Downloads/TiNiSn_500C-20200714T190740Z-001/TiNiSn_500C/\n",
      "Data Loaded Succesfully\n",
      "(177, 800)\n",
      ".....................................3 Clusters...........................................\n",
      "Loading Data from: C:/Users/oluwa/Downloads/TiNiSn_500C-20200714T190740Z-001/TiNiSn_500C/\n",
      "Data Loaded Succesfully\n",
      "(177, 800)\n",
      "No clusters with the same number of peaks for the given threshold and no. of clusters\n",
      "No clusters with correlation above or equal to the given correlation threshold. No peak shifting will be considered\n",
      "(0,) (0,)\n",
      ".....................................4 Clusters...........................................\n",
      "Loading Data from: C:/Users/oluwa/Downloads/TiNiSn_500C-20200714T190740Z-001/TiNiSn_500C/\n",
      "Data Loaded Succesfully\n",
      "(177, 800)\n",
      "No clusters with the same number of peaks for the given threshold and no. of clusters\n",
      "No clusters with correlation above or equal to the given correlation threshold. No peak shifting will be considered\n",
      "(0,) (0,)\n",
      ".....................................5 Clusters...........................................\n",
      "Loading Data from: C:/Users/oluwa/Downloads/TiNiSn_500C-20200714T190740Z-001/TiNiSn_500C/\n",
      "Data Loaded Succesfully\n",
      "(177, 800)\n",
      "No clusters with the same number of peaks for the given threshold and no. of clusters\n",
      "No clusters with correlation above or equal to the given correlation threshold. No peak shifting will be considered\n",
      "(0,) (0,)\n",
      ".....................................6 Clusters...........................................\n",
      "Loading Data from: C:/Users/oluwa/Downloads/TiNiSn_500C-20200714T190740Z-001/TiNiSn_500C/\n",
      "Data Loaded Succesfully\n",
      "(177, 800)\n",
      "No clusters with correlation above or equal to the given correlation threshold. No peak shifting will be considered\n",
      "(0,) (1, 2)\n",
      ".....................................7 Clusters...........................................\n",
      "Loading Data from: C:/Users/oluwa/Downloads/TiNiSn_500C-20200714T190740Z-001/TiNiSn_500C/\n",
      "Data Loaded Succesfully\n",
      "(177, 800)\n",
      "No clusters with the same number of peaks for the given threshold and no. of clusters\n",
      "(1, 2) (0,)\n",
      "Here are the clusters indices taken out [4]\n",
      "Former H is of shape (7, 177)\n",
      "new_H is of shape (6, 177)\n",
      ".....................................8 Clusters...........................................\n",
      "Loading Data from: C:/Users/oluwa/Downloads/TiNiSn_500C-20200714T190740Z-001/TiNiSn_500C/\n",
      "Data Loaded Succesfully\n",
      "(177, 800)\n",
      "(1, 2) (1, 2)\n",
      "No match between Pearson and same peaks found. Just Pearson will be considered\n",
      "Here are the clusters indices taken out [4]\n",
      "Former H is of shape (8, 177)\n",
      "new_H is of shape (7, 177)\n",
      ".....................................9 Clusters...........................................\n",
      "Loading Data from: C:/Users/oluwa/Downloads/TiNiSn_500C-20200714T190740Z-001/TiNiSn_500C/\n",
      "Data Loaded Succesfully\n",
      "(177, 800)\n",
      "(3, 2) (1, 2)\n",
      "No match between Pearson and same peaks found. Just Pearson will be considered\n",
      "Here are the clusters indices taken out [2, 6, 4]\n",
      "Former H is of shape (9, 177)\n",
      "new_H is of shape (6, 177)\n",
      ".....................................10 Clusters...........................................\n",
      "Loading Data from: C:/Users/oluwa/Downloads/TiNiSn_500C-20200714T190740Z-001/TiNiSn_500C/\n",
      "Data Loaded Succesfully\n",
      "(177, 800)\n",
      "(2, 2) (1, 2)\n",
      "No match between Pearson and same peaks found. Just Pearson will be considered\n",
      "Here are the clusters indices taken out [6, 4]\n",
      "Former H is of shape (10, 177)\n",
      "new_H is of shape (8, 177)\n"
     ]
    },
    {
     "data": {
      "image/png": "[encoded data removed]",
      "text/plain": [
       "<Figure size 720x576 with 8 Axes>"
      ]
     },
     "metadata": {
      "needs_background": "light"
     },
     "output_type": "display_data"
    },
    {
     "name": "stdout",
     "output_type": "stream",
     "text": [
      "Loading Data from: C:/Users/oluwa/Downloads/TiNiSn_500C-20200714T190740Z-001/TiNiSn_500C/\n",
      "Data Loaded Succesfully\n",
      "(177, 800)\n",
      ".....................................3 Clusters...........................................\n",
      "Loading Data from: C:/Users/oluwa/Downloads/TiNiSn_500C-20200714T190740Z-001/TiNiSn_500C/\n",
      "Data Loaded Succesfully\n",
      "(177, 800)\n",
      "No clusters with the same number of peaks for the given threshold and no. of clusters\n",
      "No clusters with correlation above or equal to the given correlation threshold. No peak shifting will be considered\n",
      "(0,) (0,)\n",
      ".....................................4 Clusters...........................................\n",
      "Loading Data from: C:/Users/oluwa/Downloads/TiNiSn_500C-20200714T190740Z-001/TiNiSn_500C/\n",
      "Data Loaded Succesfully\n",
      "(177, 800)\n",
      "No clusters with the same number of peaks for the given threshold and no. of clusters\n",
      "No clusters with correlation above or equal to the given correlation threshold. No peak shifting will be considered\n",
      "(0,) (0,)\n",
      ".....................................5 Clusters...........................................\n",
      "Loading Data from: C:/Users/oluwa/Downloads/TiNiSn_500C-20200714T190740Z-001/TiNiSn_500C/\n",
      "Data Loaded Succesfully\n",
      "(177, 800)\n",
      "No clusters with the same number of peaks for the given threshold and no. of clusters\n",
      "No clusters with correlation above or equal to the given correlation threshold. No peak shifting will be considered\n",
      "(0,) (0,)\n",
      ".....................................6 Clusters...........................................\n",
      "Loading Data from: C:/Users/oluwa/Downloads/TiNiSn_500C-20200714T190740Z-001/TiNiSn_500C/\n",
      "Data Loaded Succesfully\n",
      "(177, 800)\n",
      "No clusters with correlation above or equal to the given correlation threshold. No peak shifting will be considered\n",
      "(0,) (1, 2)\n",
      ".....................................7 Clusters...........................................\n",
      "Loading Data from: C:/Users/oluwa/Downloads/TiNiSn_500C-20200714T190740Z-001/TiNiSn_500C/\n",
      "Data Loaded Succesfully\n",
      "(177, 800)\n",
      "No clusters with the same number of peaks for the given threshold and no. of clusters\n",
      "No clusters with correlation above or equal to the given correlation threshold. No peak shifting will be considered\n",
      "(0,) (0,)\n",
      ".....................................8 Clusters...........................................\n",
      "Loading Data from: C:/Users/oluwa/Downloads/TiNiSn_500C-20200714T190740Z-001/TiNiSn_500C/\n",
      "Data Loaded Succesfully\n",
      "(177, 800)\n",
      "No clusters with correlation above or equal to the given correlation threshold. No peak shifting will be considered\n",
      "(0,) (1, 2)\n",
      ".....................................9 Clusters...........................................\n",
      "Loading Data from: C:/Users/oluwa/Downloads/TiNiSn_500C-20200714T190740Z-001/TiNiSn_500C/\n",
      "Data Loaded Succesfully\n",
      "(177, 800)\n",
      "No clusters with correlation above or equal to the given correlation threshold. No peak shifting will be considered\n",
      "(0,) (1, 2)\n",
      ".....................................10 Clusters...........................................\n",
      "Loading Data from: C:/Users/oluwa/Downloads/TiNiSn_500C-20200714T190740Z-001/TiNiSn_500C/\n",
      "Data Loaded Succesfully\n",
      "(177, 800)\n",
      "(1, 2) (1, 2)\n",
      "No match between Pearson and same peaks found. Just Pearson will be considered\n",
      "Here are the clusters indices taken out [6]\n",
      "Former H is of shape (10, 177)\n",
      "new_H is of shape (9, 177)\n"
     ]
    },
    {
     "data": {
      "image/png": "[encoded data removed]",
      "text/plain": [
       "<Figure size 720x576 with 8 Axes>"
      ]
     },
     "metadata": {
      "needs_background": "light"
     },
     "output_type": "display_data"
    }
   ],
   "source": [
    "for i in [0.7,0.8,0.9]:\n",
    "    nmf_cluster(3,11,visualize=0,pear_threshold=i,peak_threshold=1,contri_threshold=0.2)"
   ]
  },
  {
   "cell_type": "code",
   "execution_count": 9,
   "metadata": {},
   "outputs": [
    {
     "name": "stdout",
     "output_type": "stream",
     "text": [
      "Loading Data from: C:/Users/oluwa/Downloads/TiNiSn_500C-20200714T190740Z-001/TiNiSn_500C/\n",
      "Data Loaded Succesfully\n",
      "(177, 800)\n",
      ".....................................5 Clusters...........................................\n",
      "Loading Data from: C:/Users/oluwa/Downloads/TiNiSn_500C-20200714T190740Z-001/TiNiSn_500C/\n",
      "Data Loaded Succesfully\n",
      "(177, 800)\n",
      "No clusters with correlation above or equal to the given correlation threshold. No peak shifting will be considered\n",
      "(0,) (1, 2)\n",
      ".....................................6 Clusters...........................................\n",
      "Loading Data from: C:/Users/oluwa/Downloads/TiNiSn_500C-20200714T190740Z-001/TiNiSn_500C/\n",
      "Data Loaded Succesfully\n",
      "(177, 800)\n",
      "(1, 2) (1, 2)\n",
      "No match between Pearson and same peaks found. Just Pearson will be considered\n",
      "Here are the clusters indices taken out [2]\n",
      "Former H is of shape (6, 177)\n",
      "new_H is of shape (5, 177)\n",
      ".....................................7 Clusters...........................................\n",
      "Loading Data from: C:/Users/oluwa/Downloads/TiNiSn_500C-20200714T190740Z-001/TiNiSn_500C/\n",
      "Data Loaded Succesfully\n",
      "(177, 800)\n",
      "(2, 2) (2, 2)\n",
      "No match between Pearson and same peaks found. Just Pearson will be considered\n",
      "Here are the clusters indices taken out [2, 4]\n",
      "Former H is of shape (7, 177)\n",
      "new_H is of shape (5, 177)\n"
     ]
    },
    {
     "data": {
      "image/png": "[encoded data removed]",
      "text/plain": [
       "<Figure size 720x576 with 3 Axes>"
      ]
     },
     "metadata": {
      "needs_background": "light"
     },
     "output_type": "display_data"
    },
    {
     "name": "stdout",
     "output_type": "stream",
     "text": [
      "Loading Data from: C:/Users/oluwa/Downloads/TiNiSn_500C-20200714T190740Z-001/TiNiSn_500C/\n",
      "Data Loaded Succesfully\n",
      "(177, 800)\n",
      ".....................................5 Clusters...........................................\n",
      "Loading Data from: C:/Users/oluwa/Downloads/TiNiSn_500C-20200714T190740Z-001/TiNiSn_500C/\n",
      "Data Loaded Succesfully\n",
      "(177, 800)\n",
      "No clusters with correlation above or equal to the given correlation threshold. No peak shifting will be considered\n",
      "(0,) (1, 2)\n",
      ".....................................6 Clusters...........................................\n",
      "Loading Data from: C:/Users/oluwa/Downloads/TiNiSn_500C-20200714T190740Z-001/TiNiSn_500C/\n",
      "Data Loaded Succesfully\n",
      "(177, 800)\n",
      "No clusters with correlation above or equal to the given correlation threshold. No peak shifting will be considered\n",
      "(0,) (1, 2)\n",
      ".....................................7 Clusters...........................................\n",
      "Loading Data from: C:/Users/oluwa/Downloads/TiNiSn_500C-20200714T190740Z-001/TiNiSn_500C/\n",
      "Data Loaded Succesfully\n",
      "(177, 800)\n",
      "(1, 2) (2, 2)\n",
      "No match between Pearson and same peaks found. Just Pearson will be considered\n",
      "Here are the clusters indices taken out [4]\n",
      "Former H is of shape (7, 177)\n",
      "new_H is of shape (6, 177)\n"
     ]
    },
    {
     "data": {
      "image/png": "[encoded data removed]",
      "text/plain": [
       "<Figure size 720x576 with 3 Axes>"
      ]
     },
     "metadata": {
      "needs_background": "light"
     },
     "output_type": "display_data"
    },
    {
     "name": "stdout",
     "output_type": "stream",
     "text": [
      "Loading Data from: C:/Users/oluwa/Downloads/TiNiSn_500C-20200714T190740Z-001/TiNiSn_500C/\n",
      "Data Loaded Succesfully\n",
      "(177, 800)\n",
      ".....................................5 Clusters...........................................\n",
      "Loading Data from: C:/Users/oluwa/Downloads/TiNiSn_500C-20200714T190740Z-001/TiNiSn_500C/\n",
      "Data Loaded Succesfully\n",
      "(177, 800)\n",
      "No clusters with correlation above or equal to the given correlation threshold. No peak shifting will be considered\n",
      "(0,) (1, 2)\n",
      ".....................................6 Clusters...........................................\n",
      "Loading Data from: C:/Users/oluwa/Downloads/TiNiSn_500C-20200714T190740Z-001/TiNiSn_500C/\n",
      "Data Loaded Succesfully\n",
      "(177, 800)\n",
      "No clusters with correlation above or equal to the given correlation threshold. No peak shifting will be considered\n",
      "(0,) (1, 2)\n",
      ".....................................7 Clusters...........................................\n",
      "Loading Data from: C:/Users/oluwa/Downloads/TiNiSn_500C-20200714T190740Z-001/TiNiSn_500C/\n",
      "Data Loaded Succesfully\n",
      "(177, 800)\n",
      "No clusters with correlation above or equal to the given correlation threshold. No peak shifting will be considered\n",
      "(0,) (2, 2)\n"
     ]
    },
    {
     "ename": "ValueError",
     "evalue": "[] is not in list",
     "output_type": "error",
     "traceback": [
      "\u001b[1;31m---------------------------------------------------------------------------\u001b[0m",
      "\u001b[1;31mValueError\u001b[0m                                Traceback (most recent call last)",
      "\u001b[1;32m<ipython-input-9-e121fd76ac78>\u001b[0m in \u001b[0;36m<module>\u001b[1;34m\u001b[0m\n\u001b[0;32m      1\u001b[0m \u001b[1;32mfor\u001b[0m \u001b[0mi\u001b[0m \u001b[1;32min\u001b[0m \u001b[1;33m[\u001b[0m\u001b[1;36m0.7\u001b[0m\u001b[1;33m,\u001b[0m\u001b[1;36m0.8\u001b[0m\u001b[1;33m,\u001b[0m\u001b[1;36m0.9\u001b[0m\u001b[1;33m]\u001b[0m\u001b[1;33m:\u001b[0m\u001b[1;33m\u001b[0m\u001b[1;33m\u001b[0m\u001b[0m\n\u001b[1;32m----> 2\u001b[1;33m     \u001b[0mnmf_cluster\u001b[0m\u001b[1;33m(\u001b[0m\u001b[1;36m5\u001b[0m\u001b[1;33m,\u001b[0m\u001b[1;36m8\u001b[0m\u001b[1;33m,\u001b[0m\u001b[0mvisualize\u001b[0m\u001b[1;33m=\u001b[0m\u001b[1;36m0\u001b[0m\u001b[1;33m,\u001b[0m\u001b[0mpear_threshold\u001b[0m\u001b[1;33m=\u001b[0m\u001b[0mi\u001b[0m\u001b[1;33m,\u001b[0m\u001b[0mpeak_threshold\u001b[0m\u001b[1;33m=\u001b[0m\u001b[1;36m3\u001b[0m\u001b[1;33m,\u001b[0m\u001b[0mcontri_threshold\u001b[0m\u001b[1;33m=\u001b[0m\u001b[1;36m0.25\u001b[0m\u001b[1;33m)\u001b[0m\u001b[1;33m\u001b[0m\u001b[1;33m\u001b[0m\u001b[0m\n\u001b[0m",
      "\u001b[1;32m~\\Jupyter notebooks\\NMF_Cluster.py\u001b[0m in \u001b[0;36mnmf_cluster\u001b[1;34m(a, b, deal, use_peak, visualize, pear_threshold, peak_threshold, contri_threshold, dataset)\u001b[0m\n\u001b[0;32m    547\u001b[0m         \u001b[0mprint\u001b[0m\u001b[1;33m(\u001b[0m\u001b[1;34m'.....................................'\u001b[0m\u001b[1;33m+\u001b[0m\u001b[0mstr\u001b[0m\u001b[1;33m(\u001b[0m\u001b[0mi\u001b[0m\u001b[1;33m)\u001b[0m\u001b[1;33m+\u001b[0m\u001b[1;34m' Clusters'\u001b[0m\u001b[1;33m+\u001b[0m\u001b[1;34m'...........................................'\u001b[0m\u001b[1;33m)\u001b[0m\u001b[1;33m\u001b[0m\u001b[1;33m\u001b[0m\u001b[0m\n\u001b[0;32m    548\u001b[0m \u001b[1;33m\u001b[0m\u001b[0m\n\u001b[1;32m--> 549\u001b[1;33m         \u001b[0mcg\u001b[0m\u001b[1;33m,\u001b[0m\u001b[0mlabels\u001b[0m \u001b[1;33m=\u001b[0m \u001b[0mmain_func\u001b[0m\u001b[1;33m(\u001b[0m\u001b[0mi\u001b[0m\u001b[1;33m,\u001b[0m\u001b[0mdeal\u001b[0m\u001b[1;33m,\u001b[0m\u001b[0mpear_threshold\u001b[0m\u001b[1;33m,\u001b[0m\u001b[0mpeak_threshold\u001b[0m\u001b[1;33m,\u001b[0m\u001b[0mcontri_threshold\u001b[0m\u001b[1;33m,\u001b[0m\u001b[0mdataset\u001b[0m\u001b[1;33m)\u001b[0m\u001b[1;33m\u001b[0m\u001b[1;33m\u001b[0m\u001b[0m\n\u001b[0m\u001b[0;32m    550\u001b[0m         \u001b[0mBig_labels\u001b[0m\u001b[1;33m.\u001b[0m\u001b[0mappend\u001b[0m\u001b[1;33m(\u001b[0m\u001b[0mlabels\u001b[0m\u001b[1;33m)\u001b[0m\u001b[1;33m\u001b[0m\u001b[1;33m\u001b[0m\u001b[0m\n\u001b[0;32m    551\u001b[0m         \u001b[0max\u001b[0m \u001b[1;33m=\u001b[0m \u001b[0mfig\u001b[0m\u001b[1;33m.\u001b[0m\u001b[0madd_subplot\u001b[0m\u001b[1;33m(\u001b[0m\u001b[1;36m2\u001b[0m\u001b[1;33m,\u001b[0m\u001b[0mnp\u001b[0m\u001b[1;33m.\u001b[0m\u001b[0mceil\u001b[0m\u001b[1;33m(\u001b[0m\u001b[1;33m(\u001b[0m\u001b[0mb\u001b[0m\u001b[1;33m-\u001b[0m\u001b[0ma\u001b[0m\u001b[1;33m)\u001b[0m\u001b[1;33m/\u001b[0m\u001b[1;36m2\u001b[0m\u001b[1;33m)\u001b[0m\u001b[1;33m,\u001b[0m\u001b[0mi\u001b[0m\u001b[1;33m-\u001b[0m\u001b[0ma\u001b[0m\u001b[1;33m+\u001b[0m\u001b[1;36m1\u001b[0m\u001b[1;33m)\u001b[0m\u001b[1;33m\u001b[0m\u001b[1;33m\u001b[0m\u001b[0m\n",
      "\u001b[1;32m~\\Jupyter notebooks\\NMF_Cluster.py\u001b[0m in \u001b[0;36mmain_func\u001b[1;34m(i, deal, pear_threshold, peak_threshold, contri_threshold, dataset)\u001b[0m\n\u001b[0;32m    512\u001b[0m         \u001b[1;31m#print(np.shape(Big_locations))\u001b[0m\u001b[1;33m\u001b[0m\u001b[1;33m\u001b[0m\u001b[1;33m\u001b[0m\u001b[0m\n\u001b[0;32m    513\u001b[0m \u001b[1;33m\u001b[0m\u001b[0m\n\u001b[1;32m--> 514\u001b[1;33m         \u001b[0mlabels\u001b[0m\u001b[1;33m,\u001b[0m\u001b[0mall_labels\u001b[0m\u001b[1;33m,\u001b[0m\u001b[0mlabels_clust\u001b[0m \u001b[1;33m=\u001b[0m \u001b[0mform_labels\u001b[0m\u001b[1;33m(\u001b[0m\u001b[0mnew_H_reshaped\u001b[0m\u001b[1;33m,\u001b[0m\u001b[0mBig_locations\u001b[0m\u001b[1;33m)\u001b[0m\u001b[1;33m\u001b[0m\u001b[1;33m\u001b[0m\u001b[0m\n\u001b[0m\u001b[0;32m    515\u001b[0m \u001b[1;33m\u001b[0m\u001b[0m\n\u001b[0;32m    516\u001b[0m         \u001b[0mcluster_grid\u001b[0m \u001b[1;33m=\u001b[0m \u001b[0mget_cluster_grid\u001b[0m\u001b[1;33m(\u001b[0m\u001b[0mall_labels\u001b[0m\u001b[1;33m,\u001b[0m\u001b[0mlabels\u001b[0m\u001b[1;33m)\u001b[0m\u001b[1;33m\u001b[0m\u001b[1;33m\u001b[0m\u001b[0m\n",
      "\u001b[1;32m~\\Jupyter notebooks\\NMF_Cluster.py\u001b[0m in \u001b[0;36mform_labels\u001b[1;34m(new_H_reshaped, Big_locations)\u001b[0m\n\u001b[0;32m    421\u001b[0m         \u001b[0mlabels\u001b[0m\u001b[1;33m=\u001b[0m\u001b[1;33m[\u001b[0m\u001b[1;33m]\u001b[0m\u001b[1;33m\u001b[0m\u001b[1;33m\u001b[0m\u001b[0m\n\u001b[0;32m    422\u001b[0m         \u001b[1;32mfor\u001b[0m \u001b[0mval\u001b[0m \u001b[1;32min\u001b[0m \u001b[0mrange\u001b[0m\u001b[1;33m(\u001b[0m\u001b[1;36m0\u001b[0m\u001b[1;33m,\u001b[0m\u001b[1;36m177\u001b[0m\u001b[1;33m)\u001b[0m\u001b[1;33m:\u001b[0m\u001b[1;33m\u001b[0m\u001b[1;33m\u001b[0m\u001b[0m\n\u001b[1;32m--> 423\u001b[1;33m             \u001b[0mlabels\u001b[0m\u001b[1;33m.\u001b[0m\u001b[0mappend\u001b[0m\u001b[1;33m(\u001b[0m\u001b[0mlabels_clust\u001b[0m\u001b[1;33m.\u001b[0m\u001b[0mindex\u001b[0m\u001b[1;33m(\u001b[0m\u001b[0msorted\u001b[0m\u001b[1;33m(\u001b[0m\u001b[0mBig_locations\u001b[0m\u001b[1;33m[\u001b[0m\u001b[0mval\u001b[0m\u001b[1;33m]\u001b[0m\u001b[1;33m)\u001b[0m\u001b[1;33m)\u001b[0m\u001b[1;33m)\u001b[0m\u001b[1;33m\u001b[0m\u001b[1;33m\u001b[0m\u001b[0m\n\u001b[0m\u001b[0;32m    424\u001b[0m \u001b[1;33m\u001b[0m\u001b[0m\n\u001b[0;32m    425\u001b[0m         \u001b[1;31m#print(labels)\u001b[0m\u001b[1;33m\u001b[0m\u001b[1;33m\u001b[0m\u001b[1;33m\u001b[0m\u001b[0m\n",
      "\u001b[1;31mValueError\u001b[0m: [] is not in list"
     ]
    },
    {
     "data": {
      "image/png": "[encoded data removed]",
      "text/plain": [
       "<Figure size 720x576 with 2 Axes>"
      ]
     },
     "metadata": {
      "needs_background": "light"
     },
     "output_type": "display_data"
    }
   ],
   "source": [
    "for i in [0.7,0.8,0.9]:\n",
    "    nmf_cluster(5,8,visualize=0,pear_threshold=i,peak_threshold=3,contri_threshold=0.25)"
   ]
  },
  {
   "cell_type": "code",
   "execution_count": null,
   "metadata": {},
   "outputs": [],
   "source": [
    "#Woeful.\n",
    "for i in [0.7,0.8,0.9]:\n",
    "    nmf_cluster(3,11,visualize=0,pear_threshold=i,peak_threshold=1,contri_threshold=0.1)"
   ]
  },
  {
   "cell_type": "code",
   "execution_count": null,
   "metadata": {},
   "outputs": [],
   "source": [
    "dataGrid = DataGrid_TiNiSn_500C()"
   ]
  },
  {
   "cell_type": "code",
   "execution_count": null,
   "metadata": {
    "scrolled": true
   },
   "outputs": [],
   "source": [
    "data175 = dataGrid.get_data_array() "
   ]
  },
  {
   "cell_type": "code",
   "execution_count": null,
   "metadata": {},
   "outputs": [],
   "source": [
    "off_set = 0\n",
    "fig,ax = plt.subplots(figsize=(8,10))\n",
    "\n",
    "for j in range(3,4):\n",
    "    W,H = nmf_func(j)\n",
    "    for i in range(np.shape(W)[1]):\n",
    "        ax.plot(dataGrid.data[1][:,0], W[:,i]+off_set)\n",
    "    \n",
    "    ax.annotate(j,(3.5,off_set+50))\n",
    "    off_set+=100\n",
    "ax.set_title('Diffraction Clusters from W matrix')\n",
    "title=j\n",
    "    "
   ]
  },
  {
   "cell_type": "code",
   "execution_count": null,
   "metadata": {
    "scrolled": true
   },
   "outputs": [],
   "source": [
    "np.shape(Big_labels)"
   ]
  },
  {
   "cell_type": "code",
   "execution_count": null,
   "metadata": {},
   "outputs": [],
   "source": [
    "# View all the clusters/phases\n",
    "fig, ax = plt.subplots(figsize=(6,6))\n",
    "pp=0\n",
    "for i in range(len(H)):\n",
    "    #fig,ax = plt.subplots()\n",
    "    #ax = fig.add_subplot(2,5,i+1)\n",
    "    ax.plot(dataGrid.data[1][:,0], W[:,i]+pp)\n",
    "    ax.set_title('r ='+str(i+1))\n",
    "    pp+=50"
   ]
  },
  {
   "cell_type": "code",
   "execution_count": null,
   "metadata": {
    "scrolled": false
   },
   "outputs": [],
   "source": [
    "# Visualize the clusters and their peaks\n",
    "fig,ax = plt.subplots()\n",
    "peaks_length=[]\n",
    "for i in range(0,len(H)):\n",
    "    peaks, _ = find_peaks(W[:,i], height=0.1*max(W[:,i]))\n",
    "    peaks_length.append(len(peaks))\n",
    "    #fig,ax = plt.subplots()\n",
    "    ax.plot(dataGrid.data[1][:,0],W[:,i])\n",
    "    ax.plot((peaks*0.005)+1.5, W[peaks,i], \"x\")\n",
    "    ax.set_title(str(i+1))\n",
    "\n",
    "print(peaks_length)\n"
   ]
  },
  {
   "cell_type": "code",
   "execution_count": null,
   "metadata": {
    "scrolled": true
   },
   "outputs": [],
   "source": [
    "np.shape(peaks_length)"
   ]
  },
  {
   "cell_type": "code",
   "execution_count": null,
   "metadata": {
    "scrolled": true
   },
   "outputs": [],
   "source": [
    "# Check for clusters with same number of peaks\n",
    "# Took time to finally write this code \n",
    "\n",
    "same_peaks=[]\n",
    "for i in range(0,len(peaks_length)-1):\n",
    "    smpeaks=[]\n",
    "    \n",
    "    if peaks_length[i] in list(peaks_length[:i]):\n",
    "        #print(i)\n",
    "        continue\n",
    "        \n",
    "    #print('Yes')\n",
    "    for j in range(i+1,len(peaks_length)):\n",
    "            if peaks_length[i]==peaks_length[j]:\n",
    "                if len(smpeaks)==0:\n",
    "                    smpeaks.append(i)\n",
    "                smpeaks.append(j)\n",
    "\n",
    "    if len(smpeaks)!=0:\n",
    "        same_peaks.append(smpeaks)\n",
    "\n",
    "print(same_peaks)\n",
    "for i in range(0,len(same_peaks)):\n",
    "    fig,ax = plt.subplots()\n",
    "    for j in same_peaks[i]:\n",
    "        ax.plot(dataGrid.data[1][:,0],W[:,j])\n",
    "    ax.set_title('Same No. of Peaks '+str(same_peaks[i]))"
   ]
  },
  {
   "cell_type": "code",
   "execution_count": null,
   "metadata": {},
   "outputs": [],
   "source": [
    "# Pearson Correlation for each cluster against another\n",
    "p_corr = np.zeros((len(H),len(H)))\n",
    "\n",
    "for i in range(0,len(H)):\n",
    "    for j in range(0,len(H)):\n",
    "        corr, _ = pearsonr(W[:,i],W[:,j])\n",
    "        p_corr[i,j]=corr\n",
    "\n",
    "        \n",
    "# Find correlations higher than a certain threshold\n",
    "corr_idx = [[j,i] for j in range(len(p_corr)) for i in range(j+1,len(p_corr)) if np.abs(p_corr[j][i])>=0.80]\n",
    "\n",
    "\n",
    "print(corr_idx)\n",
    "for i in range(0,len(corr_idx)):\n",
    "    fig,ax = plt.subplots()\n",
    "    for j in corr_idx[i]:\n",
    "        ax.plot(W[:,j])\n",
    "    ax.set_title('Pearson Corr. '+str(corr_idx[i]))\n",
    "\n",
    "#corr_idx=[[1,6],[1,8]]\n",
    "#print(corr_idx)"
   ]
  },
  {
   "cell_type": "code",
   "execution_count": null,
   "metadata": {
    "scrolled": true
   },
   "outputs": [],
   "source": [
    "#Check for clusters with high correlation and same peaks\n",
    "peak_shift = []\n",
    "for i in range(len(corr_idx)):\n",
    "    for j in range(len(same_peaks)):\n",
    "        if corr_idx[i][0] in same_peaks[j] and corr_idx[i][1] in same_peaks[j]:\n",
    "            print('Found Pearson and Same Peaks Match!!')\n",
    "            peak_shift.append(corr_idx[i])\n",
    "\n",
    "peak_shift"
   ]
  },
  {
   "cell_type": "code",
   "execution_count": null,
   "metadata": {
    "scrolled": false
   },
   "outputs": [],
   "source": [
    "#Combine the weights of all the peakshifted ones in H and also delete the peakshifted phases leaving the first phase in W\n",
    "#corr_idx=[[1,6],[2,3,4],[5,7]]\n",
    "\n",
    "if peak_shift==[]:\n",
    "    use_idx =[]\n",
    "\n",
    "    for i in range(len(corr_idx)):\n",
    "        use_idx.append(corr_idx[i])\n",
    "else:\n",
    "    use_idx =[]\n",
    "\n",
    "    for i in range(len(peak_shift)):\n",
    "        use_idx.append(peak_shift[i])\n",
    "        \n",
    "        \n",
    "    \n",
    "H_reshaped1=np.zeros(shape=(len(H),177))\n",
    "for i in range(len(H)):\n",
    "    H_reshaped1[i]=H[i]\n",
    "\n",
    "\n",
    " \n",
    "#H_reshaped1= H_reshaped  #this code will modify H_reshaped as H_reshaped1 is modified: very weird!!!!!!\n",
    "    \n",
    "\n",
    "for i in range(len(use_idx)):\n",
    "    print(i)\n",
    "    b0 = H[use_idx[i][0]]\n",
    "    \n",
    "    for j in range(len(use_idx[i])):\n",
    "        if j==0:\n",
    "            print(j)\n",
    "            #print(b0)\n",
    "            continue\n",
    "        \n",
    "        print(j) \n",
    "        #if np.all(b0==H_reshaped[1]):\n",
    "         #   print('Yes')\n",
    "            \n",
    "        #print(b0)\n",
    "    \n",
    "        b0=b0 + H[use_idx[i][j]]\n",
    "        \n",
    "    \n",
    "    H_reshaped1[use_idx[i][0]]=b0\n",
    "\n",
    "\n",
    "\n",
    "idx=[]\n",
    "for i in range(len(use_idx)):\n",
    "    idx = idx + list(use_idx[i][1:])\n",
    "\n",
    "print('Here are the clusters indices taken out', idx)\n",
    "new_H = np.delete(H_reshaped1,idx,0)\n",
    "print('Former H is of shape', np.shape(H_reshaped1))\n",
    "\n",
    "print('new_H is of shape', np.shape(new_H))  \n"
   ]
  },
  {
   "cell_type": "code",
   "execution_count": null,
   "metadata": {},
   "outputs": [],
   "source": [
    "#Reshape new_H cutting off those clusters contributing below a threshold\n",
    "\n",
    "H_reshape = np.zeros(shape=(np.shape(new_H)))\n",
    "\n",
    "for j in range(0,177):\n",
    "    p = new_H[:,j]/np.sum(new_H[:,j])\n",
    "    for i in range(len(p)):\n",
    "        if p[i]<0.25:\n",
    "            p[i]=0\n",
    "    H_reshape[:,j]=p\n",
    "    \n",
    "#H_reshape[:,100]\n",
    "\n",
    "#Reshape the H where the 3 most abundant clusters remain for each datapoint/dot\n",
    "\n",
    "Big_locations=[]\n",
    "H_reshaped = np.zeros(shape=(np.shape(H_reshape)))         \n",
    "            \n",
    "for j in range(0,177):            \n",
    "    b = list(H_reshape[:,j])\n",
    "    locations = []\n",
    "    minimum = min(b)\n",
    "    for i in range(3):\n",
    "        maxIndex = b.index(max(b))\n",
    "        if max(b)==0:\n",
    "            maxIndex=0\n",
    "            continue\n",
    "        locations.append(maxIndex)\n",
    "        b[maxIndex] = minimum\n",
    "        H_reshaped[maxIndex,j]=H_reshape[maxIndex,j]\n",
    "    \n",
    "    Big_locations.append(locations)\n",
    "    new_H_reshaped = H_reshaped\n",
    "    #print(locations,j)\n",
    "\n",
    "print(np.shape(Big_locations))"
   ]
  },
  {
   "cell_type": "code",
   "execution_count": null,
   "metadata": {
    "scrolled": false
   },
   "outputs": [],
   "source": [
    "# Plot the wafer map\n",
    "X=[]\n",
    "Y=[]\n",
    "for i in range(1,178):\n",
    "    x,y=dataGrid.coord(i)\n",
    "    X.append(15-x)\n",
    "    Y.append(y-1)\n",
    "X=np.array(X)\n",
    "Y=np.array(Y)\n",
    "\n",
    "mmm = []\n",
    "for i in range(len(new_H_reshaped)):\n",
    "#for i in range(len(H_reshaped)):\n",
    "    mm = [i for i,v in enumerate(new_H_reshaped[i]) if v!=0]\n",
    "    mmm.append(mm)\n",
    "    \n",
    "ax=plt.figure(figsize=(4,4))\n",
    "ax=ax.add_axes([0,0,1,1])\n",
    "markers = [\"o\",\"s\",\"^\",\"P\",\">\",\"D\",\"p\",\"h\",\"X\",\"*\"]\n",
    "for val in range(0,len(new_H_reshaped)):\n",
    "#for val in range(0,len(H_reshaped):\n",
    "    #ax=fig.add_axes([0,0,1,1])\n",
    "    #colors = H[val]/max(H[val])\n",
    "    X_new = X[mmm[val]]\n",
    "    Y_new = Y[mmm[val]]\n",
    "    #colors=H_reshaped[val][mmm[val]]\n",
    "    ax.scatter(X_new,Y_new, marker=markers[val],s=200)\n",
    "    #ax.invert_yaxis()\n",
    "    #ax.invert_xaxis()\n",
    "    #ax.axis(\"off\")\n",
    "    ax.set_title(str(len(H)))\n",
    "len(H_reshaped)"
   ]
  },
  {
   "cell_type": "code",
   "execution_count": null,
   "metadata": {},
   "outputs": [],
   "source": [
    "#Visualize the abundance of each cluster\n",
    "X=[]\n",
    "Y=[]\n",
    "for i in range(1,178):\n",
    "    x,y=dataGrid.coord(i)\n",
    "    X.append(15-x)\n",
    "    Y.append(y-1)\n",
    "    \n",
    "#for val in range(len(corr_idx)):\n",
    "#for val in range(len(peak_shift)):\n",
    "for val in range(len(new_H_reshaped)):\n",
    "    for idx in [0,1]:\n",
    "        ax=plt.figure(figsize=(4,3))\n",
    "        ax=ax.add_axes([0,0,1,1])\n",
    "        #ax=fig.add_axes([0,0,1,1])\n",
    "        #colors = H[peak_shift[val][idx]]/np.sum(H[peak_shift[val][idx]])\n",
    "        #colors = H[corr_idx[val][idx]]/np.sum(H[corr_idx[val][idx]])\n",
    "        colors = new_H_reshaped[val]/np.sum(new_H_reshaped[val])\n",
    "        ax.scatter(X,Y, c=colors, marker='v',s=150)\n",
    "        #ax.invert_xaxis()\n",
    "        #ax.invert_yaxis()\n",
    "        #ax = ax.set_title(corr_idx[val][idx]+1)\n",
    "        #ax = ax.set_title(peak_shift[val][idx]+1)\n",
    "        ax = ax.set_title(val+1)\n"
   ]
  },
  {
   "cell_type": "code",
   "execution_count": null,
   "metadata": {},
   "outputs": [],
   "source": []
  },
  {
   "cell_type": "code",
   "execution_count": null,
   "metadata": {
    "scrolled": true
   },
   "outputs": [],
   "source": [
    "corr_idx"
   ]
  },
  {
   "cell_type": "code",
   "execution_count": null,
   "metadata": {},
   "outputs": [],
   "source": [
    "smpeaks=[]\n",
    "len(smpeaks)"
   ]
  },
  {
   "cell_type": "code",
   "execution_count": null,
   "metadata": {},
   "outputs": [],
   "source": [
    "len(corr_idx)\n",
    "peak_shift"
   ]
  },
  {
   "cell_type": "code",
   "execution_count": null,
   "metadata": {},
   "outputs": [],
   "source": [
    "len(corr_idx)"
   ]
  },
  {
   "cell_type": "code",
   "execution_count": null,
   "metadata": {},
   "outputs": [],
   "source": [
    "np.shape(new_H_reshaped)"
   ]
  },
  {
   "cell_type": "code",
   "execution_count": null,
   "metadata": {},
   "outputs": [],
   "source": [
    "#np.delete?"
   ]
  },
  {
   "cell_type": "code",
   "execution_count": null,
   "metadata": {},
   "outputs": [],
   "source": [
    "np.shape(new_H_reshaped)"
   ]
  },
  {
   "cell_type": "code",
   "execution_count": null,
   "metadata": {
    "scrolled": false
   },
   "outputs": [],
   "source": [
    "#Form labels for single-phases point\n",
    "\n",
    "labels1=[]\n",
    "labels_clust1=[]\n",
    "oo=-1\n",
    "for i in range(len(Big_locations)):\n",
    "    if len(Big_locations[i])==1:\n",
    "        #print(Big_locations[i],i,oo)\n",
    "        \n",
    "        if Big_locations[i] in list(labels_clust1[:]):\n",
    "            #print(Big_locations[i],i,oo)\n",
    "            continue\n",
    "        oo+=1    \n",
    "        labels1.append(oo)\n",
    "        labels_clust1.append(Big_locations[i])\n",
    "        #print(Big_locations[i],i,oo,'Yes')\n",
    "        \n",
    "\n",
    "#Form labels for double-phased points\n",
    "#This took a while :-( but I finally made it more efficient\n",
    "\n",
    "\n",
    "labels2=[]\n",
    "labels_clust2=[]\n",
    "#test_clust = []\n",
    "\n",
    "ooo=oo\n",
    "\n",
    "\n",
    "for i in range(len(Big_locations)):\n",
    "    p=0\n",
    "    \n",
    "    if len(Big_locations[i])==2:\n",
    "        \n",
    "        #print(i)\n",
    "        \n",
    "        for ii,v in enumerate(labels_clust2):\n",
    "            if set(Big_locations[i]) == set(v):   #Check if they are equal regardless of arrangement\n",
    "                #print(Big_locations[i],i,ooo)\n",
    "                p=1\n",
    "                continue\n",
    "\n",
    "        if p==1:\n",
    "            continue\n",
    "                        \n",
    "        ooo+=1 \n",
    "        labels2.append(ooo)\n",
    "        labels_clust2.append(sorted(Big_locations[i]))\n",
    "        #print(Big_locations[i],i,ooo,\"Yes\")\n",
    "       \n",
    "\n",
    "        \n",
    "#Form labels for triple-phased points\n",
    "#This took a while too :-(\n",
    "\n",
    "labels3=[]\n",
    "labels_clust3=[]\n",
    "oooo=ooo\n",
    "\n",
    "for i in range(len(Big_locations)):\n",
    "    p=0\n",
    "    \n",
    "    if len(Big_locations[i])==3:\n",
    "        \n",
    "        #print(i)\n",
    "        \n",
    "        \n",
    "        for ii,v in enumerate(labels_clust3):\n",
    "            if set(Big_locations[i]) == set(v):  #Check if they are equal regardless of arrangement\n",
    "                #print(Big_locations[i],i,oooo)\n",
    "                p=1\n",
    "                continue\n",
    "\n",
    "        if p==1:\n",
    "            continue\n",
    "                        \n",
    "        oooo+=1\n",
    "        \n",
    "        labels3.append(oooo)\n",
    "        labels_clust3.append(sorted(Big_locations[i]))\n",
    "        #print(Big_locations[i],i,oooo,\"Yes\")\n",
    "        \n",
    "\n",
    "            \n",
    "all_labels=labels1+labels2+labels3\n",
    "labels_clust = labels_clust1+labels_clust2+labels_clust3\n",
    "\n",
    "labels=[]\n",
    "\n",
    "#Get the cluster for each point\n",
    "for val in range(0,177):\n",
    "    labels.append(labels_clust.index(sorted(Big_locations[val])))\n",
    "\n",
    "print(labels)\n",
    "print(list(labels_clust))"
   ]
  },
  {
   "cell_type": "code",
   "execution_count": null,
   "metadata": {
    "scrolled": true
   },
   "outputs": [],
   "source": [
    "if len(labels_clust)==len(all_labels): print(len(all_labels))"
   ]
  },
  {
   "cell_type": "code",
   "execution_count": null,
   "metadata": {
    "scrolled": true
   },
   "outputs": [],
   "source": [
    "len(labels)"
   ]
  },
  {
   "cell_type": "code",
   "execution_count": null,
   "metadata": {},
   "outputs": [],
   "source": [
    "#Get the labels' hues\n",
    "\n",
    "hues = [float(float(x)/float(len(all_labels))) for x in range(1,len(all_labels)+1)]\n",
    "cluster_grid = np.zeros(shape = (15,15,3))\n",
    "for val in range(1,178):\n",
    "    x,y = dataGrid.coord(val)\n",
    "    cluster = labels[val-1]\n",
    "    cluster_grid[y-1][15-x] = matplotlib.colors.hsv_to_rgb([hues[cluster],1,1])\n",
    "    #cluster_grid[y-1][x-1] = matplotlib.colors.hsv_to_rgb([hues[cluster],1,1])\n",
    "    \n",
    "    \n",
    "#Show on a wafer map\n",
    "ax=plt.figure(figsize=(3,3))\n",
    "#fig = plt.figure()\n",
    "ax.tight_layout()\n",
    "ax=ax.add_axes([0,0,1,1])\n",
    "\n",
    "#ax = fig.add_subplot(1,b-a,i-a+1)\n",
    "plt.imshow(cluster_grid)\n",
    "ax.invert_yaxis()\n",
    "#ax.invert_xaxis()\n",
    "ax.set_title(len(H))\n",
    "#ax.axis(\"off\")\n",
    "\n",
    "#k=.03\n",
    "#plt.subplots_adjust(left=k,right=(1-k),bottom=k,top=(1-k),wspace=k,hspace=k)\n",
    "#plt.show()"
   ]
  },
  {
   "cell_type": "code",
   "execution_count": null,
   "metadata": {},
   "outputs": [],
   "source": [
    "if labels==[]: print(\"No\")\n",
    "else: print('Yes')"
   ]
  },
  {
   "cell_type": "code",
   "execution_count": null,
   "metadata": {
    "scrolled": true
   },
   "outputs": [],
   "source": [
    "'''\n",
    "#Form labels for double-phased points\n",
    "#This took a while :-( but I finally made it more efficient\n",
    "\n",
    "\n",
    "labels2=[]\n",
    "labels_clust2=[]\n",
    "#test_clust = []\n",
    "\n",
    "ooo=oo\n",
    "\n",
    "\n",
    "for i in range(len(Big_locations)):\n",
    "    if len(Big_locations[i])==2:\n",
    "        \n",
    "        p=0\n",
    "\n",
    "        for ii,v in enumerate(labels_clust2):\n",
    "            if set(Big_locations[i]) == set(v):   #Check if they are equal regardless of arrangement\n",
    "                print(Big_locations[i],i,ooo)\n",
    "                p=1\n",
    "                continue\n",
    "\n",
    "        if p==1:\n",
    "            continue\n",
    "                        \n",
    "                \n",
    "        labels2.append(ooo)\n",
    "        labels_clust2.append(np.sort(Big_locations[i]))\n",
    "        print(Big_locations[i],i,ooo,\"Yes\")\n",
    "        ooo+=1\n",
    "\n",
    "        \n",
    "        \n",
    "        \n",
    "#         if [np.sum(Big_locations[i]),abs(Big_locations[i][0]-Big_locations[i][1])] in test_clust:\n",
    "#                 print(Big_locations[i],i,ooo)\n",
    "#                 continue\n",
    "#         else:\n",
    "            \n",
    "            \n",
    "#             test_clust.append([np.sum(Big_locations[i]),abs(np.subtract(Big_locations[i][0],Big_locations[i][1]))])\n",
    "#             labels2.append(ooo)\n",
    "#             labels_clust2.append(Big_locations[i])\n",
    "#             print(Big_locations[i],i,ooo,\"Yes\")\n",
    "#             ooo+=1 \n",
    "        \n",
    "'''"
   ]
  },
  {
   "cell_type": "code",
   "execution_count": null,
   "metadata": {},
   "outputs": [],
   "source": [
    "labels2"
   ]
  },
  {
   "cell_type": "code",
   "execution_count": null,
   "metadata": {},
   "outputs": [],
   "source": [
    "'''\n",
    "#Form labels for triple-phased points\n",
    "#This took a while too :-(\n",
    "\n",
    "labels3=[]\n",
    "labels_clust3=[]\n",
    "oooo=ooo\n",
    "\n",
    "for i in range(len(Big_locations)):\n",
    "    p=0\n",
    "    \n",
    "    if len(Big_locations[i])==3:\n",
    "        \n",
    "        #print(i)\n",
    "        \n",
    "        \n",
    "        for ii,v in enumerate(labels_clust3):\n",
    "            if set(Big_locations[i]) == set(v):  #Check if they are equal regardless of arrangement\n",
    "                print(Big_locations[i],i,oooo)\n",
    "                p=1\n",
    "                continue\n",
    "\n",
    "        if p==1:\n",
    "            continue\n",
    "                        \n",
    "        \n",
    "        labels3.append(oooo)\n",
    "        labels_clust3.append(np.sort(Big_locations[i]))\n",
    "        print(Big_locations[i],i,oooo,\"Yes\")\n",
    "        oooo+=1\n",
    "\n",
    "            \n",
    "            \n",
    "                \n",
    "#         except:\n",
    "#             labels2.append(oo)\n",
    "#             labels_clust2.append(Big_locations[i])\n",
    "#             #labels_clust2=np.array(labels_clust2)\n",
    "#             print(Big_locations[i],i)\n",
    "        \n",
    "            \n",
    "#             oo+=1\n",
    "#             continue\n",
    "            \n",
    "'''"
   ]
  },
  {
   "cell_type": "code",
   "execution_count": null,
   "metadata": {
    "scrolled": false
   },
   "outputs": [],
   "source": [
    "np.sum(labels_clust2,1);labels2"
   ]
  },
  {
   "cell_type": "code",
   "execution_count": null,
   "metadata": {},
   "outputs": [],
   "source": [
    "abs(np.subtract(labels_clust2[:,0],labels_clust2[:,1]))"
   ]
  },
  {
   "cell_type": "code",
   "execution_count": null,
   "metadata": {},
   "outputs": [],
   "source": [
    "Big_locations[68]"
   ]
  },
  {
   "cell_type": "code",
   "execution_count": null,
   "metadata": {},
   "outputs": [],
   "source": [
    "labels_clust2=np.array(labels_clust2)"
   ]
  },
  {
   "cell_type": "code",
   "execution_count": null,
   "metadata": {},
   "outputs": [],
   "source": [
    "labels_clust2=[[0,0],[3,4],[0,5]]"
   ]
  },
  {
   "cell_type": "code",
   "execution_count": null,
   "metadata": {},
   "outputs": [],
   "source": [
    "subtract([2,3])"
   ]
  },
  {
   "cell_type": "code",
   "execution_count": null,
   "metadata": {},
   "outputs": [],
   "source": [
    "try:\n",
    "    np.sum(labels_clust2,1)\n",
    "\n",
    "except:\n",
    "    print('Error')\n",
    "    "
   ]
  },
  {
   "cell_type": "code",
   "execution_count": null,
   "metadata": {},
   "outputs": [],
   "source": [
    "try:\n",
    "    np.sum(Big_locations[i]) in np.sum(labels_clust2,1)\n",
    "except:\n",
    "    print(\"No\")"
   ]
  },
  {
   "cell_type": "code",
   "execution_count": null,
   "metadata": {
    "scrolled": true
   },
   "outputs": [],
   "source": [
    "if abs(Big_locations[0][0]-Big_locations[0][1]) in abs(np.subtract(np.transpose(labels_clust2)[0],np.transpose(labels_clust2)[1])):\n",
    "    print('Yes')"
   ]
  },
  {
   "cell_type": "code",
   "execution_count": null,
   "metadata": {},
   "outputs": [],
   "source": [
    "abs(Big_locations[0][0]-Big_locations[0][1])"
   ]
  },
  {
   "cell_type": "code",
   "execution_count": null,
   "metadata": {},
   "outputs": [],
   "source": [
    "Big_locations[2]"
   ]
  },
  {
   "cell_type": "code",
   "execution_count": null,
   "metadata": {},
   "outputs": [],
   "source": [
    "if [0,5] in labels_clust2:\n",
    "    print('Yes')"
   ]
  },
  {
   "cell_type": "code",
   "execution_count": null,
   "metadata": {},
   "outputs": [],
   "source": [
    "test_clust=[]\n",
    "if [np.sum(Big_locations[0]),abs(Big_locations[0][0]-Big_locations[0][1])] in test_clust:\n",
    "    print('Yes')\n",
    "else: print('No')"
   ]
  },
  {
   "cell_type": "code",
   "execution_count": null,
   "metadata": {},
   "outputs": [],
   "source": [
    "test_clust"
   ]
  },
  {
   "cell_type": "code",
   "execution_count": null,
   "metadata": {},
   "outputs": [],
   "source": [
    "labels_clust2"
   ]
  },
  {
   "cell_type": "code",
   "execution_count": null,
   "metadata": {},
   "outputs": [],
   "source": [
    "if np.sort([1,7,3]) in np.sort(Big_locations[26]):\n",
    "    print('Yes')"
   ]
  },
  {
   "cell_type": "code",
   "execution_count": null,
   "metadata": {},
   "outputs": [],
   "source": [
    "labels_clust3"
   ]
  },
  {
   "cell_type": "code",
   "execution_count": null,
   "metadata": {},
   "outputs": [],
   "source": [
    "v in np.sort(Big_locations[26])"
   ]
  },
  {
   "cell_type": "code",
   "execution_count": null,
   "metadata": {},
   "outputs": [],
   "source": [
    "for ii,v in enumerate(labels_clust3):\n",
    "            if np.sort(Big_locations[54]) in v:\n",
    "                print('Yes')"
   ]
  },
  {
   "cell_type": "code",
   "execution_count": null,
   "metadata": {},
   "outputs": [],
   "source": [
    "for i in range(0:178):\n",
    "    \n",
    "    "
   ]
  },
  {
   "cell_type": "code",
   "execution_count": null,
   "metadata": {},
   "outputs": [],
   "source": []
  },
  {
   "cell_type": "code",
   "execution_count": null,
   "metadata": {},
   "outputs": [],
   "source": []
  },
  {
   "cell_type": "code",
   "execution_count": null,
   "metadata": {},
   "outputs": [],
   "source": []
  },
  {
   "cell_type": "code",
   "execution_count": null,
   "metadata": {},
   "outputs": [],
   "source": []
  },
  {
   "cell_type": "code",
   "execution_count": null,
   "metadata": {},
   "outputs": [],
   "source": []
  },
  {
   "cell_type": "code",
   "execution_count": null,
   "metadata": {},
   "outputs": [],
   "source": []
  },
  {
   "cell_type": "code",
   "execution_count": null,
   "metadata": {},
   "outputs": [],
   "source": []
  }
 ],
 "metadata": {
  "kernelspec": {
   "display_name": "Python 3",
   "language": "python",
   "name": "python3"
  },
  "language_info": {
   "codemirror_mode": {
    "name": "ipython",
    "version": 3
   },
   "file_extension": ".py",
   "mimetype": "text/x-python",
   "name": "python",
   "nbconvert_exporter": "python",
   "pygments_lexer": "ipython3",
   "version": "3.7.6"
  }
 },
 "nbformat": 4,
 "nbformat_minor": 4
}
