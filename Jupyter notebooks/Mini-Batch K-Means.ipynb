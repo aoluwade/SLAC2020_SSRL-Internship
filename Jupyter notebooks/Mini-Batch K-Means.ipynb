{
 "cells": [
  {
   "cell_type": "code",
   "execution_count": 1,
   "metadata": {},
   "outputs": [
    {
     "name": "stderr",
     "output_type": "stream",
     "text": [
      "WARNING:silx.opencl.common:Unable to import pyOpenCl. Please install it from: http://pypi.python.org/pypi/pyopencl\n"
     ]
    }
   ],
   "source": [
    "import sklearn as skl\n",
    "import matplotlib.pyplot as plt\n",
    "import numpy as np\n",
    "import pandas as pd\n",
    "import sklearn.cluster\n",
    "import glob\n",
    "import dataproc\n",
    "from sklearn.cluster import KMeans\n",
    "from sklearn.cluster import MiniBatchKMeans\n",
    "import dataproc.operations\n",
    "from dataproc.operations.hitp import bayesian_block_finder\n",
    "from dataproc.operations.hitp import fit_peak\n",
    "from dataproc.operations.hitp import load_image\n",
    "from feature_extract import feat_extr\n",
    "from data_grid_TiNiSn import DataGrid, DataGrid_TiNiSn_500C, DataGrid_TiNiSn_600C"
   ]
  },
  {
   "cell_type": "code",
   "execution_count": 2,
   "metadata": {},
   "outputs": [],
   "source": [
    "DataGrid_TiNiSn_500C?"
   ]
  },
  {
   "cell_type": "code",
   "execution_count": 3,
   "metadata": {
    "scrolled": true
   },
   "outputs": [
    {
     "name": "stdout",
     "output_type": "stream",
     "text": [
      "Loading Data from: C:/Users/oluwa/Downloads/TiNiSn_500C-20200714T190740Z-001/TiNiSn_500C/\n",
      "Data Loaded Succesfully\n",
      "Loading Data from: C:/Users/oluwa/Downloads/TiNiSn_500C-20200714T190740Z-001/TiNiSn_500C/\n",
      "Data Loaded Succesfully\n",
      "Maximum number of peaks:  800\n",
      "(177, 800)\n",
      "15577\n"
     ]
    },
    {
     "data": {
      "image/png": "[encoded data removed]",
      "text/plain": [
       "<Figure size 432x288 with 8 Axes>"
      ]
     },
     "metadata": {
      "needs_background": "light"
     },
     "output_type": "display_data"
    }
   ],
   "source": [
    "#This is Sasha's script, not important\n",
    "import PCA_clustering"
   ]
  },
  {
   "cell_type": "markdown",
   "metadata": {},
   "source": [
    "## Trying out the K-Batch Example from Scikitlearn"
   ]
  },
  {
   "cell_type": "code",
   "execution_count": 4,
   "metadata": {},
   "outputs": [
    {
     "data": {
      "text/plain": [
       "array([1, 0])"
      ]
     },
     "execution_count": 4,
     "metadata": {},
     "output_type": "execute_result"
    }
   ],
   "source": [
    "X = np.array([[1, 2], [1, 4], [1, 0],\n",
    "...               [4, 2], [4, 0], [4, 4],\n",
    "...               [4, 5], [0, 1], [2, 2],\n",
    "...               [3, 2], [5, 5], [1, -1]])\n",
    "\n",
    "# manually fit on batches\n",
    "\n",
    "kmeans = MiniBatchKMeans(n_clusters=3, random_state=0, batch_size=6)\n",
    "\n",
    "kmeans = kmeans.partial_fit(X[0:6,:])\n",
    "kmeans = kmeans.partial_fit(X[6:12,:])\n",
    "kmeans.cluster_centers_\n",
    "kmeans.predict([[0, 0], [4, 4]])\n",
    "\n",
    "# fit on the whole data\n",
    "\n",
    "kmeans = MiniBatchKMeans(n_clusters=2,random_state=0, batch_size=6, max_iter=10).fit(X)\n",
    "kmeans.cluster_centers_\n",
    "kmeans.predict([[0,0],[4,4]])"
   ]
  },
  {
   "cell_type": "code",
   "execution_count": 5,
   "metadata": {},
   "outputs": [
    {
     "data": {
      "text/plain": [
       "array([1, 0])"
      ]
     },
     "execution_count": 5,
     "metadata": {},
     "output_type": "execute_result"
    }
   ],
   "source": [
    "kmeans.predict([[0, 0], [4, 4]])\n"
   ]
  },
  {
   "cell_type": "code",
   "execution_count": 6,
   "metadata": {},
   "outputs": [
    {
     "data": {
      "text/plain": [
       "array([1, 0])"
      ]
     },
     "execution_count": 6,
     "metadata": {},
     "output_type": "execute_result"
    }
   ],
   "source": [
    "# fit on the whole data\n",
    "kmeans = MiniBatchKMeans(n_clusters=2,random_state=0, batch_size=6, max_iter=10).fit(X)\n",
    "kmeans.cluster_centers_\n",
    "kmeans.predict([[0,0],[4,4]])"
   ]
  },
  {
   "cell_type": "code",
   "execution_count": 7,
   "metadata": {},
   "outputs": [],
   "source": [
    "from dataproc.operations.peakShapes import voigtFn"
   ]
  },
  {
   "cell_type": "code",
   "execution_count": 8,
   "metadata": {},
   "outputs": [],
   "source": [
    "# Don't run this!!! Code extracts features which have already been extracted and saved.\n",
    "# And the code takes a while\n",
    "\n",
    "\n",
    "#XX = feat_extr()\n",
    "#np.shape(X)"
   ]
  },
  {
   "cell_type": "markdown",
   "metadata": {},
   "source": [
    "## Trying K-Batch on a just datapoint 175 of the TiNiSn_500C dataset but ...."
   ]
  },
  {
   "cell_type": "code",
   "execution_count": 9,
   "metadata": {},
   "outputs": [],
   "source": [
    "#Reading the file of already extracted features for datapoint 175\n",
    "mmm = pd.read_csv('Params_TiNiSn_500C_0175.csv', names = ['x0','y0','I','alpha','gamma','FWHM','area','area-err','X0'])"
   ]
  },
  {
   "cell_type": "code",
   "execution_count": 10,
   "metadata": {},
   "outputs": [
    {
     "data": {
      "text/html": [
       "<div>\n",
       "<style scoped>\n",
       "    .dataframe tbody tr th:only-of-type {\n",
       "        vertical-align: middle;\n",
       "    }\n",
       "\n",
       "    .dataframe tbody tr th {\n",
       "        vertical-align: top;\n",
       "    }\n",
       "\n",
       "    .dataframe thead th {\n",
       "        text-align: right;\n",
       "    }\n",
       "</style>\n",
       "<table border=\"1\" class=\"dataframe\">\n",
       "  <thead>\n",
       "    <tr style=\"text-align: right;\">\n",
       "      <th></th>\n",
       "      <th>x0</th>\n",
       "      <th>y0</th>\n",
       "      <th>I</th>\n",
       "      <th>alpha</th>\n",
       "      <th>gamma</th>\n",
       "      <th>FWHM</th>\n",
       "      <th>area</th>\n",
       "      <th>area-err</th>\n",
       "      <th>X0</th>\n",
       "    </tr>\n",
       "  </thead>\n",
       "  <tbody>\n",
       "    <tr>\n",
       "      <th>0</th>\n",
       "      <td>1.659918</td>\n",
       "      <td>0.003452</td>\n",
       "      <td>1.996841e-01</td>\n",
       "      <td>2.996731e-02</td>\n",
       "      <td>8.472254e-24</td>\n",
       "      <td>0.070568</td>\n",
       "      <td>0.199670</td>\n",
       "      <td>1.073183e-11</td>\n",
       "      <td>1.659918</td>\n",
       "    </tr>\n",
       "    <tr>\n",
       "      <th>1</th>\n",
       "      <td>1.738750</td>\n",
       "      <td>-2.089492</td>\n",
       "      <td>3.475774e+00</td>\n",
       "      <td>5.625001e-02</td>\n",
       "      <td>5.625001e-02</td>\n",
       "      <td>0.202358</td>\n",
       "      <td>0.842805</td>\n",
       "      <td>1.037732e-12</td>\n",
       "      <td>1.738750</td>\n",
       "    </tr>\n",
       "    <tr>\n",
       "      <th>2</th>\n",
       "      <td>1.576584</td>\n",
       "      <td>-4.968902</td>\n",
       "      <td>6.109925e+00</td>\n",
       "      <td>5.625001e-02</td>\n",
       "      <td>4.406265e-02</td>\n",
       "      <td>0.185246</td>\n",
       "      <td>3.045037</td>\n",
       "      <td>4.489329e-11</td>\n",
       "      <td>1.576584</td>\n",
       "    </tr>\n",
       "    <tr>\n",
       "      <th>3</th>\n",
       "      <td>1.738750</td>\n",
       "      <td>-4.976522</td>\n",
       "      <td>1.805598e+00</td>\n",
       "      <td>5.625001e-02</td>\n",
       "      <td>5.625001e-02</td>\n",
       "      <td>0.202358</td>\n",
       "      <td>-0.437670</td>\n",
       "      <td>5.390828e-13</td>\n",
       "      <td>1.738750</td>\n",
       "    </tr>\n",
       "    <tr>\n",
       "      <th>4</th>\n",
       "      <td>1.795106</td>\n",
       "      <td>-10.953411</td>\n",
       "      <td>1.864876e+00</td>\n",
       "      <td>1.592713e-02</td>\n",
       "      <td>1.364628e-02</td>\n",
       "      <td>0.054067</td>\n",
       "      <td>-0.310099</td>\n",
       "      <td>1.862917e-10</td>\n",
       "      <td>1.795106</td>\n",
       "    </tr>\n",
       "    <tr>\n",
       "      <th>5</th>\n",
       "      <td>1.847596</td>\n",
       "      <td>16.683967</td>\n",
       "      <td>5.149456e-01</td>\n",
       "      <td>4.499585e-02</td>\n",
       "      <td>2.325473e-02</td>\n",
       "      <td>0.132399</td>\n",
       "      <td>3.398985</td>\n",
       "      <td>1.847461e-11</td>\n",
       "      <td>1.847596</td>\n",
       "    </tr>\n",
       "    <tr>\n",
       "      <th>6</th>\n",
       "      <td>1.919902</td>\n",
       "      <td>3.782597</td>\n",
       "      <td>2.085336e-01</td>\n",
       "      <td>2.366059e-02</td>\n",
       "      <td>1.046510e-08</td>\n",
       "      <td>0.055716</td>\n",
       "      <td>0.755172</td>\n",
       "      <td>5.102650e-14</td>\n",
       "      <td>1.919902</td>\n",
       "    </tr>\n",
       "    <tr>\n",
       "      <th>7</th>\n",
       "      <td>1.756939</td>\n",
       "      <td>3.638995</td>\n",
       "      <td>2.549058e-02</td>\n",
       "      <td>1.140298e-02</td>\n",
       "      <td>3.311122e-16</td>\n",
       "      <td>0.026852</td>\n",
       "      <td>0.680362</td>\n",
       "      <td>1.565116e-11</td>\n",
       "      <td>1.756939</td>\n",
       "    </tr>\n",
       "    <tr>\n",
       "      <th>8</th>\n",
       "      <td>2.061912</td>\n",
       "      <td>-9.225684</td>\n",
       "      <td>3.305507e-01</td>\n",
       "      <td>1.351866e-02</td>\n",
       "      <td>2.350804e-33</td>\n",
       "      <td>0.031834</td>\n",
       "      <td>-3.867136</td>\n",
       "      <td>1.179299e-09</td>\n",
       "      <td>2.061912</td>\n",
       "    </tr>\n",
       "    <tr>\n",
       "      <th>9</th>\n",
       "      <td>1.981985</td>\n",
       "      <td>5.989405</td>\n",
       "      <td>5.120476e-02</td>\n",
       "      <td>8.074426e-03</td>\n",
       "      <td>2.157064e-03</td>\n",
       "      <td>0.021329</td>\n",
       "      <td>2.775743</td>\n",
       "      <td>5.278286e-09</td>\n",
       "      <td>1.981985</td>\n",
       "    </tr>\n",
       "    <tr>\n",
       "      <th>10</th>\n",
       "      <td>2.022007</td>\n",
       "      <td>19.055536</td>\n",
       "      <td>6.159749e+00</td>\n",
       "      <td>1.018133e-01</td>\n",
       "      <td>1.305029e-36</td>\n",
       "      <td>0.239752</td>\n",
       "      <td>14.131247</td>\n",
       "      <td>8.706873e-08</td>\n",
       "      <td>2.022007</td>\n",
       "    </tr>\n",
       "    <tr>\n",
       "      <th>11</th>\n",
       "      <td>2.213924</td>\n",
       "      <td>-9.387164</td>\n",
       "      <td>2.774213e-01</td>\n",
       "      <td>5.270987e-02</td>\n",
       "      <td>1.115185e-34</td>\n",
       "      <td>0.124122</td>\n",
       "      <td>-3.993794</td>\n",
       "      <td>8.338103e-10</td>\n",
       "      <td>2.213924</td>\n",
       "    </tr>\n",
       "    <tr>\n",
       "      <th>12</th>\n",
       "      <td>2.617661</td>\n",
       "      <td>0.570209</td>\n",
       "      <td>5.455610e-01</td>\n",
       "      <td>1.163472e-02</td>\n",
       "      <td>2.311777e-02</td>\n",
       "      <td>0.059797</td>\n",
       "      <td>0.461089</td>\n",
       "      <td>2.620182e-12</td>\n",
       "      <td>2.617661</td>\n",
       "    </tr>\n",
       "    <tr>\n",
       "      <th>13</th>\n",
       "      <td>2.373211</td>\n",
       "      <td>2.259785</td>\n",
       "      <td>3.748879e-01</td>\n",
       "      <td>4.749425e-02</td>\n",
       "      <td>3.361070e-32</td>\n",
       "      <td>0.111840</td>\n",
       "      <td>0.736518</td>\n",
       "      <td>8.176995e-15</td>\n",
       "      <td>2.373211</td>\n",
       "    </tr>\n",
       "    <tr>\n",
       "      <th>14</th>\n",
       "      <td>2.510042</td>\n",
       "      <td>-0.321968</td>\n",
       "      <td>1.521011e-01</td>\n",
       "      <td>3.006017e-02</td>\n",
       "      <td>7.824857e-04</td>\n",
       "      <td>0.071573</td>\n",
       "      <td>0.070970</td>\n",
       "      <td>1.261594e-10</td>\n",
       "      <td>2.510042</td>\n",
       "    </tr>\n",
       "    <tr>\n",
       "      <th>15</th>\n",
       "      <td>2.450832</td>\n",
       "      <td>-0.322783</td>\n",
       "      <td>6.003693e-02</td>\n",
       "      <td>1.467413e-02</td>\n",
       "      <td>4.917840e-35</td>\n",
       "      <td>0.034555</td>\n",
       "      <td>-0.020659</td>\n",
       "      <td>3.259456e-09</td>\n",
       "      <td>2.450832</td>\n",
       "    </tr>\n",
       "    <tr>\n",
       "      <th>16</th>\n",
       "      <td>2.923219</td>\n",
       "      <td>6.951323</td>\n",
       "      <td>4.751569e+01</td>\n",
       "      <td>1.337610e-02</td>\n",
       "      <td>1.533348e-02</td>\n",
       "      <td>0.050980</td>\n",
       "      <td>50.138033</td>\n",
       "      <td>4.635206e-08</td>\n",
       "      <td>2.923219</td>\n",
       "    </tr>\n",
       "    <tr>\n",
       "      <th>17</th>\n",
       "      <td>2.943500</td>\n",
       "      <td>11.223695</td>\n",
       "      <td>1.160086e-26</td>\n",
       "      <td>1.500000e-01</td>\n",
       "      <td>1.500000e-01</td>\n",
       "      <td>0.539620</td>\n",
       "      <td>6.734218</td>\n",
       "      <td>7.476484e-14</td>\n",
       "      <td>2.943500</td>\n",
       "    </tr>\n",
       "    <tr>\n",
       "      <th>18</th>\n",
       "      <td>2.955472</td>\n",
       "      <td>-7.606622</td>\n",
       "      <td>2.095768e-26</td>\n",
       "      <td>1.402569e-01</td>\n",
       "      <td>1.500000e-01</td>\n",
       "      <td>0.518695</td>\n",
       "      <td>-4.563974</td>\n",
       "      <td>5.067029e-14</td>\n",
       "      <td>2.955472</td>\n",
       "    </tr>\n",
       "    <tr>\n",
       "      <th>19</th>\n",
       "      <td>2.959135</td>\n",
       "      <td>-6.642736</td>\n",
       "      <td>2.882626e-26</td>\n",
       "      <td>1.449150e-01</td>\n",
       "      <td>1.449150e-01</td>\n",
       "      <td>0.521327</td>\n",
       "      <td>-3.985642</td>\n",
       "      <td>4.424952e-14</td>\n",
       "      <td>2.959135</td>\n",
       "    </tr>\n",
       "    <tr>\n",
       "      <th>20</th>\n",
       "      <td>3.433874</td>\n",
       "      <td>0.793625</td>\n",
       "      <td>1.175353e+00</td>\n",
       "      <td>2.673572e-02</td>\n",
       "      <td>1.788101e-13</td>\n",
       "      <td>0.062958</td>\n",
       "      <td>1.822157</td>\n",
       "      <td>2.560000e-11</td>\n",
       "      <td>3.433874</td>\n",
       "    </tr>\n",
       "    <tr>\n",
       "      <th>21</th>\n",
       "      <td>3.507628</td>\n",
       "      <td>1.675120</td>\n",
       "      <td>3.239935e+00</td>\n",
       "      <td>7.680429e-06</td>\n",
       "      <td>9.160273e-02</td>\n",
       "      <td>0.183204</td>\n",
       "      <td>4.096209</td>\n",
       "      <td>1.986901e-12</td>\n",
       "      <td>3.507628</td>\n",
       "    </tr>\n",
       "    <tr>\n",
       "      <th>22</th>\n",
       "      <td>3.603392</td>\n",
       "      <td>1.747397</td>\n",
       "      <td>5.529693e+00</td>\n",
       "      <td>1.815915e-01</td>\n",
       "      <td>1.214221e-26</td>\n",
       "      <td>0.427615</td>\n",
       "      <td>6.895026</td>\n",
       "      <td>5.303100e-08</td>\n",
       "      <td>3.603392</td>\n",
       "    </tr>\n",
       "    <tr>\n",
       "      <th>23</th>\n",
       "      <td>3.358392</td>\n",
       "      <td>1.776890</td>\n",
       "      <td>1.790656e+00</td>\n",
       "      <td>1.368860e-13</td>\n",
       "      <td>9.761914e-02</td>\n",
       "      <td>0.195238</td>\n",
       "      <td>2.771996</td>\n",
       "      <td>3.077534e-14</td>\n",
       "      <td>3.358392</td>\n",
       "    </tr>\n",
       "    <tr>\n",
       "      <th>24</th>\n",
       "      <td>4.144692</td>\n",
       "      <td>75.671282</td>\n",
       "      <td>8.192441e+00</td>\n",
       "      <td>1.922825e-02</td>\n",
       "      <td>1.602029e-02</td>\n",
       "      <td>0.064642</td>\n",
       "      <td>26.746674</td>\n",
       "      <td>1.782074e-09</td>\n",
       "      <td>4.144692</td>\n",
       "    </tr>\n",
       "    <tr>\n",
       "      <th>25</th>\n",
       "      <td>4.044755</td>\n",
       "      <td>-26.506614</td>\n",
       "      <td>2.705456e-01</td>\n",
       "      <td>5.626661e-02</td>\n",
       "      <td>1.636694e-05</td>\n",
       "      <td>0.132514</td>\n",
       "      <td>-6.652360</td>\n",
       "      <td>8.008455e-10</td>\n",
       "      <td>4.044755</td>\n",
       "    </tr>\n",
       "    <tr>\n",
       "      <th>26</th>\n",
       "      <td>4.219672</td>\n",
       "      <td>-25.716847</td>\n",
       "      <td>5.592230e-02</td>\n",
       "      <td>2.420159e-02</td>\n",
       "      <td>8.385439e-14</td>\n",
       "      <td>0.056990</td>\n",
       "      <td>-6.501875</td>\n",
       "      <td>5.114021e-08</td>\n",
       "      <td>4.219672</td>\n",
       "    </tr>\n",
       "    <tr>\n",
       "      <th>27</th>\n",
       "      <td>4.130128</td>\n",
       "      <td>-22.960253</td>\n",
       "      <td>2.818661e-02</td>\n",
       "      <td>6.924917e-03</td>\n",
       "      <td>1.084042e-08</td>\n",
       "      <td>0.016307</td>\n",
       "      <td>-5.826679</td>\n",
       "      <td>1.731809e-10</td>\n",
       "      <td>4.130128</td>\n",
       "    </tr>\n",
       "    <tr>\n",
       "      <th>28</th>\n",
       "      <td>4.527699</td>\n",
       "      <td>0.102014</td>\n",
       "      <td>5.757790e-01</td>\n",
       "      <td>3.357780e-20</td>\n",
       "      <td>2.910237e-02</td>\n",
       "      <td>0.058205</td>\n",
       "      <td>0.506731</td>\n",
       "      <td>1.309434e-09</td>\n",
       "      <td>4.527699</td>\n",
       "    </tr>\n",
       "    <tr>\n",
       "      <th>29</th>\n",
       "      <td>4.606108</td>\n",
       "      <td>4.938213</td>\n",
       "      <td>3.241145e-01</td>\n",
       "      <td>3.355086e-02</td>\n",
       "      <td>5.687933e-06</td>\n",
       "      <td>0.079012</td>\n",
       "      <td>1.506289</td>\n",
       "      <td>5.671890e-11</td>\n",
       "      <td>4.606108</td>\n",
       "    </tr>\n",
       "    <tr>\n",
       "      <th>30</th>\n",
       "      <td>4.312566</td>\n",
       "      <td>-2.364341</td>\n",
       "      <td>4.590103e-02</td>\n",
       "      <td>1.358573e-02</td>\n",
       "      <td>6.177809e-04</td>\n",
       "      <td>0.032616</td>\n",
       "      <td>-0.646391</td>\n",
       "      <td>2.845514e-10</td>\n",
       "      <td>4.312566</td>\n",
       "    </tr>\n",
       "    <tr>\n",
       "      <th>31</th>\n",
       "      <td>4.499047</td>\n",
       "      <td>-2.352114</td>\n",
       "      <td>2.477046e-01</td>\n",
       "      <td>2.155700e-02</td>\n",
       "      <td>3.914079e-21</td>\n",
       "      <td>0.050763</td>\n",
       "      <td>-0.410887</td>\n",
       "      <td>2.658128e-14</td>\n",
       "      <td>4.499047</td>\n",
       "    </tr>\n",
       "    <tr>\n",
       "      <th>32</th>\n",
       "      <td>5.070396</td>\n",
       "      <td>-36.333067</td>\n",
       "      <td>1.745929e+01</td>\n",
       "      <td>2.239134e-02</td>\n",
       "      <td>2.714616e-02</td>\n",
       "      <td>0.087544</td>\n",
       "      <td>-15.557386</td>\n",
       "      <td>1.654326e-09</td>\n",
       "      <td>5.070396</td>\n",
       "    </tr>\n",
       "    <tr>\n",
       "      <th>33</th>\n",
       "      <td>5.092171</td>\n",
       "      <td>145.078773</td>\n",
       "      <td>2.555563e+01</td>\n",
       "      <td>1.660887e-01</td>\n",
       "      <td>4.876298e-29</td>\n",
       "      <td>0.391109</td>\n",
       "      <td>154.611120</td>\n",
       "      <td>1.716528e-12</td>\n",
       "      <td>5.092171</td>\n",
       "    </tr>\n",
       "    <tr>\n",
       "      <th>34</th>\n",
       "      <td>5.376752</td>\n",
       "      <td>-51.696700</td>\n",
       "      <td>1.086272e+00</td>\n",
       "      <td>2.920275e-02</td>\n",
       "      <td>2.351550e-02</td>\n",
       "      <td>0.097050</td>\n",
       "      <td>-45.007040</td>\n",
       "      <td>2.729343e-12</td>\n",
       "      <td>5.376752</td>\n",
       "    </tr>\n",
       "    <tr>\n",
       "      <th>35</th>\n",
       "      <td>4.855826</td>\n",
       "      <td>-57.702910</td>\n",
       "      <td>7.439607e+00</td>\n",
       "      <td>1.640063e-01</td>\n",
       "      <td>2.225000e-01</td>\n",
       "      <td>0.677167</td>\n",
       "      <td>-46.645615</td>\n",
       "      <td>4.534729e-11</td>\n",
       "      <td>4.855826</td>\n",
       "    </tr>\n",
       "  </tbody>\n",
       "</table>\n",
       "</div>"
      ],
      "text/plain": [
       "          x0          y0             I         alpha         gamma      FWHM  \\\n",
       "0   1.659918    0.003452  1.996841e-01  2.996731e-02  8.472254e-24  0.070568   \n",
       "1   1.738750   -2.089492  3.475774e+00  5.625001e-02  5.625001e-02  0.202358   \n",
       "2   1.576584   -4.968902  6.109925e+00  5.625001e-02  4.406265e-02  0.185246   \n",
       "3   1.738750   -4.976522  1.805598e+00  5.625001e-02  5.625001e-02  0.202358   \n",
       "4   1.795106  -10.953411  1.864876e+00  1.592713e-02  1.364628e-02  0.054067   \n",
       "5   1.847596   16.683967  5.149456e-01  4.499585e-02  2.325473e-02  0.132399   \n",
       "6   1.919902    3.782597  2.085336e-01  2.366059e-02  1.046510e-08  0.055716   \n",
       "7   1.756939    3.638995  2.549058e-02  1.140298e-02  3.311122e-16  0.026852   \n",
       "8   2.061912   -9.225684  3.305507e-01  1.351866e-02  2.350804e-33  0.031834   \n",
       "9   1.981985    5.989405  5.120476e-02  8.074426e-03  2.157064e-03  0.021329   \n",
       "10  2.022007   19.055536  6.159749e+00  1.018133e-01  1.305029e-36  0.239752   \n",
       "11  2.213924   -9.387164  2.774213e-01  5.270987e-02  1.115185e-34  0.124122   \n",
       "12  2.617661    0.570209  5.455610e-01  1.163472e-02  2.311777e-02  0.059797   \n",
       "13  2.373211    2.259785  3.748879e-01  4.749425e-02  3.361070e-32  0.111840   \n",
       "14  2.510042   -0.321968  1.521011e-01  3.006017e-02  7.824857e-04  0.071573   \n",
       "15  2.450832   -0.322783  6.003693e-02  1.467413e-02  4.917840e-35  0.034555   \n",
       "16  2.923219    6.951323  4.751569e+01  1.337610e-02  1.533348e-02  0.050980   \n",
       "17  2.943500   11.223695  1.160086e-26  1.500000e-01  1.500000e-01  0.539620   \n",
       "18  2.955472   -7.606622  2.095768e-26  1.402569e-01  1.500000e-01  0.518695   \n",
       "19  2.959135   -6.642736  2.882626e-26  1.449150e-01  1.449150e-01  0.521327   \n",
       "20  3.433874    0.793625  1.175353e+00  2.673572e-02  1.788101e-13  0.062958   \n",
       "21  3.507628    1.675120  3.239935e+00  7.680429e-06  9.160273e-02  0.183204   \n",
       "22  3.603392    1.747397  5.529693e+00  1.815915e-01  1.214221e-26  0.427615   \n",
       "23  3.358392    1.776890  1.790656e+00  1.368860e-13  9.761914e-02  0.195238   \n",
       "24  4.144692   75.671282  8.192441e+00  1.922825e-02  1.602029e-02  0.064642   \n",
       "25  4.044755  -26.506614  2.705456e-01  5.626661e-02  1.636694e-05  0.132514   \n",
       "26  4.219672  -25.716847  5.592230e-02  2.420159e-02  8.385439e-14  0.056990   \n",
       "27  4.130128  -22.960253  2.818661e-02  6.924917e-03  1.084042e-08  0.016307   \n",
       "28  4.527699    0.102014  5.757790e-01  3.357780e-20  2.910237e-02  0.058205   \n",
       "29  4.606108    4.938213  3.241145e-01  3.355086e-02  5.687933e-06  0.079012   \n",
       "30  4.312566   -2.364341  4.590103e-02  1.358573e-02  6.177809e-04  0.032616   \n",
       "31  4.499047   -2.352114  2.477046e-01  2.155700e-02  3.914079e-21  0.050763   \n",
       "32  5.070396  -36.333067  1.745929e+01  2.239134e-02  2.714616e-02  0.087544   \n",
       "33  5.092171  145.078773  2.555563e+01  1.660887e-01  4.876298e-29  0.391109   \n",
       "34  5.376752  -51.696700  1.086272e+00  2.920275e-02  2.351550e-02  0.097050   \n",
       "35  4.855826  -57.702910  7.439607e+00  1.640063e-01  2.225000e-01  0.677167   \n",
       "\n",
       "          area      area-err        X0  \n",
       "0     0.199670  1.073183e-11  1.659918  \n",
       "1     0.842805  1.037732e-12  1.738750  \n",
       "2     3.045037  4.489329e-11  1.576584  \n",
       "3    -0.437670  5.390828e-13  1.738750  \n",
       "4    -0.310099  1.862917e-10  1.795106  \n",
       "5     3.398985  1.847461e-11  1.847596  \n",
       "6     0.755172  5.102650e-14  1.919902  \n",
       "7     0.680362  1.565116e-11  1.756939  \n",
       "8    -3.867136  1.179299e-09  2.061912  \n",
       "9     2.775743  5.278286e-09  1.981985  \n",
       "10   14.131247  8.706873e-08  2.022007  \n",
       "11   -3.993794  8.338103e-10  2.213924  \n",
       "12    0.461089  2.620182e-12  2.617661  \n",
       "13    0.736518  8.176995e-15  2.373211  \n",
       "14    0.070970  1.261594e-10  2.510042  \n",
       "15   -0.020659  3.259456e-09  2.450832  \n",
       "16   50.138033  4.635206e-08  2.923219  \n",
       "17    6.734218  7.476484e-14  2.943500  \n",
       "18   -4.563974  5.067029e-14  2.955472  \n",
       "19   -3.985642  4.424952e-14  2.959135  \n",
       "20    1.822157  2.560000e-11  3.433874  \n",
       "21    4.096209  1.986901e-12  3.507628  \n",
       "22    6.895026  5.303100e-08  3.603392  \n",
       "23    2.771996  3.077534e-14  3.358392  \n",
       "24   26.746674  1.782074e-09  4.144692  \n",
       "25   -6.652360  8.008455e-10  4.044755  \n",
       "26   -6.501875  5.114021e-08  4.219672  \n",
       "27   -5.826679  1.731809e-10  4.130128  \n",
       "28    0.506731  1.309434e-09  4.527699  \n",
       "29    1.506289  5.671890e-11  4.606108  \n",
       "30   -0.646391  2.845514e-10  4.312566  \n",
       "31   -0.410887  2.658128e-14  4.499047  \n",
       "32  -15.557386  1.654326e-09  5.070396  \n",
       "33  154.611120  1.716528e-12  5.092171  \n",
       "34  -45.007040  2.729343e-12  5.376752  \n",
       "35  -46.645615  4.534729e-11  4.855826  "
      ]
     },
     "execution_count": 10,
     "metadata": {},
     "output_type": "execute_result"
    }
   ],
   "source": [
    "mmm"
   ]
  },
  {
   "cell_type": "code",
   "execution_count": 11,
   "metadata": {},
   "outputs": [
    {
     "data": {
      "text/plain": [
       "[<matplotlib.lines.Line2D at 0x1f40890aa88>]"
      ]
     },
     "execution_count": 11,
     "metadata": {},
     "output_type": "execute_result"
    },
    {
     "data": {
      "image/png": "[encoded data removed]",
      "text/plain": [
       "<Figure size 432x288 with 1 Axes>"
      ]
     },
     "metadata": {
      "needs_background": "light"
     },
     "output_type": "display_data"
    }
   ],
   "source": [
    "plt.plot(mmm['x0'].values,mmm['y0'].values)\n",
    "plt.plot(mmm['x0'].values,mmm['I'].values)"
   ]
  },
  {
   "cell_type": "code",
   "execution_count": 23,
   "metadata": {},
   "outputs": [],
   "source": [
    "# I might be doing the wrong thing here. XX shd contain the extracted features for the 177 datapoints from TiNiSn_500C\n",
    "#but I already commented out the part that defines XX\n",
    "# I still don't understand why I wanted to fit those featured with MiniBatchKMeans. Some beginners' issues here lol\n",
    "\n",
    "\n",
    "# XX = np.array(XX) \n",
    "# clustr = MiniBatchKMeans(n_clusters=3, random_state=0, batch_size=6)\n",
    "# mm = int(len(XX)/2)\n",
    "# clustr = clustr.partial_fit(XX[0:mm,:])\n",
    "# clustr = clustr.partial_fit(XX[mm:len(X),:])\n",
    "# clustr.cluster_centers_\n",
    "# clustr.predict([[0, 0], [4, 4]])"
   ]
  },
  {
   "cell_type": "code",
   "execution_count": 24,
   "metadata": {},
   "outputs": [],
   "source": [
    "# # fit on the whole data\n",
    "\n",
    "# clustr = MiniBatchKMeans(n_clusters=2,random_state=0, batch_size=6, max_iter=10).fit(XX)\n",
    "# clustr.cluster_centers_\n",
    "# clustr.predict([[0,0],[4,4]])"
   ]
  },
  {
   "cell_type": "code",
   "execution_count": 31,
   "metadata": {},
   "outputs": [
    {
     "name": "stdout",
     "output_type": "stream",
     "text": [
      "C:/Users/oluwa/Downloads\\TiNiSn_500C_Y20190218_14x14_t60_0001_bkgdSub_1D.csv\n",
      "C:/Users/oluwa/Downloads\\TiNiSn_500C_Y20190218_14x14_t60_0002_bkgdSub_1D.csv\n",
      "C:/Users/oluwa/Downloads\\TiNiSn_500C_Y20190218_14x14_t60_0003_bkgdSub_1D.csv\n"
     ]
    }
   ],
   "source": [
    "# Just trying some naming stuff for my feat_extr() script\n",
    "for I in range(1,4):\n",
    "        if I > 99:\n",
    "            II = \"0\" + str(I)\n",
    "        elif I > 9:\n",
    "            II = \"00\" + str(I)\n",
    "        else: \n",
    "            II = \"000\" + str(I)\n",
    "            \n",
    "        filename = \"C:/Users/oluwa/Downloads\\TiNiSn_500C_Y20190218_14x14_t60_\" + II + \"_bkgdSub_1D.csv\"\n",
    "        print(filename)\n",
    "    "
   ]
  },
  {
   "cell_type": "code",
   "execution_count": 26,
   "metadata": {},
   "outputs": [],
   "source": [
    "II='0175'"
   ]
  },
  {
   "cell_type": "code",
   "execution_count": 27,
   "metadata": {},
   "outputs": [],
   "source": [
    "#np.savetxt('Params_TiNiSn_500C_' + II +'.csv',fullp,delimiter =',')"
   ]
  },
  {
   "cell_type": "code",
   "execution_count": 28,
   "metadata": {},
   "outputs": [
    {
     "data": {
      "text/plain": [
       "9"
      ]
     },
     "execution_count": 28,
     "metadata": {},
     "output_type": "execute_result"
    }
   ],
   "source": [
    "len(mmm.keys())"
   ]
  },
  {
   "cell_type": "code",
   "execution_count": 29,
   "metadata": {},
   "outputs": [
    {
     "data": {
      "text/plain": [
       "(36, 9)"
      ]
     },
     "execution_count": 29,
     "metadata": {},
     "output_type": "execute_result"
    }
   ],
   "source": [
    "np.shape(mmm)"
   ]
  },
  {
   "cell_type": "code",
   "execution_count": 30,
   "metadata": {},
   "outputs": [
    {
     "data": {
      "text/plain": [
       "Index(['x0', 'y0', 'I', 'alpha', 'gamma', 'FWHM', 'area', 'area-err', 'X0'], dtype='object')"
      ]
     },
     "execution_count": 30,
     "metadata": {},
     "output_type": "execute_result"
    }
   ],
   "source": [
    "mmm.keys()"
   ]
  }
 ],
 "metadata": {
  "kernelspec": {
   "display_name": "Python 3",
   "language": "python",
   "name": "python3"
  },
  "language_info": {
   "codemirror_mode": {
    "name": "ipython",
    "version": 3
   },
   "file_extension": ".py",
   "mimetype": "text/x-python",
   "name": "python",
   "nbconvert_exporter": "python",
   "pygments_lexer": "ipython3",
   "version": "3.7.6"
  }
 },
 "nbformat": 4,
 "nbformat_minor": 4
}
